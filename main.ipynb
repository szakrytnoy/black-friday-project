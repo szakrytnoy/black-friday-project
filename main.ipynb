{
 "cells": [
  {
   "cell_type": "code",
   "execution_count": 1,
   "metadata": {},
   "outputs": [],
   "source": [
    "import pandas as pd"
   ]
  },
  {
   "cell_type": "code",
   "execution_count": 2,
   "metadata": {},
   "outputs": [
    {
     "name": "stdout",
     "output_type": "stream",
     "text": [
      "Number of observations 537577\n"
     ]
    },
    {
     "data": {
      "text/html": [
       "<div>\n",
       "<style scoped>\n",
       "    .dataframe tbody tr th:only-of-type {\n",
       "        vertical-align: middle;\n",
       "    }\n",
       "\n",
       "    .dataframe tbody tr th {\n",
       "        vertical-align: top;\n",
       "    }\n",
       "\n",
       "    .dataframe thead th {\n",
       "        text-align: right;\n",
       "    }\n",
       "</style>\n",
       "<table border=\"1\" class=\"dataframe\">\n",
       "  <thead>\n",
       "    <tr style=\"text-align: right;\">\n",
       "      <th></th>\n",
       "      <th>User_ID</th>\n",
       "      <th>Product_ID</th>\n",
       "      <th>Gender</th>\n",
       "      <th>Age</th>\n",
       "      <th>Occupation</th>\n",
       "      <th>City_Category</th>\n",
       "      <th>Stay_In_Current_City_Years</th>\n",
       "      <th>Marital_Status</th>\n",
       "      <th>Product_Category_1</th>\n",
       "      <th>Product_Category_2</th>\n",
       "      <th>Product_Category_3</th>\n",
       "      <th>Purchase</th>\n",
       "    </tr>\n",
       "  </thead>\n",
       "  <tbody>\n",
       "    <tr>\n",
       "      <th>0</th>\n",
       "      <td>1000001</td>\n",
       "      <td>P00069042</td>\n",
       "      <td>F</td>\n",
       "      <td>0-17</td>\n",
       "      <td>10</td>\n",
       "      <td>A</td>\n",
       "      <td>2</td>\n",
       "      <td>0</td>\n",
       "      <td>3</td>\n",
       "      <td>NaN</td>\n",
       "      <td>NaN</td>\n",
       "      <td>8370</td>\n",
       "    </tr>\n",
       "    <tr>\n",
       "      <th>1</th>\n",
       "      <td>1000001</td>\n",
       "      <td>P00248942</td>\n",
       "      <td>F</td>\n",
       "      <td>0-17</td>\n",
       "      <td>10</td>\n",
       "      <td>A</td>\n",
       "      <td>2</td>\n",
       "      <td>0</td>\n",
       "      <td>1</td>\n",
       "      <td>6.0</td>\n",
       "      <td>14.0</td>\n",
       "      <td>15200</td>\n",
       "    </tr>\n",
       "    <tr>\n",
       "      <th>2</th>\n",
       "      <td>1000001</td>\n",
       "      <td>P00087842</td>\n",
       "      <td>F</td>\n",
       "      <td>0-17</td>\n",
       "      <td>10</td>\n",
       "      <td>A</td>\n",
       "      <td>2</td>\n",
       "      <td>0</td>\n",
       "      <td>12</td>\n",
       "      <td>NaN</td>\n",
       "      <td>NaN</td>\n",
       "      <td>1422</td>\n",
       "    </tr>\n",
       "  </tbody>\n",
       "</table>\n",
       "</div>"
      ],
      "text/plain": [
       "   User_ID Product_ID Gender   Age  Occupation City_Category  \\\n",
       "0  1000001  P00069042      F  0-17          10             A   \n",
       "1  1000001  P00248942      F  0-17          10             A   \n",
       "2  1000001  P00087842      F  0-17          10             A   \n",
       "\n",
       "  Stay_In_Current_City_Years  Marital_Status  Product_Category_1  \\\n",
       "0                          2               0                   3   \n",
       "1                          2               0                   1   \n",
       "2                          2               0                  12   \n",
       "\n",
       "   Product_Category_2  Product_Category_3  Purchase  \n",
       "0                 NaN                 NaN      8370  \n",
       "1                 6.0                14.0     15200  \n",
       "2                 NaN                 NaN      1422  "
      ]
     },
     "execution_count": 2,
     "metadata": {},
     "output_type": "execute_result"
    }
   ],
   "source": [
    "data = pd.read_csv('BlackFriday.csv', engine = 'python')\n",
    "print('Number of observations',len(data))\n",
    "data.head(3)"
   ]
  },
  {
   "cell_type": "code",
   "execution_count": 3,
   "metadata": {},
   "outputs": [
    {
     "data": {
      "text/html": [
       "<div>\n",
       "<style scoped>\n",
       "    .dataframe tbody tr th:only-of-type {\n",
       "        vertical-align: middle;\n",
       "    }\n",
       "\n",
       "    .dataframe tbody tr th {\n",
       "        vertical-align: top;\n",
       "    }\n",
       "\n",
       "    .dataframe thead th {\n",
       "        text-align: right;\n",
       "    }\n",
       "</style>\n",
       "<table border=\"1\" class=\"dataframe\">\n",
       "  <thead>\n",
       "    <tr style=\"text-align: right;\">\n",
       "      <th></th>\n",
       "      <th>user_id</th>\n",
       "      <th>gender</th>\n",
       "      <th>age</th>\n",
       "      <th>occupation</th>\n",
       "      <th>city</th>\n",
       "      <th>years_in_city</th>\n",
       "      <th>marital_status</th>\n",
       "      <th>product_category</th>\n",
       "      <th>amount</th>\n",
       "    </tr>\n",
       "  </thead>\n",
       "  <tbody>\n",
       "    <tr>\n",
       "      <th>0</th>\n",
       "      <td>1000001</td>\n",
       "      <td>F</td>\n",
       "      <td>0-17</td>\n",
       "      <td>10</td>\n",
       "      <td>A</td>\n",
       "      <td>2</td>\n",
       "      <td>0</td>\n",
       "      <td>3</td>\n",
       "      <td>0.558000</td>\n",
       "    </tr>\n",
       "    <tr>\n",
       "      <th>1</th>\n",
       "      <td>1000001</td>\n",
       "      <td>F</td>\n",
       "      <td>0-17</td>\n",
       "      <td>10</td>\n",
       "      <td>A</td>\n",
       "      <td>2</td>\n",
       "      <td>0</td>\n",
       "      <td>1</td>\n",
       "      <td>1.013333</td>\n",
       "    </tr>\n",
       "    <tr>\n",
       "      <th>2</th>\n",
       "      <td>1000001</td>\n",
       "      <td>F</td>\n",
       "      <td>0-17</td>\n",
       "      <td>10</td>\n",
       "      <td>A</td>\n",
       "      <td>2</td>\n",
       "      <td>0</td>\n",
       "      <td>12</td>\n",
       "      <td>0.094800</td>\n",
       "    </tr>\n",
       "  </tbody>\n",
       "</table>\n",
       "</div>"
      ],
      "text/plain": [
       "   user_id gender   age  occupation city years_in_city  marital_status  \\\n",
       "0  1000001      F  0-17          10    A             2               0   \n",
       "1  1000001      F  0-17          10    A             2               0   \n",
       "2  1000001      F  0-17          10    A             2               0   \n",
       "\n",
       "   product_category    amount  \n",
       "0                 3  0.558000  \n",
       "1                 1  1.013333  \n",
       "2                12  0.094800  "
      ]
     },
     "execution_count": 3,
     "metadata": {},
     "output_type": "execute_result"
    }
   ],
   "source": [
    "data.drop(['Product_ID', 'Product_Category_2', 'Product_Category_3'], axis = 1, inplace = True)\n",
    "data.rename({'User_ID':'user_id',\n",
    "             'Gender':'gender',\n",
    "             'Age':'age',\n",
    "             'Occupation':'occupation',\n",
    "             'City_Category':'city',\n",
    "             'Stay_In_Current_City_Years':'years_in_city',\n",
    "             'Marital_Status':'marital_status',\n",
    "             'Product_Category_1':'product_category',\n",
    "             'Purchase':'amount'}, axis='columns', inplace = True)\n",
    "data['amount'] /= 15000\n",
    "data.head(3)"
   ]
  },
  {
   "cell_type": "code",
   "execution_count": 4,
   "metadata": {},
   "outputs": [],
   "source": [
    "import matplotlib.pyplot as plt"
   ]
  },
  {
   "cell_type": "code",
   "execution_count": 5,
   "metadata": {},
   "outputs": [
    {
     "data": {
      "text/plain": [
       "Text(0.5,1,'Product Category')"
      ]
     },
     "execution_count": 5,
     "metadata": {},
     "output_type": "execute_result"
    },
    {
     "data": {
      "image/png": "[encoded data removed]",
      "text/plain": [
       "<Figure size 432x288 with 1 Axes>"
      ]
     },
     "metadata": {},
     "output_type": "display_data"
    }
   ],
   "source": [
    "unique_cat = len(data.product_category.value_counts())\n",
    "\n",
    "plt.hist(data.product_category, bins=unique_cat)\n",
    "plt.ylabel('Frequency')\n",
    "plt.xticks(range(1, unique_cat+1))\n",
    "plt.title('Product Category')"
   ]
  },
  {
   "cell_type": "code",
   "execution_count": 6,
   "metadata": {},
   "outputs": [],
   "source": [
    "import seaborn as sns"
   ]
  },
  {
   "cell_type": "code",
   "execution_count": 7,
   "metadata": {},
   "outputs": [
    {
     "data": {
      "text/plain": [
       "<matplotlib.axes._subplots.AxesSubplot at 0x177f463afd0>"
      ]
     },
     "execution_count": 7,
     "metadata": {},
     "output_type": "execute_result"
    },
    {
     "data": {
      "image/png": "[encoded data removed]",
      "text/plain": [
       "<Figure size 432x288 with 1 Axes>"
      ]
     },
     "metadata": {},
     "output_type": "display_data"
    }
   ],
   "source": [
    "sns.countplot(x='gender', hue='age', data=data)"
   ]
  },
  {
   "cell_type": "code",
   "execution_count": 8,
   "metadata": {},
   "outputs": [
    {
     "data": {
      "text/html": [
       "<div>\n",
       "<style scoped>\n",
       "    .dataframe tbody tr th:only-of-type {\n",
       "        vertical-align: middle;\n",
       "    }\n",
       "\n",
       "    .dataframe tbody tr th {\n",
       "        vertical-align: top;\n",
       "    }\n",
       "\n",
       "    .dataframe thead th {\n",
       "        text-align: right;\n",
       "    }\n",
       "</style>\n",
       "<table border=\"1\" class=\"dataframe\">\n",
       "  <thead>\n",
       "    <tr style=\"text-align: right;\">\n",
       "      <th></th>\n",
       "      <th>user_id</th>\n",
       "      <th>gender</th>\n",
       "      <th>age</th>\n",
       "      <th>occupation</th>\n",
       "      <th>city</th>\n",
       "      <th>years_in_city</th>\n",
       "      <th>marital_status</th>\n",
       "      <th>amount</th>\n",
       "      <th>product_category_1</th>\n",
       "      <th>product_category_2</th>\n",
       "      <th>...</th>\n",
       "      <th>product_category_9</th>\n",
       "      <th>product_category_10</th>\n",
       "      <th>product_category_11</th>\n",
       "      <th>product_category_12</th>\n",
       "      <th>product_category_13</th>\n",
       "      <th>product_category_14</th>\n",
       "      <th>product_category_15</th>\n",
       "      <th>product_category_16</th>\n",
       "      <th>product_category_17</th>\n",
       "      <th>product_category_18</th>\n",
       "    </tr>\n",
       "  </thead>\n",
       "  <tbody>\n",
       "    <tr>\n",
       "      <th>0</th>\n",
       "      <td>1000001</td>\n",
       "      <td>F</td>\n",
       "      <td>0-17</td>\n",
       "      <td>10</td>\n",
       "      <td>A</td>\n",
       "      <td>2</td>\n",
       "      <td>0</td>\n",
       "      <td>0.558000</td>\n",
       "      <td>0</td>\n",
       "      <td>0</td>\n",
       "      <td>...</td>\n",
       "      <td>0</td>\n",
       "      <td>0</td>\n",
       "      <td>0</td>\n",
       "      <td>0</td>\n",
       "      <td>0</td>\n",
       "      <td>0</td>\n",
       "      <td>0</td>\n",
       "      <td>0</td>\n",
       "      <td>0</td>\n",
       "      <td>0</td>\n",
       "    </tr>\n",
       "    <tr>\n",
       "      <th>1</th>\n",
       "      <td>1000001</td>\n",
       "      <td>F</td>\n",
       "      <td>0-17</td>\n",
       "      <td>10</td>\n",
       "      <td>A</td>\n",
       "      <td>2</td>\n",
       "      <td>0</td>\n",
       "      <td>1.013333</td>\n",
       "      <td>1</td>\n",
       "      <td>0</td>\n",
       "      <td>...</td>\n",
       "      <td>0</td>\n",
       "      <td>0</td>\n",
       "      <td>0</td>\n",
       "      <td>0</td>\n",
       "      <td>0</td>\n",
       "      <td>0</td>\n",
       "      <td>0</td>\n",
       "      <td>0</td>\n",
       "      <td>0</td>\n",
       "      <td>0</td>\n",
       "    </tr>\n",
       "    <tr>\n",
       "      <th>2</th>\n",
       "      <td>1000001</td>\n",
       "      <td>F</td>\n",
       "      <td>0-17</td>\n",
       "      <td>10</td>\n",
       "      <td>A</td>\n",
       "      <td>2</td>\n",
       "      <td>0</td>\n",
       "      <td>0.094800</td>\n",
       "      <td>0</td>\n",
       "      <td>0</td>\n",
       "      <td>...</td>\n",
       "      <td>0</td>\n",
       "      <td>0</td>\n",
       "      <td>0</td>\n",
       "      <td>1</td>\n",
       "      <td>0</td>\n",
       "      <td>0</td>\n",
       "      <td>0</td>\n",
       "      <td>0</td>\n",
       "      <td>0</td>\n",
       "      <td>0</td>\n",
       "    </tr>\n",
       "  </tbody>\n",
       "</table>\n",
       "<p>3 rows × 26 columns</p>\n",
       "</div>"
      ],
      "text/plain": [
       "   user_id gender   age  occupation city years_in_city  marital_status  \\\n",
       "0  1000001      F  0-17          10    A             2               0   \n",
       "1  1000001      F  0-17          10    A             2               0   \n",
       "2  1000001      F  0-17          10    A             2               0   \n",
       "\n",
       "     amount  product_category_1  product_category_2         ...           \\\n",
       "0  0.558000                   0                   0         ...            \n",
       "1  1.013333                   1                   0         ...            \n",
       "2  0.094800                   0                   0         ...            \n",
       "\n",
       "   product_category_9  product_category_10  product_category_11  \\\n",
       "0                   0                    0                    0   \n",
       "1                   0                    0                    0   \n",
       "2                   0                    0                    0   \n",
       "\n",
       "   product_category_12  product_category_13  product_category_14  \\\n",
       "0                    0                    0                    0   \n",
       "1                    0                    0                    0   \n",
       "2                    1                    0                    0   \n",
       "\n",
       "   product_category_15  product_category_16  product_category_17  \\\n",
       "0                    0                    0                    0   \n",
       "1                    0                    0                    0   \n",
       "2                    0                    0                    0   \n",
       "\n",
       "   product_category_18  \n",
       "0                    0  \n",
       "1                    0  \n",
       "2                    0  \n",
       "\n",
       "[3 rows x 26 columns]"
      ]
     },
     "execution_count": 8,
     "metadata": {},
     "output_type": "execute_result"
    }
   ],
   "source": [
    "data = pd.get_dummies(data, columns=['product_category'], prefix = ['product_category'])\n",
    "data.head(3)"
   ]
  },
  {
   "cell_type": "code",
   "execution_count": 9,
   "metadata": {},
   "outputs": [
    {
     "data": {
      "text/html": [
       "<div>\n",
       "<style scoped>\n",
       "    .dataframe tbody tr th:only-of-type {\n",
       "        vertical-align: middle;\n",
       "    }\n",
       "\n",
       "    .dataframe tbody tr th {\n",
       "        vertical-align: top;\n",
       "    }\n",
       "\n",
       "    .dataframe thead th {\n",
       "        text-align: right;\n",
       "    }\n",
       "</style>\n",
       "<table border=\"1\" class=\"dataframe\">\n",
       "  <thead>\n",
       "    <tr style=\"text-align: right;\">\n",
       "      <th></th>\n",
       "      <th>gender</th>\n",
       "      <th>age</th>\n",
       "      <th>occupation</th>\n",
       "      <th>city</th>\n",
       "      <th>years_in_city</th>\n",
       "      <th>marital_status</th>\n",
       "      <th>amount</th>\n",
       "      <th>product_category_1</th>\n",
       "      <th>product_category_2</th>\n",
       "      <th>product_category_3</th>\n",
       "      <th>...</th>\n",
       "      <th>product_category_9</th>\n",
       "      <th>product_category_10</th>\n",
       "      <th>product_category_11</th>\n",
       "      <th>product_category_12</th>\n",
       "      <th>product_category_13</th>\n",
       "      <th>product_category_14</th>\n",
       "      <th>product_category_15</th>\n",
       "      <th>product_category_16</th>\n",
       "      <th>product_category_17</th>\n",
       "      <th>product_category_18</th>\n",
       "    </tr>\n",
       "    <tr>\n",
       "      <th>user_id</th>\n",
       "      <th></th>\n",
       "      <th></th>\n",
       "      <th></th>\n",
       "      <th></th>\n",
       "      <th></th>\n",
       "      <th></th>\n",
       "      <th></th>\n",
       "      <th></th>\n",
       "      <th></th>\n",
       "      <th></th>\n",
       "      <th></th>\n",
       "      <th></th>\n",
       "      <th></th>\n",
       "      <th></th>\n",
       "      <th></th>\n",
       "      <th></th>\n",
       "      <th></th>\n",
       "      <th></th>\n",
       "      <th></th>\n",
       "      <th></th>\n",
       "      <th></th>\n",
       "    </tr>\n",
       "  </thead>\n",
       "  <tbody>\n",
       "    <tr>\n",
       "      <th>1000001</th>\n",
       "      <td>F</td>\n",
       "      <td>0-17</td>\n",
       "      <td>10</td>\n",
       "      <td>A</td>\n",
       "      <td>2</td>\n",
       "      <td>0</td>\n",
       "      <td>22.232067</td>\n",
       "      <td>0.117647</td>\n",
       "      <td>0.029412</td>\n",
       "      <td>0.323529</td>\n",
       "      <td>...</td>\n",
       "      <td>0.0</td>\n",
       "      <td>0.0</td>\n",
       "      <td>0.0</td>\n",
       "      <td>0.088235</td>\n",
       "      <td>0.0</td>\n",
       "      <td>0.029412</td>\n",
       "      <td>0.0</td>\n",
       "      <td>0.029412</td>\n",
       "      <td>0.0</td>\n",
       "      <td>0.000000</td>\n",
       "    </tr>\n",
       "    <tr>\n",
       "      <th>1000002</th>\n",
       "      <td>M</td>\n",
       "      <td>55+</td>\n",
       "      <td>16</td>\n",
       "      <td>C</td>\n",
       "      <td>4+</td>\n",
       "      <td>0</td>\n",
       "      <td>54.023533</td>\n",
       "      <td>0.407895</td>\n",
       "      <td>0.013158</td>\n",
       "      <td>0.000000</td>\n",
       "      <td>...</td>\n",
       "      <td>0.0</td>\n",
       "      <td>0.0</td>\n",
       "      <td>0.0</td>\n",
       "      <td>0.000000</td>\n",
       "      <td>0.0</td>\n",
       "      <td>0.000000</td>\n",
       "      <td>0.0</td>\n",
       "      <td>0.000000</td>\n",
       "      <td>0.0</td>\n",
       "      <td>0.000000</td>\n",
       "    </tr>\n",
       "    <tr>\n",
       "      <th>1000003</th>\n",
       "      <td>M</td>\n",
       "      <td>26-35</td>\n",
       "      <td>15</td>\n",
       "      <td>A</td>\n",
       "      <td>3</td>\n",
       "      <td>0</td>\n",
       "      <td>22.775667</td>\n",
       "      <td>0.517241</td>\n",
       "      <td>0.068966</td>\n",
       "      <td>0.034483</td>\n",
       "      <td>...</td>\n",
       "      <td>0.0</td>\n",
       "      <td>0.0</td>\n",
       "      <td>0.0</td>\n",
       "      <td>0.000000</td>\n",
       "      <td>0.0</td>\n",
       "      <td>0.000000</td>\n",
       "      <td>0.0</td>\n",
       "      <td>0.000000</td>\n",
       "      <td>0.0</td>\n",
       "      <td>0.034483</td>\n",
       "    </tr>\n",
       "  </tbody>\n",
       "</table>\n",
       "<p>3 rows × 25 columns</p>\n",
       "</div>"
      ],
      "text/plain": [
       "        gender    age  occupation city years_in_city  marital_status  \\\n",
       "user_id                                                                \n",
       "1000001      F   0-17          10    A             2               0   \n",
       "1000002      M    55+          16    C            4+               0   \n",
       "1000003      M  26-35          15    A             3               0   \n",
       "\n",
       "            amount  product_category_1  product_category_2  \\\n",
       "user_id                                                      \n",
       "1000001  22.232067            0.117647            0.029412   \n",
       "1000002  54.023533            0.407895            0.013158   \n",
       "1000003  22.775667            0.517241            0.068966   \n",
       "\n",
       "         product_category_3         ...           product_category_9  \\\n",
       "user_id                             ...                                \n",
       "1000001            0.323529         ...                          0.0   \n",
       "1000002            0.000000         ...                          0.0   \n",
       "1000003            0.034483         ...                          0.0   \n",
       "\n",
       "         product_category_10  product_category_11  product_category_12  \\\n",
       "user_id                                                                  \n",
       "1000001                  0.0                  0.0             0.088235   \n",
       "1000002                  0.0                  0.0             0.000000   \n",
       "1000003                  0.0                  0.0             0.000000   \n",
       "\n",
       "         product_category_13  product_category_14  product_category_15  \\\n",
       "user_id                                                                  \n",
       "1000001                  0.0             0.029412                  0.0   \n",
       "1000002                  0.0             0.000000                  0.0   \n",
       "1000003                  0.0             0.000000                  0.0   \n",
       "\n",
       "         product_category_16  product_category_17  product_category_18  \n",
       "user_id                                                                 \n",
       "1000001             0.029412                  0.0             0.000000  \n",
       "1000002             0.000000                  0.0             0.000000  \n",
       "1000003             0.000000                  0.0             0.034483  \n",
       "\n",
       "[3 rows x 25 columns]"
      ]
     },
     "execution_count": 9,
     "metadata": {},
     "output_type": "execute_result"
    }
   ],
   "source": [
    "data = data.groupby('user_id').agg({'gender':lambda x:x.value_counts().index[0],\n",
    "                             'age':lambda x:x.value_counts().index[0],\n",
    "                             'occupation':lambda x:x.value_counts().index[0],\n",
    "                             'city':lambda x:x.value_counts().index[0],\n",
    "                             'years_in_city':lambda x:x.value_counts().index[0],\n",
    "                             'marital_status':lambda x:x.value_counts().index[0],\n",
    "                             'amount':'sum',\n",
    "                             'product_category_1':'mean',\n",
    "                             'product_category_2':'mean',\n",
    "                             'product_category_3':'mean',\n",
    "                             'product_category_4':'mean',\n",
    "                             'product_category_5':'mean',\n",
    "                             'product_category_6':'mean',\n",
    "                             'product_category_7':'mean',\n",
    "                             'product_category_8':'mean',\n",
    "                             'product_category_9':'mean',\n",
    "                             'product_category_10':'mean',\n",
    "                             'product_category_11':'mean',\n",
    "                             'product_category_12':'mean',\n",
    "                             'product_category_13':'mean',\n",
    "                             'product_category_14':'mean',\n",
    "                             'product_category_15':'mean',\n",
    "                             'product_category_16':'mean',\n",
    "                             'product_category_17':'mean',\n",
    "                             'product_category_18':'mean'})\n",
    "data.head(3)"
   ]
  },
  {
   "cell_type": "code",
   "execution_count": 10,
   "metadata": {},
   "outputs": [
    {
     "data": {
      "text/plain": [
       "Text(0.5,1,'Gender Frequency')"
      ]
     },
     "execution_count": 10,
     "metadata": {},
     "output_type": "execute_result"
    },
    {
     "data": {
      "image/png": "[encoded data removed]",
      "text/plain": [
       "<Figure size 432x288 with 1 Axes>"
      ]
     },
     "metadata": {},
     "output_type": "display_data"
    }
   ],
   "source": [
    "sns.countplot(x='gender', data=data).set_title('Gender Frequency')"
   ]
  },
  {
   "cell_type": "code",
   "execution_count": 11,
   "metadata": {},
   "outputs": [
    {
     "data": {
      "text/plain": [
       "M    4225\n",
       "F    1666\n",
       "Name: gender, dtype: int64"
      ]
     },
     "execution_count": 11,
     "metadata": {},
     "output_type": "execute_result"
    }
   ],
   "source": [
    "data.gender.value_counts()"
   ]
  },
  {
   "cell_type": "code",
   "execution_count": 12,
   "metadata": {
    "scrolled": true
   },
   "outputs": [
    {
     "data": {
      "text/plain": [
       "Text(0.5,1,'Age Profile')"
      ]
     },
     "execution_count": 12,
     "metadata": {},
     "output_type": "execute_result"
    },
    {
     "data": {
      "image/png": "[encoded data removed]",
      "text/plain": [
       "<Figure size 432x288 with 1 Axes>"
      ]
     },
     "metadata": {},
     "output_type": "display_data"
    }
   ],
   "source": [
    "sns.countplot(x='age', data=data).set_title('Age Profile')"
   ]
  },
  {
   "cell_type": "code",
   "execution_count": 13,
   "metadata": {},
   "outputs": [
    {
     "data": {
      "text/plain": [
       "Text(0.5,1,'Average Spendings')"
      ]
     },
     "execution_count": 13,
     "metadata": {},
     "output_type": "execute_result"
    },
    {
     "data": {
      "image/png": "[encoded data removed]",
      "text/plain": [
       "<Figure size 432x288 with 1 Axes>"
      ]
     },
     "metadata": {},
     "output_type": "display_data"
    }
   ],
   "source": [
    "plt.figure()\n",
    "plt.hist(data['amount'], bins = 200)\n",
    "plt.xlabel('Amount')\n",
    "plt.ylabel('Frequency')\n",
    "plt.xlim([0,200])\n",
    "plt.xticks(rotation=60)\n",
    "plt.title('Average Spendings')"
   ]
  },
  {
   "cell_type": "code",
   "execution_count": 14,
   "metadata": {},
   "outputs": [
    {
     "name": "stdout",
     "output_type": "stream",
     "text": [
      "Count 5891\n",
      "Mean 57\n",
      "Std 62\n",
      "10% percentile 10\n",
      "90% percentile 135\n",
      "Min 3\n",
      "Max 702\n"
     ]
    }
   ],
   "source": [
    "print('Count',int(round(data.amount.count(),0)))\n",
    "print('Mean',int(round(data.amount.mean(),0)))\n",
    "print('Std',int(round(data.amount.std(),0)))\n",
    "print('10% percentile',int(round(data.amount.quantile(0.1),0)))\n",
    "print('90% percentile',int(round(data.amount.quantile(0.9),0)))\n",
    "print('Min',int(round(data.amount.min())))\n",
    "print('Max',int(round(data.amount.max())))"
   ]
  },
  {
   "cell_type": "code",
   "execution_count": 15,
   "metadata": {},
   "outputs": [
    {
     "data": {
      "text/plain": [
       "Text(0.5,1,'Number of customers by City')"
      ]
     },
     "execution_count": 15,
     "metadata": {},
     "output_type": "execute_result"
    },
    {
     "data": {
      "image/png": "[encoded data removed]",
      "text/plain": [
       "<Figure size 432x288 with 1 Axes>"
      ]
     },
     "metadata": {},
     "output_type": "display_data"
    }
   ],
   "source": [
    "sns.countplot(x='city', data=data).set_title('Number of customers by City')"
   ]
  },
  {
   "cell_type": "code",
   "execution_count": 16,
   "metadata": {},
   "outputs": [
    {
     "data": {
      "text/plain": [
       "Text(0.5,1,'Gender Profile by City')"
      ]
     },
     "execution_count": 16,
     "metadata": {},
     "output_type": "execute_result"
    },
    {
     "data": {
      "image/png": "[encoded data removed]",
      "text/plain": [
       "<Figure size 432x288 with 1 Axes>"
      ]
     },
     "metadata": {},
     "output_type": "display_data"
    }
   ],
   "source": [
    "sns.countplot(x='city', hue='gender', data=data).set_title('Gender Profile by City')"
   ]
  },
  {
   "cell_type": "code",
   "execution_count": 17,
   "metadata": {},
   "outputs": [
    {
     "data": {
      "text/plain": [
       "Text(0.5,1,'Mean Spendings in C')"
      ]
     },
     "execution_count": 17,
     "metadata": {},
     "output_type": "execute_result"
    },
    {
     "data": {
      "image/png": "[encoded data removed]",
      "text/plain": [
       "<Figure size 1382.4x345.6 with 3 Axes>"
      ]
     },
     "metadata": {},
     "output_type": "display_data"
    }
   ],
   "source": [
    "plt.figure(figsize=(19.2,4.8))\n",
    "\n",
    "plt.subplot(1, 3, 1)\n",
    "plt.hist(data['amount'].loc[data['city']=='A'], density=True, bins = 50)\n",
    "plt.xlabel('Amount')\n",
    "plt.ylabel('Frequency')\n",
    "plt.xlim([0,200])\n",
    "plt.xticks(rotation=60)\n",
    "plt.title('Mean Spendings in A')\n",
    "\n",
    "plt.subplot(1, 3, 2)\n",
    "plt.hist(data['amount'].loc[data['city']=='B'], density=True, bins = 50)\n",
    "plt.xlabel('Amount')\n",
    "plt.ylabel('Frequency')\n",
    "plt.xlim([0,200])\n",
    "plt.xticks(rotation=60)\n",
    "plt.title('Mean Spendings in B')\n",
    "\n",
    "plt.subplot(1, 3, 3)\n",
    "plt.hist(data['amount'].loc[data['city']=='C'], density=True, bins = 50)\n",
    "plt.xlabel('Amount')\n",
    "plt.ylabel('Frequency')\n",
    "plt.xlim([0,200])\n",
    "plt.xticks(rotation=60)\n",
    "plt.title('Mean Spendings in C')"
   ]
  },
  {
   "cell_type": "code",
   "execution_count": 18,
   "metadata": {},
   "outputs": [
    {
     "name": "stdout",
     "output_type": "stream",
     "text": [
      "Mean spendings\n"
     ]
    },
    {
     "data": {
      "text/plain": [
       "city\n",
       "A    82.658296\n",
       "B    81.368155\n",
       "C    34.800212\n",
       "Name: amount, dtype: float64"
      ]
     },
     "execution_count": 18,
     "metadata": {},
     "output_type": "execute_result"
    }
   ],
   "source": [
    "print('Mean spendings')\n",
    "data.groupby('city')['amount'].agg('mean')"
   ]
  },
  {
   "cell_type": "code",
   "execution_count": 19,
   "metadata": {},
   "outputs": [
    {
     "name": "stdout",
     "output_type": "stream",
     "text": [
      "Total spendings\n"
     ]
    },
    {
     "data": {
      "text/plain": [
       "city\n",
       "A     86377.9198\n",
       "B    138895.4408\n",
       "C    109237.8646\n",
       "Name: amount, dtype: float64"
      ]
     },
     "execution_count": 19,
     "metadata": {},
     "output_type": "execute_result"
    }
   ],
   "source": [
    "print('Total spendings')\n",
    "data.groupby('city')['amount'].agg('sum')"
   ]
  },
  {
   "cell_type": "code",
   "execution_count": 20,
   "metadata": {},
   "outputs": [
    {
     "data": {
      "text/plain": [
       "<Figure size 432x288 with 0 Axes>"
      ]
     },
     "execution_count": 20,
     "metadata": {},
     "output_type": "execute_result"
    },
    {
     "data": {
      "text/plain": [
       "<Figure size 432x288 with 0 Axes>"
      ]
     },
     "metadata": {},
     "output_type": "display_data"
    }
   ],
   "source": [
    "plt.figure()"
   ]
  },
  {
   "cell_type": "code",
   "execution_count": 21,
   "metadata": {},
   "outputs": [
    {
     "data": {
      "text/plain": [
       "Text(0.5,1,'Spending by Occupation')"
      ]
     },
     "execution_count": 21,
     "metadata": {},
     "output_type": "execute_result"
    },
    {
     "data": {
      "image/png": "[encoded data removed]",
      "text/plain": [
       "<Figure size 432x288 with 1 Axes>"
      ]
     },
     "metadata": {},
     "output_type": "display_data"
    }
   ],
   "source": [
    "plt.figure()\n",
    "means_by_occupation = []\n",
    "for i in range(len(data.occupation.value_counts())):\n",
    "    means_by_occupation.append(data.amount.loc[data.occupation == i].mean())\n",
    "plt.bar(list(range(len(data.occupation.value_counts()))), means_by_occupation)\n",
    "plt.xticks(list(range(len(data.occupation.value_counts()))))\n",
    "plt.xlabel('Occupation')\n",
    "plt.ylabel('Mean spending')\n",
    "plt.title('Spending by Occupation')"
   ]
  },
  {
   "cell_type": "code",
   "execution_count": 22,
   "metadata": {},
   "outputs": [
    {
     "data": {
      "text/plain": [
       "0    3417\n",
       "1    2474\n",
       "Name: marital_status, dtype: int64"
      ]
     },
     "execution_count": 22,
     "metadata": {},
     "output_type": "execute_result"
    }
   ],
   "source": [
    "data.marital_status.value_counts()"
   ]
  },
  {
   "cell_type": "code",
   "execution_count": 23,
   "metadata": {},
   "outputs": [
    {
     "data": {
      "text/plain": [
       "Text(0.5,1,'Spending by Marital Spending')"
      ]
     },
     "execution_count": 23,
     "metadata": {},
     "output_type": "execute_result"
    },
    {
     "data": {
      "image/png": "[encoded data removed]",
      "text/plain": [
       "<Figure size 432x288 with 1 Axes>"
      ]
     },
     "metadata": {},
     "output_type": "display_data"
    }
   ],
   "source": [
    "plt.figure()\n",
    "means_by_marital_status = []\n",
    "for i in range(len(data.marital_status.value_counts())):\n",
    "    means_by_marital_status.append(data.amount.loc[data.marital_status == i].mean())\n",
    "plt.bar(list(range(len(data.marital_status.value_counts()))), means_by_marital_status)\n",
    "plt.xticks(list(range(len(data.marital_status.value_counts()))))\n",
    "plt.xlabel('Marital status')\n",
    "plt.ylabel('Mean spending')\n",
    "plt.title('Spending by Marital Spending')"
   ]
  },
  {
   "cell_type": "code",
   "execution_count": 24,
   "metadata": {},
   "outputs": [
    {
     "data": {
      "text/html": [
       "<div>\n",
       "<style scoped>\n",
       "    .dataframe tbody tr th:only-of-type {\n",
       "        vertical-align: middle;\n",
       "    }\n",
       "\n",
       "    .dataframe tbody tr th {\n",
       "        vertical-align: top;\n",
       "    }\n",
       "\n",
       "    .dataframe thead th {\n",
       "        text-align: right;\n",
       "    }\n",
       "</style>\n",
       "<table border=\"1\" class=\"dataframe\">\n",
       "  <thead>\n",
       "    <tr style=\"text-align: right;\">\n",
       "      <th></th>\n",
       "      <th>gender</th>\n",
       "      <th>years_in_city</th>\n",
       "      <th>marital_status</th>\n",
       "      <th>amount</th>\n",
       "      <th>product_category_1</th>\n",
       "      <th>product_category_2</th>\n",
       "      <th>product_category_3</th>\n",
       "      <th>product_category_4</th>\n",
       "      <th>product_category_5</th>\n",
       "      <th>product_category_6</th>\n",
       "      <th>...</th>\n",
       "      <th>occupation_14</th>\n",
       "      <th>occupation_15</th>\n",
       "      <th>occupation_16</th>\n",
       "      <th>occupation_17</th>\n",
       "      <th>occupation_18</th>\n",
       "      <th>occupation_19</th>\n",
       "      <th>occupation_20</th>\n",
       "      <th>city_A</th>\n",
       "      <th>city_B</th>\n",
       "      <th>city_C</th>\n",
       "    </tr>\n",
       "    <tr>\n",
       "      <th>user_id</th>\n",
       "      <th></th>\n",
       "      <th></th>\n",
       "      <th></th>\n",
       "      <th></th>\n",
       "      <th></th>\n",
       "      <th></th>\n",
       "      <th></th>\n",
       "      <th></th>\n",
       "      <th></th>\n",
       "      <th></th>\n",
       "      <th></th>\n",
       "      <th></th>\n",
       "      <th></th>\n",
       "      <th></th>\n",
       "      <th></th>\n",
       "      <th></th>\n",
       "      <th></th>\n",
       "      <th></th>\n",
       "      <th></th>\n",
       "      <th></th>\n",
       "      <th></th>\n",
       "    </tr>\n",
       "  </thead>\n",
       "  <tbody>\n",
       "    <tr>\n",
       "      <th>1000001</th>\n",
       "      <td>F</td>\n",
       "      <td>2</td>\n",
       "      <td>0</td>\n",
       "      <td>22.232067</td>\n",
       "      <td>0.117647</td>\n",
       "      <td>0.029412</td>\n",
       "      <td>0.323529</td>\n",
       "      <td>0.058824</td>\n",
       "      <td>0.058824</td>\n",
       "      <td>0.029412</td>\n",
       "      <td>...</td>\n",
       "      <td>0</td>\n",
       "      <td>0</td>\n",
       "      <td>0</td>\n",
       "      <td>0</td>\n",
       "      <td>0</td>\n",
       "      <td>0</td>\n",
       "      <td>0</td>\n",
       "      <td>1</td>\n",
       "      <td>0</td>\n",
       "      <td>0</td>\n",
       "    </tr>\n",
       "    <tr>\n",
       "      <th>1000002</th>\n",
       "      <td>M</td>\n",
       "      <td>4+</td>\n",
       "      <td>0</td>\n",
       "      <td>54.023533</td>\n",
       "      <td>0.407895</td>\n",
       "      <td>0.013158</td>\n",
       "      <td>0.000000</td>\n",
       "      <td>0.000000</td>\n",
       "      <td>0.171053</td>\n",
       "      <td>0.078947</td>\n",
       "      <td>...</td>\n",
       "      <td>0</td>\n",
       "      <td>0</td>\n",
       "      <td>1</td>\n",
       "      <td>0</td>\n",
       "      <td>0</td>\n",
       "      <td>0</td>\n",
       "      <td>0</td>\n",
       "      <td>0</td>\n",
       "      <td>0</td>\n",
       "      <td>1</td>\n",
       "    </tr>\n",
       "    <tr>\n",
       "      <th>1000003</th>\n",
       "      <td>M</td>\n",
       "      <td>3</td>\n",
       "      <td>0</td>\n",
       "      <td>22.775667</td>\n",
       "      <td>0.517241</td>\n",
       "      <td>0.068966</td>\n",
       "      <td>0.034483</td>\n",
       "      <td>0.000000</td>\n",
       "      <td>0.310345</td>\n",
       "      <td>0.000000</td>\n",
       "      <td>...</td>\n",
       "      <td>0</td>\n",
       "      <td>1</td>\n",
       "      <td>0</td>\n",
       "      <td>0</td>\n",
       "      <td>0</td>\n",
       "      <td>0</td>\n",
       "      <td>0</td>\n",
       "      <td>1</td>\n",
       "      <td>0</td>\n",
       "      <td>0</td>\n",
       "    </tr>\n",
       "  </tbody>\n",
       "</table>\n",
       "<p>3 rows × 53 columns</p>\n",
       "</div>"
      ],
      "text/plain": [
       "        gender years_in_city  marital_status     amount  product_category_1  \\\n",
       "user_id                                                                       \n",
       "1000001      F             2               0  22.232067            0.117647   \n",
       "1000002      M            4+               0  54.023533            0.407895   \n",
       "1000003      M             3               0  22.775667            0.517241   \n",
       "\n",
       "         product_category_2  product_category_3  product_category_4  \\\n",
       "user_id                                                               \n",
       "1000001            0.029412            0.323529            0.058824   \n",
       "1000002            0.013158            0.000000            0.000000   \n",
       "1000003            0.068966            0.034483            0.000000   \n",
       "\n",
       "         product_category_5  product_category_6   ...    occupation_14  \\\n",
       "user_id                                           ...                    \n",
       "1000001            0.058824            0.029412   ...                0   \n",
       "1000002            0.171053            0.078947   ...                0   \n",
       "1000003            0.310345            0.000000   ...                0   \n",
       "\n",
       "         occupation_15  occupation_16  occupation_17  occupation_18  \\\n",
       "user_id                                                               \n",
       "1000001              0              0              0              0   \n",
       "1000002              0              1              0              0   \n",
       "1000003              1              0              0              0   \n",
       "\n",
       "         occupation_19  occupation_20  city_A  city_B  city_C  \n",
       "user_id                                                        \n",
       "1000001              0              0       1       0       0  \n",
       "1000002              0              0       0       0       1  \n",
       "1000003              0              0       1       0       0  \n",
       "\n",
       "[3 rows x 53 columns]"
      ]
     },
     "execution_count": 24,
     "metadata": {},
     "output_type": "execute_result"
    }
   ],
   "source": [
    "data = pd.get_dummies(data, columns=['age'], prefix = ['age'])\n",
    "data = pd.get_dummies(data, columns=['occupation'], prefix = ['occupation'])\n",
    "data = pd.get_dummies(data, columns=['city'], prefix = ['city'])\n",
    "data.head(3)"
   ]
  },
  {
   "cell_type": "code",
   "execution_count": 25,
   "metadata": {},
   "outputs": [
    {
     "data": {
      "text/html": [
       "<div>\n",
       "<style scoped>\n",
       "    .dataframe tbody tr th:only-of-type {\n",
       "        vertical-align: middle;\n",
       "    }\n",
       "\n",
       "    .dataframe tbody tr th {\n",
       "        vertical-align: top;\n",
       "    }\n",
       "\n",
       "    .dataframe thead th {\n",
       "        text-align: right;\n",
       "    }\n",
       "</style>\n",
       "<table border=\"1\" class=\"dataframe\">\n",
       "  <thead>\n",
       "    <tr style=\"text-align: right;\">\n",
       "      <th></th>\n",
       "      <th>gender</th>\n",
       "      <th>marital_status</th>\n",
       "      <th>amount</th>\n",
       "      <th>product_category_1</th>\n",
       "      <th>product_category_2</th>\n",
       "      <th>product_category_3</th>\n",
       "      <th>product_category_4</th>\n",
       "      <th>product_category_5</th>\n",
       "      <th>product_category_6</th>\n",
       "      <th>product_category_7</th>\n",
       "      <th>...</th>\n",
       "      <th>occupation_14</th>\n",
       "      <th>occupation_15</th>\n",
       "      <th>occupation_16</th>\n",
       "      <th>occupation_17</th>\n",
       "      <th>occupation_18</th>\n",
       "      <th>occupation_19</th>\n",
       "      <th>occupation_20</th>\n",
       "      <th>city_A</th>\n",
       "      <th>city_B</th>\n",
       "      <th>city_C</th>\n",
       "    </tr>\n",
       "    <tr>\n",
       "      <th>user_id</th>\n",
       "      <th></th>\n",
       "      <th></th>\n",
       "      <th></th>\n",
       "      <th></th>\n",
       "      <th></th>\n",
       "      <th></th>\n",
       "      <th></th>\n",
       "      <th></th>\n",
       "      <th></th>\n",
       "      <th></th>\n",
       "      <th></th>\n",
       "      <th></th>\n",
       "      <th></th>\n",
       "      <th></th>\n",
       "      <th></th>\n",
       "      <th></th>\n",
       "      <th></th>\n",
       "      <th></th>\n",
       "      <th></th>\n",
       "      <th></th>\n",
       "      <th></th>\n",
       "    </tr>\n",
       "  </thead>\n",
       "  <tbody>\n",
       "    <tr>\n",
       "      <th>1000001</th>\n",
       "      <td>0</td>\n",
       "      <td>0</td>\n",
       "      <td>22.232067</td>\n",
       "      <td>0.117647</td>\n",
       "      <td>0.029412</td>\n",
       "      <td>0.323529</td>\n",
       "      <td>0.058824</td>\n",
       "      <td>0.058824</td>\n",
       "      <td>0.029412</td>\n",
       "      <td>0.0</td>\n",
       "      <td>...</td>\n",
       "      <td>0</td>\n",
       "      <td>0</td>\n",
       "      <td>0</td>\n",
       "      <td>0</td>\n",
       "      <td>0</td>\n",
       "      <td>0</td>\n",
       "      <td>0</td>\n",
       "      <td>1</td>\n",
       "      <td>0</td>\n",
       "      <td>0</td>\n",
       "    </tr>\n",
       "    <tr>\n",
       "      <th>1000002</th>\n",
       "      <td>1</td>\n",
       "      <td>0</td>\n",
       "      <td>54.023533</td>\n",
       "      <td>0.407895</td>\n",
       "      <td>0.013158</td>\n",
       "      <td>0.000000</td>\n",
       "      <td>0.000000</td>\n",
       "      <td>0.171053</td>\n",
       "      <td>0.078947</td>\n",
       "      <td>0.0</td>\n",
       "      <td>...</td>\n",
       "      <td>0</td>\n",
       "      <td>0</td>\n",
       "      <td>1</td>\n",
       "      <td>0</td>\n",
       "      <td>0</td>\n",
       "      <td>0</td>\n",
       "      <td>0</td>\n",
       "      <td>0</td>\n",
       "      <td>0</td>\n",
       "      <td>1</td>\n",
       "    </tr>\n",
       "    <tr>\n",
       "      <th>1000003</th>\n",
       "      <td>1</td>\n",
       "      <td>0</td>\n",
       "      <td>22.775667</td>\n",
       "      <td>0.517241</td>\n",
       "      <td>0.068966</td>\n",
       "      <td>0.034483</td>\n",
       "      <td>0.000000</td>\n",
       "      <td>0.310345</td>\n",
       "      <td>0.000000</td>\n",
       "      <td>0.0</td>\n",
       "      <td>...</td>\n",
       "      <td>0</td>\n",
       "      <td>1</td>\n",
       "      <td>0</td>\n",
       "      <td>0</td>\n",
       "      <td>0</td>\n",
       "      <td>0</td>\n",
       "      <td>0</td>\n",
       "      <td>1</td>\n",
       "      <td>0</td>\n",
       "      <td>0</td>\n",
       "    </tr>\n",
       "  </tbody>\n",
       "</table>\n",
       "<p>3 rows × 52 columns</p>\n",
       "</div>"
      ],
      "text/plain": [
       "         gender  marital_status     amount  product_category_1  \\\n",
       "user_id                                                          \n",
       "1000001       0               0  22.232067            0.117647   \n",
       "1000002       1               0  54.023533            0.407895   \n",
       "1000003       1               0  22.775667            0.517241   \n",
       "\n",
       "         product_category_2  product_category_3  product_category_4  \\\n",
       "user_id                                                               \n",
       "1000001            0.029412            0.323529            0.058824   \n",
       "1000002            0.013158            0.000000            0.000000   \n",
       "1000003            0.068966            0.034483            0.000000   \n",
       "\n",
       "         product_category_5  product_category_6  product_category_7   ...    \\\n",
       "user_id                                                               ...     \n",
       "1000001            0.058824            0.029412                 0.0   ...     \n",
       "1000002            0.171053            0.078947                 0.0   ...     \n",
       "1000003            0.310345            0.000000                 0.0   ...     \n",
       "\n",
       "         occupation_14  occupation_15  occupation_16  occupation_17  \\\n",
       "user_id                                                               \n",
       "1000001              0              0              0              0   \n",
       "1000002              0              0              1              0   \n",
       "1000003              0              1              0              0   \n",
       "\n",
       "         occupation_18  occupation_19  occupation_20  city_A  city_B  city_C  \n",
       "user_id                                                                       \n",
       "1000001              0              0              0       1       0       0  \n",
       "1000002              0              0              0       0       0       1  \n",
       "1000003              0              0              0       1       0       0  \n",
       "\n",
       "[3 rows x 52 columns]"
      ]
     },
     "execution_count": 25,
     "metadata": {},
     "output_type": "execute_result"
    }
   ],
   "source": [
    "data.gender = data.gender.map({'F':0, 'M':1})\n",
    "data.drop('years_in_city', axis = 1, inplace =  True)\n",
    "data.head(3)"
   ]
  },
  {
   "cell_type": "code",
   "execution_count": 26,
   "metadata": {},
   "outputs": [
    {
     "data": {
      "text/plain": [
       "Text(0.5,1,'Category Popularity in City C')"
      ]
     },
     "execution_count": 26,
     "metadata": {},
     "output_type": "execute_result"
    },
    {
     "data": {
      "image/png": "[encoded data removed]",
      "text/plain": [
       "<Figure size 432x288 with 1 Axes>"
      ]
     },
     "metadata": {},
     "output_type": "display_data"
    },
    {
     "data": {
      "image/png": "[encoded data removed]",
      "text/plain": [
       "<Figure size 432x288 with 1 Axes>"
      ]
     },
     "metadata": {},
     "output_type": "display_data"
    },
    {
     "data": {
      "image/png": "[encoded data removed]",
      "text/plain": [
       "<Figure size 432x288 with 1 Axes>"
      ]
     },
     "metadata": {},
     "output_type": "display_data"
    }
   ],
   "source": [
    "plt.figure()\n",
    "plt.bar(range(1, 19), data[data.columns[3:21]].loc[data.city_A == 1].sum())\n",
    "plt.xticks(range(1, 19))\n",
    "plt.title('Category Popularity in City A')\n",
    "\n",
    "plt.figure()\n",
    "plt.bar(range(1, 19), data[data.columns[3:21]].loc[data.city_B == 1].sum())\n",
    "plt.xticks(range(1, 19))\n",
    "plt.title('Category Popularity in City B')\n",
    "\n",
    "plt.figure()\n",
    "plt.bar(range(1, 19), data[data.columns[3:21]].loc[data.city_C == 1].sum())\n",
    "plt.xticks(range(1, 19))\n",
    "plt.title('Category Popularity in City C')"
   ]
  },
  {
   "cell_type": "code",
   "execution_count": 27,
   "metadata": {},
   "outputs": [
    {
     "data": {
      "text/plain": [
       "Text(0.5,1,'Category Popularity, Male')"
      ]
     },
     "execution_count": 27,
     "metadata": {},
     "output_type": "execute_result"
    },
    {
     "data": {
      "image/png": "[encoded data removed]",
      "text/plain": [
       "<Figure size 432x288 with 1 Axes>"
      ]
     },
     "metadata": {},
     "output_type": "display_data"
    },
    {
     "data": {
      "image/png": "[encoded data removed]",
      "text/plain": [
       "<Figure size 432x288 with 1 Axes>"
      ]
     },
     "metadata": {},
     "output_type": "display_data"
    }
   ],
   "source": [
    "plt.figure()\n",
    "plt.bar(range(1, 19), data[data.columns[3:21]].loc[data.gender == 0].sum())\n",
    "plt.xticks(range(1, 19))\n",
    "plt.title('Category Popularity, Female')\n",
    "\n",
    "plt.figure()\n",
    "plt.bar(range(1, 19), data[data.columns[3:21]].loc[data.gender == 1].sum())\n",
    "plt.xticks(range(1, 19))\n",
    "plt.title('Category Popularity, Male')"
   ]
  },
  {
   "cell_type": "code",
   "execution_count": 28,
   "metadata": {},
   "outputs": [
    {
     "data": {
      "text/plain": [
       "Index(['product_category_2', 'product_category_3', 'product_category_4',\n",
       "       'product_category_6', 'product_category_7', 'product_category_9',\n",
       "       'product_category_10', 'product_category_11', 'product_category_12',\n",
       "       'product_category_13', 'product_category_14', 'product_category_15',\n",
       "       'product_category_16', 'product_category_17', 'product_category_18'],\n",
       "      dtype='object')"
      ]
     },
     "execution_count": 28,
     "metadata": {},
     "output_type": "execute_result"
    }
   ],
   "source": [
    "columns_to_merge = [4, 5, 6, 8, 9, 11, 12, 13, 14, 15, 16, 17, 18, 19, 20]\n",
    "data.columns[columns_to_merge]"
   ]
  },
  {
   "cell_type": "code",
   "execution_count": 29,
   "metadata": {},
   "outputs": [
    {
     "data": {
      "text/html": [
       "<div>\n",
       "<style scoped>\n",
       "    .dataframe tbody tr th:only-of-type {\n",
       "        vertical-align: middle;\n",
       "    }\n",
       "\n",
       "    .dataframe tbody tr th {\n",
       "        vertical-align: top;\n",
       "    }\n",
       "\n",
       "    .dataframe thead th {\n",
       "        text-align: right;\n",
       "    }\n",
       "</style>\n",
       "<table border=\"1\" class=\"dataframe\">\n",
       "  <thead>\n",
       "    <tr style=\"text-align: right;\">\n",
       "      <th></th>\n",
       "      <th>gender</th>\n",
       "      <th>marital_status</th>\n",
       "      <th>amount</th>\n",
       "      <th>product_category_1</th>\n",
       "      <th>product_category_5</th>\n",
       "      <th>product_category_8</th>\n",
       "      <th>age_0-17</th>\n",
       "      <th>age_18-25</th>\n",
       "      <th>age_26-35</th>\n",
       "      <th>age_36-45</th>\n",
       "      <th>...</th>\n",
       "      <th>occupation_15</th>\n",
       "      <th>occupation_16</th>\n",
       "      <th>occupation_17</th>\n",
       "      <th>occupation_18</th>\n",
       "      <th>occupation_19</th>\n",
       "      <th>occupation_20</th>\n",
       "      <th>city_A</th>\n",
       "      <th>city_B</th>\n",
       "      <th>city_C</th>\n",
       "      <th>product_category_other</th>\n",
       "    </tr>\n",
       "    <tr>\n",
       "      <th>user_id</th>\n",
       "      <th></th>\n",
       "      <th></th>\n",
       "      <th></th>\n",
       "      <th></th>\n",
       "      <th></th>\n",
       "      <th></th>\n",
       "      <th></th>\n",
       "      <th></th>\n",
       "      <th></th>\n",
       "      <th></th>\n",
       "      <th></th>\n",
       "      <th></th>\n",
       "      <th></th>\n",
       "      <th></th>\n",
       "      <th></th>\n",
       "      <th></th>\n",
       "      <th></th>\n",
       "      <th></th>\n",
       "      <th></th>\n",
       "      <th></th>\n",
       "      <th></th>\n",
       "    </tr>\n",
       "  </thead>\n",
       "  <tbody>\n",
       "    <tr>\n",
       "      <th>1000001</th>\n",
       "      <td>0</td>\n",
       "      <td>0</td>\n",
       "      <td>22.232067</td>\n",
       "      <td>0.117647</td>\n",
       "      <td>0.058824</td>\n",
       "      <td>0.235294</td>\n",
       "      <td>1</td>\n",
       "      <td>0</td>\n",
       "      <td>0</td>\n",
       "      <td>0</td>\n",
       "      <td>...</td>\n",
       "      <td>0</td>\n",
       "      <td>0</td>\n",
       "      <td>0</td>\n",
       "      <td>0</td>\n",
       "      <td>0</td>\n",
       "      <td>0</td>\n",
       "      <td>1</td>\n",
       "      <td>0</td>\n",
       "      <td>0</td>\n",
       "      <td>0.588235</td>\n",
       "    </tr>\n",
       "    <tr>\n",
       "      <th>1000002</th>\n",
       "      <td>1</td>\n",
       "      <td>0</td>\n",
       "      <td>54.023533</td>\n",
       "      <td>0.407895</td>\n",
       "      <td>0.171053</td>\n",
       "      <td>0.328947</td>\n",
       "      <td>0</td>\n",
       "      <td>0</td>\n",
       "      <td>0</td>\n",
       "      <td>0</td>\n",
       "      <td>...</td>\n",
       "      <td>0</td>\n",
       "      <td>1</td>\n",
       "      <td>0</td>\n",
       "      <td>0</td>\n",
       "      <td>0</td>\n",
       "      <td>0</td>\n",
       "      <td>0</td>\n",
       "      <td>0</td>\n",
       "      <td>1</td>\n",
       "      <td>0.092105</td>\n",
       "    </tr>\n",
       "    <tr>\n",
       "      <th>1000003</th>\n",
       "      <td>1</td>\n",
       "      <td>0</td>\n",
       "      <td>22.775667</td>\n",
       "      <td>0.517241</td>\n",
       "      <td>0.310345</td>\n",
       "      <td>0.034483</td>\n",
       "      <td>0</td>\n",
       "      <td>0</td>\n",
       "      <td>1</td>\n",
       "      <td>0</td>\n",
       "      <td>...</td>\n",
       "      <td>1</td>\n",
       "      <td>0</td>\n",
       "      <td>0</td>\n",
       "      <td>0</td>\n",
       "      <td>0</td>\n",
       "      <td>0</td>\n",
       "      <td>1</td>\n",
       "      <td>0</td>\n",
       "      <td>0</td>\n",
       "      <td>0.137931</td>\n",
       "    </tr>\n",
       "  </tbody>\n",
       "</table>\n",
       "<p>3 rows × 38 columns</p>\n",
       "</div>"
      ],
      "text/plain": [
       "         gender  marital_status     amount  product_category_1  \\\n",
       "user_id                                                          \n",
       "1000001       0               0  22.232067            0.117647   \n",
       "1000002       1               0  54.023533            0.407895   \n",
       "1000003       1               0  22.775667            0.517241   \n",
       "\n",
       "         product_category_5  product_category_8  age_0-17  age_18-25  \\\n",
       "user_id                                                                \n",
       "1000001            0.058824            0.235294         1          0   \n",
       "1000002            0.171053            0.328947         0          0   \n",
       "1000003            0.310345            0.034483         0          0   \n",
       "\n",
       "         age_26-35  age_36-45           ...            occupation_15  \\\n",
       "user_id                                 ...                            \n",
       "1000001          0          0           ...                        0   \n",
       "1000002          0          0           ...                        0   \n",
       "1000003          1          0           ...                        1   \n",
       "\n",
       "         occupation_16  occupation_17  occupation_18  occupation_19  \\\n",
       "user_id                                                               \n",
       "1000001              0              0              0              0   \n",
       "1000002              1              0              0              0   \n",
       "1000003              0              0              0              0   \n",
       "\n",
       "         occupation_20  city_A  city_B  city_C  product_category_other  \n",
       "user_id                                                                 \n",
       "1000001              0       1       0       0                0.588235  \n",
       "1000002              0       0       0       1                0.092105  \n",
       "1000003              0       1       0       0                0.137931  \n",
       "\n",
       "[3 rows x 38 columns]"
      ]
     },
     "execution_count": 29,
     "metadata": {},
     "output_type": "execute_result"
    }
   ],
   "source": [
    "data['product_category_other'] = data[data.columns[columns_to_merge]].sum(axis=1)\n",
    "data.drop(data.columns[columns_to_merge], axis=1, inplace = True)\n",
    "data.head(3)"
   ]
  },
  {
   "cell_type": "code",
   "execution_count": 30,
   "metadata": {},
   "outputs": [
    {
     "data": {
      "text/html": [
       "<div>\n",
       "<style scoped>\n",
       "    .dataframe tbody tr th:only-of-type {\n",
       "        vertical-align: middle;\n",
       "    }\n",
       "\n",
       "    .dataframe tbody tr th {\n",
       "        vertical-align: top;\n",
       "    }\n",
       "\n",
       "    .dataframe thead th {\n",
       "        text-align: right;\n",
       "    }\n",
       "</style>\n",
       "<table border=\"1\" class=\"dataframe\">\n",
       "  <thead>\n",
       "    <tr style=\"text-align: right;\">\n",
       "      <th></th>\n",
       "      <th>gender</th>\n",
       "      <th>marital_status</th>\n",
       "      <th>amount</th>\n",
       "      <th>age_0-17</th>\n",
       "      <th>age_18-25</th>\n",
       "      <th>age_26-35</th>\n",
       "      <th>age_36-45</th>\n",
       "      <th>age_46-50</th>\n",
       "      <th>age_51-55</th>\n",
       "      <th>age_55+</th>\n",
       "      <th>...</th>\n",
       "      <th>occupation_18</th>\n",
       "      <th>occupation_19</th>\n",
       "      <th>occupation_20</th>\n",
       "      <th>city_A</th>\n",
       "      <th>city_B</th>\n",
       "      <th>city_C</th>\n",
       "      <th>product_category_1</th>\n",
       "      <th>product_category_5</th>\n",
       "      <th>product_category_8</th>\n",
       "      <th>product_category_other</th>\n",
       "    </tr>\n",
       "    <tr>\n",
       "      <th>user_id</th>\n",
       "      <th></th>\n",
       "      <th></th>\n",
       "      <th></th>\n",
       "      <th></th>\n",
       "      <th></th>\n",
       "      <th></th>\n",
       "      <th></th>\n",
       "      <th></th>\n",
       "      <th></th>\n",
       "      <th></th>\n",
       "      <th></th>\n",
       "      <th></th>\n",
       "      <th></th>\n",
       "      <th></th>\n",
       "      <th></th>\n",
       "      <th></th>\n",
       "      <th></th>\n",
       "      <th></th>\n",
       "      <th></th>\n",
       "      <th></th>\n",
       "      <th></th>\n",
       "    </tr>\n",
       "  </thead>\n",
       "  <tbody>\n",
       "    <tr>\n",
       "      <th>1000001</th>\n",
       "      <td>0</td>\n",
       "      <td>0</td>\n",
       "      <td>22.232067</td>\n",
       "      <td>1</td>\n",
       "      <td>0</td>\n",
       "      <td>0</td>\n",
       "      <td>0</td>\n",
       "      <td>0</td>\n",
       "      <td>0</td>\n",
       "      <td>0</td>\n",
       "      <td>...</td>\n",
       "      <td>0</td>\n",
       "      <td>0</td>\n",
       "      <td>0</td>\n",
       "      <td>1</td>\n",
       "      <td>0</td>\n",
       "      <td>0</td>\n",
       "      <td>0.117647</td>\n",
       "      <td>0.058824</td>\n",
       "      <td>0.235294</td>\n",
       "      <td>0.588235</td>\n",
       "    </tr>\n",
       "  </tbody>\n",
       "</table>\n",
       "<p>1 rows × 38 columns</p>\n",
       "</div>"
      ],
      "text/plain": [
       "         gender  marital_status     amount  age_0-17  age_18-25  age_26-35  \\\n",
       "user_id                                                                      \n",
       "1000001       0               0  22.232067         1          0          0   \n",
       "\n",
       "         age_36-45  age_46-50  age_51-55  age_55+           ...            \\\n",
       "user_id                                                     ...             \n",
       "1000001          0          0          0        0           ...             \n",
       "\n",
       "         occupation_18  occupation_19  occupation_20  city_A  city_B  city_C  \\\n",
       "user_id                                                                        \n",
       "1000001              0              0              0       1       0       0   \n",
       "\n",
       "         product_category_1  product_category_5  product_category_8  \\\n",
       "user_id                                                               \n",
       "1000001            0.117647            0.058824            0.235294   \n",
       "\n",
       "         product_category_other  \n",
       "user_id                          \n",
       "1000001                0.588235  \n",
       "\n",
       "[1 rows x 38 columns]"
      ]
     },
     "execution_count": 30,
     "metadata": {},
     "output_type": "execute_result"
    }
   ],
   "source": [
    "data = data[data.columns[list(range(3))+list(range(6, 37))+list(range(3,6))+[37]]]\n",
    "data.head(1)"
   ]
  },
  {
   "cell_type": "code",
   "execution_count": 31,
   "metadata": {},
   "outputs": [
    {
     "name": "stdout",
     "output_type": "stream",
     "text": [
      "0 gender\n",
      "1 marital_status\n",
      "2 amount\n",
      "3 age_0-17\n",
      "4 age_18-25\n",
      "5 age_26-35\n",
      "6 age_36-45\n",
      "7 age_46-50\n",
      "8 age_51-55\n",
      "9 age_55+\n",
      "10 occupation_0\n",
      "11 occupation_1\n",
      "12 occupation_2\n",
      "13 occupation_3\n",
      "14 occupation_4\n",
      "15 occupation_5\n",
      "16 occupation_6\n",
      "17 occupation_7\n",
      "18 occupation_8\n",
      "19 occupation_9\n",
      "20 occupation_10\n",
      "21 occupation_11\n",
      "22 occupation_12\n",
      "23 occupation_13\n",
      "24 occupation_14\n",
      "25 occupation_15\n",
      "26 occupation_16\n",
      "27 occupation_17\n",
      "28 occupation_18\n",
      "29 occupation_19\n",
      "30 occupation_20\n",
      "31 city_A\n",
      "32 city_B\n",
      "33 city_C\n",
      "34 product_category_1\n",
      "35 product_category_5\n",
      "36 product_category_8\n",
      "37 product_category_other\n"
     ]
    }
   ],
   "source": [
    "for i in range(len(data.columns)):\n",
    "    print(i, data.columns[i])"
   ]
  },
  {
   "cell_type": "code",
   "execution_count": 32,
   "metadata": {},
   "outputs": [],
   "source": [
    "data.to_excel('processed_data.xlsx')"
   ]
  },
  {
   "cell_type": "code",
   "execution_count": 33,
   "metadata": {},
   "outputs": [
    {
     "data": {
      "text/plain": [
       "Index(['amount', 'city_A', 'city_B', 'city_C'], dtype='object')"
      ]
     },
     "execution_count": 33,
     "metadata": {},
     "output_type": "execute_result"
    }
   ],
   "source": [
    "#to_drop = data.columns[list(range(13, 34))]\n",
    "#df = data.drop(to_drop, axis=1)\n",
    "\n",
    "to_keep = data.columns[[2]+list(range(31,34))]\n",
    "df = data[to_keep]\n",
    "df.columns"
   ]
  },
  {
   "cell_type": "code",
   "execution_count": 34,
   "metadata": {},
   "outputs": [],
   "source": [
    "import numpy as np\n",
    "\n",
    "from sklearn.cluster import KMeans\n",
    "from sklearn.metrics import silhouette_samples, silhouette_score\n",
    "from sklearn.preprocessing import normalize, MinMaxScaler\n",
    "\n",
    "import matplotlib.pyplot as plt\n",
    "import matplotlib.cm as cm"
   ]
  },
  {
   "cell_type": "code",
   "execution_count": 35,
   "metadata": {},
   "outputs": [
    {
     "name": "stdout",
     "output_type": "stream",
     "text": [
      "[0.02757857 1.         0.         0.        ]\n",
      "For n_clusters = 2 The average silhouette_score is: 0.7440266961654828\n",
      "For n_clusters = 3 The average silhouette_score is: 0.9464193940149874\n",
      "For n_clusters = 4 The average silhouette_score is: 0.8710040576222282\n",
      "For n_clusters = 5 The average silhouette_score is: 0.8348995509793884\n",
      "For n_clusters = 6 The average silhouette_score is: 0.6759359980011473\n",
      "For n_clusters = 7 The average silhouette_score is: 0.6696789377598534\n",
      "For n_clusters = 8 The average silhouette_score is: 0.6614289277864668\n",
      "For n_clusters = 9 The average silhouette_score is: 0.6524254506082158\n",
      "For n_clusters = 10 The average silhouette_score is: 0.6425289255525969\n"
     ]
    }
   ],
   "source": [
    "scaler = MinMaxScaler(feature_range=(0,1))\n",
    "scaler.fit(df)\n",
    "data_norm = scaler.transform(df)\n",
    "print(data_norm[0])\n",
    "\n",
    "range_n_clusters = list(range(2, 11))\n",
    "for n_clusters in range_n_clusters:\n",
    "\n",
    "    # Initialize the clusterer with n_clusters value and a random generator\n",
    "    # seed of 10 for reproducibility.\n",
    "    clusterer = KMeans(n_clusters=n_clusters, random_state=10)\n",
    "    cluster_labels = clusterer.fit_predict(data_norm)\n",
    "\n",
    "    # The silhouette_score gives the average value for all the samples.\n",
    "    # This gives a perspective into the density and separation of the formed\n",
    "    # clusters\n",
    "    silhouette_avg = silhouette_score(data_norm, cluster_labels)\n",
    "    print(\"For n_clusters =\", n_clusters,\n",
    "          \"The average silhouette_score is:\", silhouette_avg)"
   ]
  },
  {
   "cell_type": "code",
   "execution_count": 36,
   "metadata": {},
   "outputs": [],
   "source": [
    "model = KMeans(n_clusters=3, random_state=10)\n",
    "cluster_labels = model.fit_predict(df)\n",
    "centers = model.cluster_centers_"
   ]
  },
  {
   "cell_type": "code",
   "execution_count": 37,
   "metadata": {},
   "outputs": [
    {
     "data": {
      "text/html": [
       "<div>\n",
       "<style scoped>\n",
       "    .dataframe tbody tr th:only-of-type {\n",
       "        vertical-align: middle;\n",
       "    }\n",
       "\n",
       "    .dataframe tbody tr th {\n",
       "        vertical-align: top;\n",
       "    }\n",
       "\n",
       "    .dataframe thead th {\n",
       "        text-align: right;\n",
       "    }\n",
       "</style>\n",
       "<table border=\"1\" class=\"dataframe\">\n",
       "  <thead>\n",
       "    <tr style=\"text-align: right;\">\n",
       "      <th></th>\n",
       "      <th>0</th>\n",
       "      <th>1</th>\n",
       "      <th>2</th>\n",
       "    </tr>\n",
       "  </thead>\n",
       "  <tbody>\n",
       "    <tr>\n",
       "      <th>amount</th>\n",
       "      <td>107.98</td>\n",
       "      <td>247.38</td>\n",
       "      <td>27.13</td>\n",
       "    </tr>\n",
       "    <tr>\n",
       "      <th>city_A</th>\n",
       "      <td>0.21</td>\n",
       "      <td>0.41</td>\n",
       "      <td>0.15</td>\n",
       "    </tr>\n",
       "    <tr>\n",
       "      <th>city_B</th>\n",
       "      <td>0.45</td>\n",
       "      <td>0.59</td>\n",
       "      <td>0.22</td>\n",
       "    </tr>\n",
       "    <tr>\n",
       "      <th>city_C</th>\n",
       "      <td>0.33</td>\n",
       "      <td>0.00</td>\n",
       "      <td>0.63</td>\n",
       "    </tr>\n",
       "  </tbody>\n",
       "</table>\n",
       "</div>"
      ],
      "text/plain": [
       "            0      1     2\n",
       "amount 107.98 247.38 27.13\n",
       "city_A   0.21   0.41  0.15\n",
       "city_B   0.45   0.59  0.22\n",
       "city_C   0.33   0.00  0.63"
      ]
     },
     "execution_count": 37,
     "metadata": {},
     "output_type": "execute_result"
    }
   ],
   "source": [
    "pd.options.display.float_format = '{:,.2f}'.format\n",
    "\n",
    "clustering_results = pd.DataFrame(centers, columns = df.columns)\n",
    "clustering_results = clustering_results.T\n",
    "clustering_results"
   ]
  },
  {
   "cell_type": "code",
   "execution_count": 38,
   "metadata": {},
   "outputs": [
    {
     "data": {
      "text/html": [
       "<div>\n",
       "<style scoped>\n",
       "    .dataframe tbody tr th:only-of-type {\n",
       "        vertical-align: middle;\n",
       "    }\n",
       "\n",
       "    .dataframe tbody tr th {\n",
       "        vertical-align: top;\n",
       "    }\n",
       "\n",
       "    .dataframe thead th {\n",
       "        text-align: right;\n",
       "    }\n",
       "</style>\n",
       "<table border=\"1\" class=\"dataframe\">\n",
       "  <thead>\n",
       "    <tr style=\"text-align: right;\">\n",
       "      <th></th>\n",
       "      <th>product_category_1</th>\n",
       "      <th>product_category_5</th>\n",
       "      <th>product_category_8</th>\n",
       "      <th>product_category_other</th>\n",
       "    </tr>\n",
       "    <tr>\n",
       "      <th>user_id</th>\n",
       "      <th></th>\n",
       "      <th></th>\n",
       "      <th></th>\n",
       "      <th></th>\n",
       "    </tr>\n",
       "  </thead>\n",
       "  <tbody>\n",
       "    <tr>\n",
       "      <th>1000001</th>\n",
       "      <td>0.12</td>\n",
       "      <td>0.06</td>\n",
       "      <td>0.24</td>\n",
       "      <td>0.59</td>\n",
       "    </tr>\n",
       "    <tr>\n",
       "      <th>1000002</th>\n",
       "      <td>0.41</td>\n",
       "      <td>0.17</td>\n",
       "      <td>0.33</td>\n",
       "      <td>0.09</td>\n",
       "    </tr>\n",
       "    <tr>\n",
       "      <th>1000003</th>\n",
       "      <td>0.52</td>\n",
       "      <td>0.31</td>\n",
       "      <td>0.03</td>\n",
       "      <td>0.14</td>\n",
       "    </tr>\n",
       "  </tbody>\n",
       "</table>\n",
       "</div>"
      ],
      "text/plain": [
       "         product_category_1  product_category_5  product_category_8  \\\n",
       "user_id                                                               \n",
       "1000001                0.12                0.06                0.24   \n",
       "1000002                0.41                0.17                0.33   \n",
       "1000003                0.52                0.31                0.03   \n",
       "\n",
       "         product_category_other  \n",
       "user_id                          \n",
       "1000001                    0.59  \n",
       "1000002                    0.09  \n",
       "1000003                    0.14  "
      ]
     },
     "execution_count": 38,
     "metadata": {},
     "output_type": "execute_result"
    }
   ],
   "source": [
    "prod_cat_part = data[data.columns[list(range(34,38))]]\n",
    "prod_cat_part.head(3)"
   ]
  },
  {
   "cell_type": "code",
   "execution_count": 39,
   "metadata": {
    "scrolled": false
   },
   "outputs": [
    {
     "name": "stdout",
     "output_type": "stream",
     "text": [
      "Threshold for low spending 15.66\n",
      "Threshold for high spending 73.27\n",
      "\n",
      "Counts of classes\n",
      "[1473 2945 1473]\n"
     ]
    }
   ],
   "source": [
    "labels = np.ones(len(data))\n",
    "\n",
    "t_low = data.amount.quantile(0.25)\n",
    "print('Threshold for low spending',round(t_low,2))\n",
    "t_high = data.amount.quantile(0.75)\n",
    "print('Threshold for high spending',round(t_high,2))\n",
    "\n",
    "labels[data.amount < t_low] = 0\n",
    "labels[data.amount > t_high] = 2\n",
    "print('\\nCounts of classes')\n",
    "print(np.unique(labels, return_counts=True)[1])"
   ]
  },
  {
   "cell_type": "code",
   "execution_count": 40,
   "metadata": {},
   "outputs": [],
   "source": [
    "from sklearn.model_selection import train_test_split\n",
    "from sklearn import tree\n",
    "from sklearn.metrics import accuracy_score"
   ]
  },
  {
   "cell_type": "code",
   "execution_count": 41,
   "metadata": {},
   "outputs": [
    {
     "name": "stdout",
     "output_type": "stream",
     "text": [
      "[1 0 0 0 0 1 0 0 0 1 0 0 0 0 0 0 0 0 0 0 0 0 0 0 0 0 0 0 0 0 1 0 0]\n",
      "0.0\n"
     ]
    }
   ],
   "source": [
    "to_drop = data.columns[[2]+list(range(34,38))]\n",
    "X = np.array(data.drop(to_drop, axis=1))\n",
    "y = labels\n",
    "\n",
    "X_train, X_test, y_train, y_test = train_test_split(X, y, test_size=0.33, random_state=42)\n",
    "print(X_train[0])\n",
    "print(y_train[0])"
   ]
  },
  {
   "cell_type": "code",
   "execution_count": 42,
   "metadata": {},
   "outputs": [
    {
     "data": {
      "text/plain": [
       "0.4632390745501285"
      ]
     },
     "execution_count": 42,
     "metadata": {},
     "output_type": "execute_result"
    }
   ],
   "source": [
    "model = tree.DecisionTreeClassifier()\n",
    "model = model.fit(X_train, y_train)\n",
    "\n",
    "y_pred = model.predict(X_test)\n",
    "accuracy_score(y_test, y_pred)"
   ]
  },
  {
   "cell_type": "code",
   "execution_count": 43,
   "metadata": {},
   "outputs": [
    {
     "name": "stdout",
     "output_type": "stream",
     "text": [
      "[[0. 1. 0.]\n",
      " [0. 1. 0.]\n",
      " [0. 1. 0.]\n",
      " [1. 0. 0.]\n",
      " [0. 1. 0.]]\n"
     ]
    }
   ],
   "source": [
    "y_nn = np.zeros((len(data),3))\n",
    "for i in range(len(y_nn)):\n",
    "    y_nn[i][int(labels[i])] = 1\n",
    "print(y_nn[:5])"
   ]
  },
  {
   "cell_type": "code",
   "execution_count": 44,
   "metadata": {},
   "outputs": [
    {
     "name": "stdout",
     "output_type": "stream",
     "text": [
      "[1 0 0 0 0 1 0 0 0 1 0 0 0 0 0 0 0 0 0 0 0 0 0 0 0 0 0 0 0 0 1 0 0]\n",
      "[1. 0. 0.]\n"
     ]
    }
   ],
   "source": [
    "to_drop = data.columns[[2]+list(range(34,38))]\n",
    "X = np.array(data.drop(to_drop, axis=1))\n",
    "y = y_nn\n",
    "\n",
    "X_train, X_test, y_train, y_test = train_test_split(X, y, test_size=0.33, random_state=42)\n",
    "print(X_train[0])\n",
    "print(y_train[0])"
   ]
  },
  {
   "cell_type": "code",
   "execution_count": 45,
   "metadata": {},
   "outputs": [
    {
     "name": "stderr",
     "output_type": "stream",
     "text": [
      "C:\\Work\\Anaconda\\lib\\site-packages\\h5py\\__init__.py:36: FutureWarning: Conversion of the second argument of issubdtype from `float` to `np.floating` is deprecated. In future, it will be treated as `np.float64 == np.dtype(float).type`.\n",
      "  from ._conv import register_converters as _register_converters\n"
     ]
    }
   ],
   "source": [
    "import tensorflow as tf\n",
    "from tensorflow.keras import layers"
   ]
  },
  {
   "cell_type": "code",
   "execution_count": 46,
   "metadata": {},
   "outputs": [],
   "source": [
    "model = tf.keras.models.Sequential()\n",
    "#adding an input layer and the first hidden layer\n",
    "model.add(layers.Dense(units=len(X_train[0]), activation = 'relu'))\n",
    "model.add(layers.Dense(4, activation = 'relu'))\n",
    "model.add(layers.Dense(4, activation = 'relu'))\n",
    "#Adding the output layer\n",
    "#if you dependent variable is more than 1 categorie use softmax as the activation function, the ouput dim will also be your number of features\n",
    "model.add(layers.Dense(3, activation = 'softmax'))"
   ]
  },
  {
   "cell_type": "code",
   "execution_count": 47,
   "metadata": {},
   "outputs": [],
   "source": [
    "model.compile(optimizer = tf.train.GradientDescentOptimizer(0.1), loss = 'categorical_crossentropy', metrics = ['accuracy'])"
   ]
  },
  {
   "cell_type": "code",
   "execution_count": 48,
   "metadata": {},
   "outputs": [
    {
     "name": "stdout",
     "output_type": "stream",
     "text": [
      "WARNING:tensorflow:The `nb_epoch` argument in `fit` has been renamed `epochs`.\n",
      "Epoch 1/200\n",
      "3946/3946 [==============================] - 1s 148us/step - loss: 1.0060 - acc: 0.4980\n",
      "Epoch 2/200\n",
      "3946/3946 [==============================] - 0s 71us/step - loss: 0.9780 - acc: 0.5086\n",
      "Epoch 3/200\n",
      "3946/3946 [==============================] - 0s 71us/step - loss: 0.9722 - acc: 0.5043\n",
      "Epoch 4/200\n",
      "3946/3946 [==============================] - 0s 71us/step - loss: 0.9703 - acc: 0.5117\n",
      "Epoch 5/200\n",
      "3946/3946 [==============================] - 0s 70us/step - loss: 0.9690 - acc: 0.5109\n",
      "Epoch 6/200\n",
      "3946/3946 [==============================] - 0s 76us/step - loss: 0.9659 - acc: 0.5086\n",
      "Epoch 7/200\n",
      "3946/3946 [==============================] - 0s 74us/step - loss: 0.9665 - acc: 0.5155\n",
      "Epoch 8/200\n",
      "3946/3946 [==============================] - 0s 74us/step - loss: 0.9657 - acc: 0.5122\n",
      "Epoch 9/200\n",
      "3946/3946 [==============================] - 0s 94us/step - loss: 0.9634 - acc: 0.5167\n",
      "Epoch 10/200\n",
      "3946/3946 [==============================] - 0s 77us/step - loss: 0.9627 - acc: 0.5190\n",
      "Epoch 11/200\n",
      "3946/3946 [==============================] - 0s 84us/step - loss: 0.9623 - acc: 0.5175\n",
      "Epoch 12/200\n",
      "3946/3946 [==============================] - 0s 86us/step - loss: 0.9613 - acc: 0.5205\n",
      "Epoch 13/200\n",
      "3946/3946 [==============================] - 0s 78us/step - loss: 0.9602 - acc: 0.5185\n",
      "Epoch 14/200\n",
      "3946/3946 [==============================] - 0s 93us/step - loss: 0.9593 - acc: 0.5198\n",
      "Epoch 15/200\n",
      "3946/3946 [==============================] - 0s 77us/step - loss: 0.9595 - acc: 0.5233\n",
      "Epoch 16/200\n",
      "3946/3946 [==============================] - 0s 71us/step - loss: 0.9587 - acc: 0.5264\n",
      "Epoch 17/200\n",
      "3946/3946 [==============================] - 0s 71us/step - loss: 0.9578 - acc: 0.5236\n",
      "Epoch 18/200\n",
      "3946/3946 [==============================] - 0s 69us/step - loss: 0.9580 - acc: 0.5264\n",
      "Epoch 19/200\n",
      "3946/3946 [==============================] - 0s 69us/step - loss: 0.9576 - acc: 0.5264\n",
      "Epoch 20/200\n",
      "3946/3946 [==============================] - 0s 62us/step - loss: 0.9556 - acc: 0.5253\n",
      "Epoch 21/200\n",
      "3946/3946 [==============================] - 0s 63us/step - loss: 0.9556 - acc: 0.5256\n",
      "Epoch 22/200\n",
      "3946/3946 [==============================] - 0s 68us/step - loss: 0.9539 - acc: 0.5231\n",
      "Epoch 23/200\n",
      "3946/3946 [==============================] - 0s 72us/step - loss: 0.9540 - acc: 0.5281\n",
      "Epoch 24/200\n",
      "3946/3946 [==============================] - 0s 71us/step - loss: 0.9544 - acc: 0.5302\n",
      "Epoch 25/200\n",
      "3946/3946 [==============================] - 0s 72us/step - loss: 0.9541 - acc: 0.5264\n",
      "Epoch 26/200\n",
      "3946/3946 [==============================] - 0s 71us/step - loss: 0.9529 - acc: 0.5279\n",
      "Epoch 27/200\n",
      "3946/3946 [==============================] - 0s 78us/step - loss: 0.9519 - acc: 0.5256\n",
      "Epoch 28/200\n",
      "3946/3946 [==============================] - 0s 62us/step - loss: 0.9521 - acc: 0.5289\n",
      "Epoch 29/200\n",
      "3946/3946 [==============================] - 0s 70us/step - loss: 0.9526 - acc: 0.5307\n",
      "Epoch 30/200\n",
      "3946/3946 [==============================] - 0s 70us/step - loss: 0.9502 - acc: 0.5271\n",
      "Epoch 31/200\n",
      "3946/3946 [==============================] - 0s 73us/step - loss: 0.9523 - acc: 0.5289\n",
      "Epoch 32/200\n",
      "3946/3946 [==============================] - 0s 74us/step - loss: 0.9491 - acc: 0.5294\n",
      "Epoch 33/200\n",
      "3946/3946 [==============================] - 0s 75us/step - loss: 0.9502 - acc: 0.5297\n",
      "Epoch 34/200\n",
      "3946/3946 [==============================] - 0s 78us/step - loss: 0.9491 - acc: 0.5302\n",
      "Epoch 35/200\n",
      "3946/3946 [==============================] - 0s 69us/step - loss: 0.9489 - acc: 0.5304\n",
      "Epoch 36/200\n",
      "3946/3946 [==============================] - 0s 71us/step - loss: 0.9480 - acc: 0.5284\n",
      "Epoch 37/200\n",
      "3946/3946 [==============================] - 0s 74us/step - loss: 0.9477 - acc: 0.5299\n",
      "Epoch 38/200\n",
      "3946/3946 [==============================] - 0s 64us/step - loss: 0.9455 - acc: 0.5375\n",
      "Epoch 39/200\n",
      "3946/3946 [==============================] - 0s 65us/step - loss: 0.9477 - acc: 0.5319\n",
      "Epoch 40/200\n",
      "3946/3946 [==============================] - 0s 67us/step - loss: 0.9454 - acc: 0.5340\n",
      "Epoch 41/200\n",
      "3946/3946 [==============================] - 0s 71us/step - loss: 0.9460 - acc: 0.5352\n",
      "Epoch 42/200\n",
      "3946/3946 [==============================] - 0s 71us/step - loss: 0.9443 - acc: 0.5329\n",
      "Epoch 43/200\n",
      "3946/3946 [==============================] - 0s 71us/step - loss: 0.9440 - acc: 0.5314\n",
      "Epoch 44/200\n",
      "3946/3946 [==============================] - 0s 78us/step - loss: 0.9420 - acc: 0.5324\n",
      "Epoch 45/200\n",
      "3946/3946 [==============================] - 0s 56us/step - loss: 0.9423 - acc: 0.5385\n",
      "Epoch 46/200\n",
      "3946/3946 [==============================] - 0s 70us/step - loss: 0.9432 - acc: 0.5340\n",
      "Epoch 47/200\n",
      "3946/3946 [==============================] - 0s 68us/step - loss: 0.9419 - acc: 0.5350\n",
      "Epoch 48/200\n",
      "3946/3946 [==============================] - 0s 65us/step - loss: 0.9408 - acc: 0.5269\n",
      "Epoch 49/200\n",
      "3946/3946 [==============================] - 0s 68us/step - loss: 0.9422 - acc: 0.5362\n",
      "Epoch 50/200\n",
      "3946/3946 [==============================] - 0s 68us/step - loss: 0.9389 - acc: 0.5388\n",
      "Epoch 51/200\n",
      "3946/3946 [==============================] - 0s 68us/step - loss: 0.9388 - acc: 0.5322\n",
      "Epoch 52/200\n",
      "3946/3946 [==============================] - 0s 68us/step - loss: 0.9370 - acc: 0.5380\n",
      "Epoch 53/200\n",
      "3946/3946 [==============================] - 0s 66us/step - loss: 0.9387 - acc: 0.5329\n",
      "Epoch 54/200\n",
      "3946/3946 [==============================] - 0s 70us/step - loss: 0.9388 - acc: 0.5378\n",
      "Epoch 55/200\n",
      "3946/3946 [==============================] - 0s 66us/step - loss: 0.9376 - acc: 0.5357\n",
      "Epoch 56/200\n",
      "3946/3946 [==============================] - 0s 72us/step - loss: 0.9386 - acc: 0.5337\n",
      "Epoch 57/200\n",
      "3946/3946 [==============================] - 0s 67us/step - loss: 0.9369 - acc: 0.5279\n",
      "Epoch 58/200\n",
      "3946/3946 [==============================] - 0s 66us/step - loss: 0.9358 - acc: 0.5360\n",
      "Epoch 59/200\n",
      "3946/3946 [==============================] - 0s 65us/step - loss: 0.9338 - acc: 0.5327\n",
      "Epoch 60/200\n",
      "3946/3946 [==============================] - 0s 70us/step - loss: 0.9344 - acc: 0.5405\n",
      "Epoch 61/200\n",
      "3946/3946 [==============================] - 0s 67us/step - loss: 0.9344 - acc: 0.5350\n",
      "Epoch 62/200\n",
      "3946/3946 [==============================] - 0s 72us/step - loss: 0.9320 - acc: 0.5350\n",
      "Epoch 63/200\n",
      "3946/3946 [==============================] - 0s 71us/step - loss: 0.9323 - acc: 0.5383\n",
      "Epoch 64/200\n",
      "3946/3946 [==============================] - 0s 74us/step - loss: 0.9304 - acc: 0.5393\n",
      "Epoch 65/200\n",
      "3946/3946 [==============================] - 0s 75us/step - loss: 0.9316 - acc: 0.5340\n",
      "Epoch 66/200\n",
      "3946/3946 [==============================] - 0s 58us/step - loss: 0.9273 - acc: 0.5433: 0s - loss: 0.9118 - acc: 0.5\n",
      "Epoch 67/200\n",
      "3946/3946 [==============================] - 0s 67us/step - loss: 0.9285 - acc: 0.5383\n",
      "Epoch 68/200\n",
      "3946/3946 [==============================] - 0s 71us/step - loss: 0.9284 - acc: 0.5426\n",
      "Epoch 69/200\n",
      "3946/3946 [==============================] - 0s 72us/step - loss: 0.9267 - acc: 0.5400\n",
      "Epoch 70/200\n",
      "3946/3946 [==============================] - 0s 67us/step - loss: 0.9285 - acc: 0.5405\n",
      "Epoch 71/200\n",
      "3946/3946 [==============================] - 0s 66us/step - loss: 0.9259 - acc: 0.5380\n",
      "Epoch 72/200\n",
      "3946/3946 [==============================] - 0s 70us/step - loss: 0.9242 - acc: 0.5431\n",
      "Epoch 73/200\n",
      "3946/3946 [==============================] - 0s 70us/step - loss: 0.9270 - acc: 0.5449\n",
      "Epoch 74/200\n",
      "3946/3946 [==============================] - 0s 74us/step - loss: 0.9268 - acc: 0.5393\n",
      "Epoch 75/200\n",
      "3946/3946 [==============================] - 0s 70us/step - loss: 0.9246 - acc: 0.5378\n",
      "Epoch 76/200\n",
      "3946/3946 [==============================] - 0s 72us/step - loss: 0.9245 - acc: 0.5393\n",
      "Epoch 77/200\n",
      "3946/3946 [==============================] - 0s 72us/step - loss: 0.9238 - acc: 0.5370\n",
      "Epoch 78/200\n",
      "3946/3946 [==============================] - 0s 71us/step - loss: 0.9217 - acc: 0.5418\n",
      "Epoch 79/200\n",
      "3946/3946 [==============================] - 0s 62us/step - loss: 0.9238 - acc: 0.5456\n",
      "Epoch 80/200\n",
      "3946/3946 [==============================] - 0s 64us/step - loss: 0.9219 - acc: 0.5433\n",
      "Epoch 81/200\n"
     ]
    },
    {
     "name": "stdout",
     "output_type": "stream",
     "text": [
      "3946/3946 [==============================] - 0s 72us/step - loss: 0.9206 - acc: 0.5390\n",
      "Epoch 82/200\n",
      "3946/3946 [==============================] - 0s 68us/step - loss: 0.9237 - acc: 0.5388\n",
      "Epoch 83/200\n",
      "3946/3946 [==============================] - 0s 73us/step - loss: 0.9202 - acc: 0.5388\n",
      "Epoch 84/200\n",
      "3946/3946 [==============================] - 0s 68us/step - loss: 0.9216 - acc: 0.5421\n",
      "Epoch 85/200\n",
      "3946/3946 [==============================] - 0s 76us/step - loss: 0.9195 - acc: 0.5476\n",
      "Epoch 86/200\n",
      "3946/3946 [==============================] - 0s 71us/step - loss: 0.9193 - acc: 0.5482\n",
      "Epoch 87/200\n",
      "3946/3946 [==============================] - 0s 67us/step - loss: 0.9203 - acc: 0.5471\n",
      "Epoch 88/200\n",
      "3946/3946 [==============================] - 0s 69us/step - loss: 0.9189 - acc: 0.5482\n",
      "Epoch 89/200\n",
      "3946/3946 [==============================] - 0s 71us/step - loss: 0.9199 - acc: 0.5408\n",
      "Epoch 90/200\n",
      "3946/3946 [==============================] - 0s 68us/step - loss: 0.9174 - acc: 0.5418\n",
      "Epoch 91/200\n",
      "3946/3946 [==============================] - 0s 67us/step - loss: 0.9197 - acc: 0.5454\n",
      "Epoch 92/200\n",
      "3946/3946 [==============================] - 0s 67us/step - loss: 0.9165 - acc: 0.5454\n",
      "Epoch 93/200\n",
      "3946/3946 [==============================] - 0s 73us/step - loss: 0.9160 - acc: 0.5514\n",
      "Epoch 94/200\n",
      "3946/3946 [==============================] - 0s 72us/step - loss: 0.9174 - acc: 0.5441\n",
      "Epoch 95/200\n",
      "3946/3946 [==============================] - 0s 71us/step - loss: 0.9164 - acc: 0.5449\n",
      "Epoch 96/200\n",
      "3946/3946 [==============================] - 0s 71us/step - loss: 0.9144 - acc: 0.5545\n",
      "Epoch 97/200\n",
      "3946/3946 [==============================] - 0s 69us/step - loss: 0.9137 - acc: 0.5454\n",
      "Epoch 98/200\n",
      "3946/3946 [==============================] - 0s 67us/step - loss: 0.9155 - acc: 0.5433\n",
      "Epoch 99/200\n",
      "3946/3946 [==============================] - 0s 67us/step - loss: 0.9139 - acc: 0.5517\n",
      "Epoch 100/200\n",
      "3946/3946 [==============================] - 0s 71us/step - loss: 0.9116 - acc: 0.5474\n",
      "Epoch 101/200\n",
      "3946/3946 [==============================] - 0s 67us/step - loss: 0.9148 - acc: 0.5428\n",
      "Epoch 102/200\n",
      "3946/3946 [==============================] - 0s 58us/step - loss: 0.9133 - acc: 0.5464\n",
      "Epoch 103/200\n",
      "3946/3946 [==============================] - 0s 68us/step - loss: 0.9128 - acc: 0.5482\n",
      "Epoch 104/200\n",
      "3946/3946 [==============================] - 0s 71us/step - loss: 0.9102 - acc: 0.5509\n",
      "Epoch 105/200\n",
      "3946/3946 [==============================] - 0s 64us/step - loss: 0.9138 - acc: 0.5512\n",
      "Epoch 106/200\n",
      "3946/3946 [==============================] - 0s 61us/step - loss: 0.9111 - acc: 0.5527\n",
      "Epoch 107/200\n",
      "3946/3946 [==============================] - 0s 73us/step - loss: 0.9138 - acc: 0.5492\n",
      "Epoch 108/200\n",
      "3946/3946 [==============================] - 0s 66us/step - loss: 0.9131 - acc: 0.5461\n",
      "Epoch 109/200\n",
      "3946/3946 [==============================] - 0s 67us/step - loss: 0.9102 - acc: 0.5403\n",
      "Epoch 110/200\n",
      "3946/3946 [==============================] - 0s 69us/step - loss: 0.9099 - acc: 0.5466\n",
      "Epoch 111/200\n",
      "3946/3946 [==============================] - 0s 73us/step - loss: 0.9099 - acc: 0.5443\n",
      "Epoch 112/200\n",
      "3946/3946 [==============================] - 0s 69us/step - loss: 0.9118 - acc: 0.5451\n",
      "Epoch 113/200\n",
      "3946/3946 [==============================] - 0s 67us/step - loss: 0.9100 - acc: 0.5479\n",
      "Epoch 114/200\n",
      "3946/3946 [==============================] - 0s 66us/step - loss: 0.9070 - acc: 0.5512\n",
      "Epoch 115/200\n",
      "3946/3946 [==============================] - 0s 72us/step - loss: 0.9072 - acc: 0.5527\n",
      "Epoch 116/200\n",
      "3946/3946 [==============================] - 0s 69us/step - loss: 0.9075 - acc: 0.5469\n",
      "Epoch 117/200\n",
      "3946/3946 [==============================] - 0s 69us/step - loss: 0.9069 - acc: 0.5469\n",
      "Epoch 118/200\n",
      "3946/3946 [==============================] - 0s 69us/step - loss: 0.9051 - acc: 0.5530\n",
      "Epoch 119/200\n",
      "3946/3946 [==============================] - 0s 77us/step - loss: 0.9065 - acc: 0.5479\n",
      "Epoch 120/200\n",
      "3946/3946 [==============================] - 0s 63us/step - loss: 0.9058 - acc: 0.5482\n",
      "Epoch 121/200\n",
      "3946/3946 [==============================] - 0s 71us/step - loss: 0.9055 - acc: 0.5474\n",
      "Epoch 122/200\n",
      "3946/3946 [==============================] - 0s 70us/step - loss: 0.9054 - acc: 0.5484\n",
      "Epoch 123/200\n",
      "3946/3946 [==============================] - 0s 61us/step - loss: 0.9024 - acc: 0.5494\n",
      "Epoch 124/200\n",
      "3946/3946 [==============================] - 0s 67us/step - loss: 0.9050 - acc: 0.5504\n",
      "Epoch 125/200\n",
      "3946/3946 [==============================] - 0s 72us/step - loss: 0.9050 - acc: 0.5502\n",
      "Epoch 126/200\n",
      "3946/3946 [==============================] - 0s 73us/step - loss: 0.9044 - acc: 0.5535\n",
      "Epoch 127/200\n",
      "3946/3946 [==============================] - 0s 70us/step - loss: 0.9063 - acc: 0.5479\n",
      "Epoch 128/200\n",
      "3946/3946 [==============================] - 0s 60us/step - loss: 0.9053 - acc: 0.5474\n",
      "Epoch 129/200\n",
      "3946/3946 [==============================] - 0s 60us/step - loss: 0.9030 - acc: 0.5535\n",
      "Epoch 130/200\n",
      "3946/3946 [==============================] - 0s 71us/step - loss: 0.9000 - acc: 0.5552\n",
      "Epoch 131/200\n",
      "3946/3946 [==============================] - 0s 72us/step - loss: 0.9018 - acc: 0.5540\n",
      "Epoch 132/200\n",
      "3946/3946 [==============================] - 0s 69us/step - loss: 0.9026 - acc: 0.5499\n",
      "Epoch 133/200\n",
      "3946/3946 [==============================] - 0s 73us/step - loss: 0.8994 - acc: 0.5547\n",
      "Epoch 134/200\n",
      "3946/3946 [==============================] - 0s 75us/step - loss: 0.9021 - acc: 0.5499\n",
      "Epoch 135/200\n",
      "3946/3946 [==============================] - 0s 63us/step - loss: 0.9019 - acc: 0.5514\n",
      "Epoch 136/200\n",
      "3946/3946 [==============================] - 0s 68us/step - loss: 0.9000 - acc: 0.5520\n",
      "Epoch 137/200\n",
      "3946/3946 [==============================] - 0s 70us/step - loss: 0.9024 - acc: 0.5514\n",
      "Epoch 138/200\n",
      "3946/3946 [==============================] - 0s 69us/step - loss: 0.9001 - acc: 0.5588\n",
      "Epoch 139/200\n",
      "3946/3946 [==============================] - 0s 66us/step - loss: 0.9019 - acc: 0.5545\n",
      "Epoch 140/200\n",
      "3946/3946 [==============================] - 0s 68us/step - loss: 0.8957 - acc: 0.5555\n",
      "Epoch 141/200\n",
      "3946/3946 [==============================] - 0s 70us/step - loss: 0.9009 - acc: 0.5568\n",
      "Epoch 142/200\n",
      "3946/3946 [==============================] - 0s 69us/step - loss: 0.8971 - acc: 0.5568\n",
      "Epoch 143/200\n",
      "3946/3946 [==============================] - 0s 67us/step - loss: 0.8978 - acc: 0.5530\n",
      "Epoch 144/200\n",
      "3946/3946 [==============================] - 0s 71us/step - loss: 0.8978 - acc: 0.5570\n",
      "Epoch 145/200\n",
      "3946/3946 [==============================] - 0s 72us/step - loss: 0.8976 - acc: 0.5575\n",
      "Epoch 146/200\n",
      "3946/3946 [==============================] - 0s 70us/step - loss: 0.8963 - acc: 0.5613\n",
      "Epoch 147/200\n",
      "3946/3946 [==============================] - 0s 56us/step - loss: 0.8963 - acc: 0.5590\n",
      "Epoch 148/200\n",
      "3946/3946 [==============================] - 0s 69us/step - loss: 0.8960 - acc: 0.5568\n",
      "Epoch 149/200\n",
      "3946/3946 [==============================] - 0s 69us/step - loss: 0.8968 - acc: 0.5596\n",
      "Epoch 150/200\n",
      "3946/3946 [==============================] - 0s 69us/step - loss: 0.8969 - acc: 0.5563\n",
      "Epoch 151/200\n",
      "3946/3946 [==============================] - 0s 69us/step - loss: 0.8960 - acc: 0.5540\n",
      "Epoch 152/200\n",
      "3946/3946 [==============================] - 0s 71us/step - loss: 0.8942 - acc: 0.5570\n",
      "Epoch 153/200\n",
      "3946/3946 [==============================] - 0s 67us/step - loss: 0.8975 - acc: 0.5522\n",
      "Epoch 154/200\n",
      "3946/3946 [==============================] - 0s 67us/step - loss: 0.8951 - acc: 0.5603\n",
      "Epoch 155/200\n",
      "3946/3946 [==============================] - 0s 69us/step - loss: 0.8951 - acc: 0.5659\n",
      "Epoch 156/200\n",
      "3946/3946 [==============================] - 0s 69us/step - loss: 0.8954 - acc: 0.5583\n",
      "Epoch 157/200\n",
      "3946/3946 [==============================] - 0s 70us/step - loss: 0.8942 - acc: 0.5601\n",
      "Epoch 158/200\n",
      "3946/3946 [==============================] - 0s 68us/step - loss: 0.8934 - acc: 0.5585\n",
      "Epoch 159/200\n",
      "3946/3946 [==============================] - 0s 68us/step - loss: 0.8947 - acc: 0.5578\n",
      "Epoch 160/200\n",
      "3946/3946 [==============================] - 0s 57us/step - loss: 0.8964 - acc: 0.5593\n",
      "Epoch 161/200\n",
      "3946/3946 [==============================] - 0s 68us/step - loss: 0.8945 - acc: 0.5547\n",
      "Epoch 162/200\n"
     ]
    },
    {
     "name": "stdout",
     "output_type": "stream",
     "text": [
      "3946/3946 [==============================] - 0s 68us/step - loss: 0.8949 - acc: 0.5585\n",
      "Epoch 163/200\n",
      "3946/3946 [==============================] - 0s 69us/step - loss: 0.8932 - acc: 0.5560\n",
      "Epoch 164/200\n",
      "3946/3946 [==============================] - 0s 70us/step - loss: 0.8931 - acc: 0.5644\n",
      "Epoch 165/200\n",
      "3946/3946 [==============================] - 0s 71us/step - loss: 0.8950 - acc: 0.5580\n",
      "Epoch 166/200\n",
      "3946/3946 [==============================] - 0s 71us/step - loss: 0.8933 - acc: 0.5628\n",
      "Epoch 167/200\n",
      "3946/3946 [==============================] - 0s 73us/step - loss: 0.8929 - acc: 0.5558\n",
      "Epoch 168/200\n",
      "3946/3946 [==============================] - 0s 71us/step - loss: 0.8920 - acc: 0.5641\n",
      "Epoch 169/200\n",
      "3946/3946 [==============================] - 0s 69us/step - loss: 0.8902 - acc: 0.5674\n",
      "Epoch 170/200\n",
      "3946/3946 [==============================] - 0s 72us/step - loss: 0.8919 - acc: 0.5575\n",
      "Epoch 171/200\n",
      "3946/3946 [==============================] - 0s 67us/step - loss: 0.8893 - acc: 0.5623\n",
      "Epoch 172/200\n",
      "3946/3946 [==============================] - 0s 69us/step - loss: 0.8909 - acc: 0.5583\n",
      "Epoch 173/200\n",
      "3946/3946 [==============================] - 0s 69us/step - loss: 0.8923 - acc: 0.5583\n",
      "Epoch 174/200\n",
      "3946/3946 [==============================] - 0s 71us/step - loss: 0.8917 - acc: 0.5603\n",
      "Epoch 175/200\n",
      "3946/3946 [==============================] - 0s 71us/step - loss: 0.8879 - acc: 0.5606\n",
      "Epoch 176/200\n",
      "3946/3946 [==============================] - 0s 57us/step - loss: 0.8913 - acc: 0.5575\n",
      "Epoch 177/200\n",
      "3946/3946 [==============================] - 0s 69us/step - loss: 0.8881 - acc: 0.5603\n",
      "Epoch 178/200\n",
      "3946/3946 [==============================] - 0s 69us/step - loss: 0.8895 - acc: 0.5628\n",
      "Epoch 179/200\n",
      "3946/3946 [==============================] - 0s 68us/step - loss: 0.8882 - acc: 0.5560\n",
      "Epoch 180/200\n",
      "3946/3946 [==============================] - 0s 74us/step - loss: 0.8896 - acc: 0.5626\n",
      "Epoch 181/200\n",
      "3946/3946 [==============================] - 0s 62us/step - loss: 0.8908 - acc: 0.5558\n",
      "Epoch 182/200\n",
      "3946/3946 [==============================] - 0s 72us/step - loss: 0.8899 - acc: 0.5555\n",
      "Epoch 183/200\n",
      "3946/3946 [==============================] - 0s 70us/step - loss: 0.8912 - acc: 0.5598\n",
      "Epoch 184/200\n",
      "3946/3946 [==============================] - 0s 70us/step - loss: 0.8884 - acc: 0.5580\n",
      "Epoch 185/200\n",
      "3946/3946 [==============================] - 0s 72us/step - loss: 0.8894 - acc: 0.5641\n",
      "Epoch 186/200\n",
      "3946/3946 [==============================] - 0s 73us/step - loss: 0.8911 - acc: 0.5616\n",
      "Epoch 187/200\n",
      "3946/3946 [==============================] - 0s 69us/step - loss: 0.8902 - acc: 0.5522\n",
      "Epoch 188/200\n",
      "3946/3946 [==============================] - 0s 74us/step - loss: 0.8867 - acc: 0.5611\n",
      "Epoch 189/200\n",
      "3946/3946 [==============================] - 0s 71us/step - loss: 0.8903 - acc: 0.5613\n",
      "Epoch 190/200\n",
      "3946/3946 [==============================] - 0s 70us/step - loss: 0.8847 - acc: 0.5677\n",
      "Epoch 191/200\n",
      "3946/3946 [==============================] - 0s 65us/step - loss: 0.8892 - acc: 0.5634\n",
      "Epoch 192/200\n",
      "3946/3946 [==============================] - 0s 74us/step - loss: 0.8867 - acc: 0.5628\n",
      "Epoch 193/200\n",
      "3946/3946 [==============================] - 0s 69us/step - loss: 0.8863 - acc: 0.5654\n",
      "Epoch 194/200\n",
      "3946/3946 [==============================] - 0s 69us/step - loss: 0.8867 - acc: 0.5651\n",
      "Epoch 195/200\n",
      "3946/3946 [==============================] - 0s 69us/step - loss: 0.8877 - acc: 0.5593\n",
      "Epoch 196/200\n",
      "3946/3946 [==============================] - 0s 69us/step - loss: 0.8848 - acc: 0.5649\n",
      "Epoch 197/200\n",
      "3946/3946 [==============================] - 0s 45us/step - loss: 0.8885 - acc: 0.5578\n",
      "Epoch 198/200\n",
      "3946/3946 [==============================] - 0s 67us/step - loss: 0.8833 - acc: 0.5601\n",
      "Epoch 199/200\n",
      "3946/3946 [==============================] - 0s 69us/step - loss: 0.8864 - acc: 0.5621\n",
      "Epoch 200/200\n",
      "3946/3946 [==============================] - 0s 68us/step - loss: 0.8873 - acc: 0.5585\n"
     ]
    },
    {
     "data": {
      "text/plain": [
       "<tensorflow.python.keras.callbacks.History at 0x177fa33f940>"
      ]
     },
     "execution_count": 48,
     "metadata": {},
     "output_type": "execute_result"
    }
   ],
   "source": [
    "#Fitting the ANN to the traning set\n",
    "model.fit(X_train,y_train,batch_size=20 ,nb_epoch=200)"
   ]
  },
  {
   "cell_type": "code",
   "execution_count": 49,
   "metadata": {},
   "outputs": [
    {
     "data": {
      "text/plain": [
       "0.5105398457583548"
      ]
     },
     "execution_count": 49,
     "metadata": {},
     "output_type": "execute_result"
    }
   ],
   "source": [
    "y_pred = model.predict(X_test)\n",
    "y_pred_processed = np.zeros((len(y_pred),3))\n",
    "for i in range(len(y_pred)):\n",
    "    y_pred_processed[i][np.argmax(y_pred[i])] = 1\n",
    "accuracy_score(y_pred_processed, y_test)"
   ]
  }
 ],
 "metadata": {
  "kernelspec": {
   "display_name": "Python 3",
   "language": "python",
   "name": "python3"
  },
  "language_info": {
   "codemirror_mode": {
    "name": "ipython",
    "version": 3
   },
   "file_extension": ".py",
   "mimetype": "text/x-python",
   "name": "python",
   "nbconvert_exporter": "python",
   "pygments_lexer": "ipython3",
   "version": "3.6.5"
  }
 },
 "nbformat": 4,
 "nbformat_minor": 2
}
