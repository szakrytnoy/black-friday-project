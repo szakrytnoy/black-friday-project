{
 "cells": [
  {
   "cell_type": "code",
   "execution_count": 1,
   "metadata": {},
   "outputs": [],
   "source": [
    "import pandas as pd\n",
    "import numpy as np"
   ]
  },
  {
   "cell_type": "code",
   "execution_count": 2,
   "metadata": {},
   "outputs": [
    {
     "name": "stdout",
     "output_type": "stream",
     "text": [
      "Number of observations 5891\n"
     ]
    },
    {
     "data": {
      "text/html": [
       "<div>\n",
       "<style scoped>\n",
       "    .dataframe tbody tr th:only-of-type {\n",
       "        vertical-align: middle;\n",
       "    }\n",
       "\n",
       "    .dataframe tbody tr th {\n",
       "        vertical-align: top;\n",
       "    }\n",
       "\n",
       "    .dataframe thead th {\n",
       "        text-align: right;\n",
       "    }\n",
       "</style>\n",
       "<table border=\"1\" class=\"dataframe\">\n",
       "  <thead>\n",
       "    <tr style=\"text-align: right;\">\n",
       "      <th></th>\n",
       "      <th>Gender</th>\n",
       "      <th>Marital_Status</th>\n",
       "      <th>oneProduct</th>\n",
       "      <th>prefCount</th>\n",
       "      <th>totCount</th>\n",
       "      <th>preftotCount</th>\n",
       "      <th>prefPurchase</th>\n",
       "      <th>totPurchase</th>\n",
       "      <th>preftotPurchase</th>\n",
       "      <th>Age_0_17</th>\n",
       "      <th>...</th>\n",
       "      <th>CityYears_3</th>\n",
       "      <th>CityYears_4gt</th>\n",
       "      <th>prefCat1_1</th>\n",
       "      <th>prefCat1_5</th>\n",
       "      <th>prefCat1_8</th>\n",
       "      <th>prefCat1_19</th>\n",
       "      <th>prefCat2_1</th>\n",
       "      <th>prefCat2_5</th>\n",
       "      <th>prefCat2_8</th>\n",
       "      <th>prefCat2_19</th>\n",
       "    </tr>\n",
       "  </thead>\n",
       "  <tbody>\n",
       "    <tr>\n",
       "      <th>0</th>\n",
       "      <td>0</td>\n",
       "      <td>0</td>\n",
       "      <td>0</td>\n",
       "      <td>0.035197</td>\n",
       "      <td>0.028431</td>\n",
       "      <td>0.485294</td>\n",
       "      <td>0.029672</td>\n",
       "      <td>0.027579</td>\n",
       "      <td>0.365813</td>\n",
       "      <td>1</td>\n",
       "      <td>...</td>\n",
       "      <td>0</td>\n",
       "      <td>0</td>\n",
       "      <td>0</td>\n",
       "      <td>0</td>\n",
       "      <td>0</td>\n",
       "      <td>1</td>\n",
       "      <td>0</td>\n",
       "      <td>0</td>\n",
       "      <td>1</td>\n",
       "      <td>0</td>\n",
       "    </tr>\n",
       "    <tr>\n",
       "      <th>1</th>\n",
       "      <td>1</td>\n",
       "      <td>0</td>\n",
       "      <td>0</td>\n",
       "      <td>0.111801</td>\n",
       "      <td>0.069608</td>\n",
       "      <td>0.692982</td>\n",
       "      <td>0.108858</td>\n",
       "      <td>0.073027</td>\n",
       "      <td>0.662439</td>\n",
       "      <td>0</td>\n",
       "      <td>...</td>\n",
       "      <td>0</td>\n",
       "      <td>1</td>\n",
       "      <td>1</td>\n",
       "      <td>0</td>\n",
       "      <td>0</td>\n",
       "      <td>0</td>\n",
       "      <td>0</td>\n",
       "      <td>0</td>\n",
       "      <td>1</td>\n",
       "      <td>0</td>\n",
       "    </tr>\n",
       "    <tr>\n",
       "      <th>2</th>\n",
       "      <td>1</td>\n",
       "      <td>0</td>\n",
       "      <td>0</td>\n",
       "      <td>0.045549</td>\n",
       "      <td>0.023529</td>\n",
       "      <td>0.798851</td>\n",
       "      <td>0.048367</td>\n",
       "      <td>0.028356</td>\n",
       "      <td>0.786757</td>\n",
       "      <td>0</td>\n",
       "      <td>...</td>\n",
       "      <td>1</td>\n",
       "      <td>0</td>\n",
       "      <td>1</td>\n",
       "      <td>0</td>\n",
       "      <td>0</td>\n",
       "      <td>0</td>\n",
       "      <td>0</td>\n",
       "      <td>1</td>\n",
       "      <td>0</td>\n",
       "      <td>0</td>\n",
       "    </tr>\n",
       "  </tbody>\n",
       "</table>\n",
       "<p>3 rows × 32 columns</p>\n",
       "</div>"
      ],
      "text/plain": [
       "   Gender  Marital_Status  oneProduct  prefCount  totCount  preftotCount  \\\n",
       "0       0               0           0   0.035197  0.028431      0.485294   \n",
       "1       1               0           0   0.111801  0.069608      0.692982   \n",
       "2       1               0           0   0.045549  0.023529      0.798851   \n",
       "\n",
       "   prefPurchase  totPurchase  preftotPurchase  Age_0_17     ...       \\\n",
       "0      0.029672     0.027579         0.365813         1     ...        \n",
       "1      0.108858     0.073027         0.662439         0     ...        \n",
       "2      0.048367     0.028356         0.786757         0     ...        \n",
       "\n",
       "   CityYears_3  CityYears_4gt  prefCat1_1  prefCat1_5  prefCat1_8  \\\n",
       "0            0              0           0           0           0   \n",
       "1            0              1           1           0           0   \n",
       "2            1              0           1           0           0   \n",
       "\n",
       "   prefCat1_19  prefCat2_1  prefCat2_5  prefCat2_8  prefCat2_19  \n",
       "0            1           0           0           1            0  \n",
       "1            0           0           0           1            0  \n",
       "2            0           0           1           0            0  \n",
       "\n",
       "[3 rows x 32 columns]"
      ]
     },
     "execution_count": 2,
     "metadata": {},
     "output_type": "execute_result"
    }
   ],
   "source": [
    "df = pd.read_csv('databfNorm.csv', engine = 'python')\n",
    "print('Number of observations',len(df))\n",
    "df.head(3)"
   ]
  },
  {
   "cell_type": "code",
   "execution_count": 3,
   "metadata": {},
   "outputs": [
    {
     "name": "stdout",
     "output_type": "stream",
     "text": [
      "0 Gender\n",
      "1 Marital_Status\n",
      "2 oneProduct\n",
      "3 prefCount\n",
      "4 totCount\n",
      "5 preftotCount\n",
      "6 prefPurchase\n",
      "7 totPurchase\n",
      "8 preftotPurchase\n",
      "9 Age_0_17\n",
      "10 Age_18_25\n",
      "11 Age_26_35\n",
      "12 Age_36_45\n",
      "13 Age_46_50\n",
      "14 Age_51_55\n",
      "15 Age_55gt\n",
      "16 City_Category_A\n",
      "17 City_Category_B\n",
      "18 City_Category_C\n",
      "19 CityYears_0\n",
      "20 CityYears_1\n",
      "21 CityYears_2\n",
      "22 CityYears_3\n",
      "23 CityYears_4gt\n",
      "24 prefCat1_1\n",
      "25 prefCat1_5\n",
      "26 prefCat1_8\n",
      "27 prefCat1_19\n",
      "28 prefCat2_1\n",
      "29 prefCat2_5\n",
      "30 prefCat2_8\n",
      "31 prefCat2_19\n"
     ]
    }
   ],
   "source": [
    "for i in range(len(df.columns)):\n",
    "    print(i, df.columns[i])"
   ]
  },
  {
   "cell_type": "code",
   "execution_count": 29,
   "metadata": {},
   "outputs": [
    {
     "name": "stdout",
     "output_type": "stream",
     "text": [
      "[0.         0.         0.         0.03519669 0.02843137 0.48529412\n",
      " 0.02967225 0.02757857 0.36581268 1.         0.         0.\n",
      " 0.         0.         0.         0.         1.         0.\n",
      " 0.         0.         0.         1.         0.         0.\n",
      " 0.         0.         1.         0.        ]\n",
      "3.0\n"
     ]
    }
   ],
   "source": [
    "to_test = df.columns[list(range(24, 28))]\n",
    "to_drop = df.columns[list(range(24, 28))]\n",
    "#to_keep = data.columns[[2]+list(range(31,34))]\n",
    "\n",
    "X = np.array(df.drop(to_drop, axis=1))\n",
    "y_vector = np.array(df[to_test])\n",
    "\n",
    "y = np.zeros(len(y_vector))\n",
    "for i in range(len(y_vector)):\n",
    "    y[i] = np.argmax(y_vector[i])\n",
    "print(X[0])\n",
    "print(y[0])"
   ]
  },
  {
   "cell_type": "code",
   "execution_count": 6,
   "metadata": {},
   "outputs": [],
   "source": [
    "from sklearn.model_selection import train_test_split\n",
    "from sklearn import tree\n",
    "from sklearn.metrics import accuracy_score"
   ]
  },
  {
   "cell_type": "code",
   "execution_count": 32,
   "metadata": {},
   "outputs": [],
   "source": [
    "X_train, X_test, y_train, y_test = train_test_split(X, y, test_size=0.4, random_state=42)"
   ]
  },
  {
   "cell_type": "code",
   "execution_count": 33,
   "metadata": {},
   "outputs": [
    {
     "data": {
      "text/plain": [
       "0.7882901994060246"
      ]
     },
     "execution_count": 33,
     "metadata": {},
     "output_type": "execute_result"
    }
   ],
   "source": [
    "model = tree.DecisionTreeClassifier()\n",
    "model = model.fit(X_train, y_train)\n",
    "\n",
    "y_pred = model.predict(X_test)\n",
    "accuracy_score(y_test, y_pred)"
   ]
  },
  {
   "cell_type": "code",
   "execution_count": 38,
   "metadata": {},
   "outputs": [
    {
     "name": "stdout",
     "output_type": "stream",
     "text": [
      "First 20 real\n",
      "[0. 2. 1. 2. 0. 0. 0. 0. 0. 0. 1. 0. 0. 1. 0. 0. 0. 2. 0. 3.]\n",
      "\n",
      "First 20 predicted\n",
      "[0. 2. 1. 0. 0. 0. 0. 0. 0. 2. 1. 0. 0. 2. 0. 3. 0. 2. 0. 1.]\n"
     ]
    }
   ],
   "source": [
    "print('First 20 real')\n",
    "print(y_test[:20])\n",
    "\n",
    "print('\\nFirst 20 predicted')\n",
    "print(y_pred[:20])"
   ]
  },
  {
   "cell_type": "code",
   "execution_count": null,
   "metadata": {},
   "outputs": [],
   "source": []
  }
 ],
 "metadata": {
  "kernelspec": {
   "display_name": "Python 3",
   "language": "python",
   "name": "python3"
  },
  "language_info": {
   "codemirror_mode": {
    "name": "ipython",
    "version": 3
   },
   "file_extension": ".py",
   "mimetype": "text/x-python",
   "name": "python",
   "nbconvert_exporter": "python",
   "pygments_lexer": "ipython3",
   "version": "3.6.5"
  }
 },
 "nbformat": 4,
 "nbformat_minor": 2
}
