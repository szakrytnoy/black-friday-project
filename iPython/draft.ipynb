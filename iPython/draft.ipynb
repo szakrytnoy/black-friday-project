{
 "cells": [
  {
   "cell_type": "code",
   "execution_count": 1,
   "metadata": {},
   "outputs": [],
   "source": [
    "import pandas as pd"
   ]
  },
  {
   "cell_type": "code",
   "execution_count": 2,
   "metadata": {},
   "outputs": [
    {
     "data": {
      "text/html": [
       "<div>\n",
       "<style scoped>\n",
       "    .dataframe tbody tr th:only-of-type {\n",
       "        vertical-align: middle;\n",
       "    }\n",
       "\n",
       "    .dataframe tbody tr th {\n",
       "        vertical-align: top;\n",
       "    }\n",
       "\n",
       "    .dataframe thead th {\n",
       "        text-align: right;\n",
       "    }\n",
       "</style>\n",
       "<table border=\"1\" class=\"dataframe\">\n",
       "  <thead>\n",
       "    <tr style=\"text-align: right;\">\n",
       "      <th></th>\n",
       "      <th>User_ID</th>\n",
       "      <th>Product_ID</th>\n",
       "      <th>Gender</th>\n",
       "      <th>Age</th>\n",
       "      <th>Occupation</th>\n",
       "      <th>City_Category</th>\n",
       "      <th>Stay_In_Current_City_Years</th>\n",
       "      <th>Marital_Status</th>\n",
       "      <th>Product_Category_1</th>\n",
       "      <th>Product_Category_2</th>\n",
       "      <th>Product_Category_3</th>\n",
       "      <th>Purchase</th>\n",
       "    </tr>\n",
       "  </thead>\n",
       "  <tbody>\n",
       "    <tr>\n",
       "      <th>0</th>\n",
       "      <td>1000001</td>\n",
       "      <td>P00069042</td>\n",
       "      <td>F</td>\n",
       "      <td>0-17</td>\n",
       "      <td>10</td>\n",
       "      <td>A</td>\n",
       "      <td>2</td>\n",
       "      <td>0</td>\n",
       "      <td>3</td>\n",
       "      <td>NaN</td>\n",
       "      <td>NaN</td>\n",
       "      <td>8370</td>\n",
       "    </tr>\n",
       "    <tr>\n",
       "      <th>1</th>\n",
       "      <td>1000001</td>\n",
       "      <td>P00248942</td>\n",
       "      <td>F</td>\n",
       "      <td>0-17</td>\n",
       "      <td>10</td>\n",
       "      <td>A</td>\n",
       "      <td>2</td>\n",
       "      <td>0</td>\n",
       "      <td>1</td>\n",
       "      <td>6.0</td>\n",
       "      <td>14.0</td>\n",
       "      <td>15200</td>\n",
       "    </tr>\n",
       "    <tr>\n",
       "      <th>2</th>\n",
       "      <td>1000001</td>\n",
       "      <td>P00087842</td>\n",
       "      <td>F</td>\n",
       "      <td>0-17</td>\n",
       "      <td>10</td>\n",
       "      <td>A</td>\n",
       "      <td>2</td>\n",
       "      <td>0</td>\n",
       "      <td>12</td>\n",
       "      <td>NaN</td>\n",
       "      <td>NaN</td>\n",
       "      <td>1422</td>\n",
       "    </tr>\n",
       "  </tbody>\n",
       "</table>\n",
       "</div>"
      ],
      "text/plain": [
       "   User_ID Product_ID Gender   Age  Occupation City_Category  \\\n",
       "0  1000001  P00069042      F  0-17          10             A   \n",
       "1  1000001  P00248942      F  0-17          10             A   \n",
       "2  1000001  P00087842      F  0-17          10             A   \n",
       "\n",
       "  Stay_In_Current_City_Years  Marital_Status  Product_Category_1  \\\n",
       "0                          2               0                   3   \n",
       "1                          2               0                   1   \n",
       "2                          2               0                  12   \n",
       "\n",
       "   Product_Category_2  Product_Category_3  Purchase  \n",
       "0                 NaN                 NaN      8370  \n",
       "1                 6.0                14.0     15200  \n",
       "2                 NaN                 NaN      1422  "
      ]
     },
     "execution_count": 2,
     "metadata": {},
     "output_type": "execute_result"
    }
   ],
   "source": [
    "data = pd.read_csv('BlackFriday.csv', engine = 'python')\n",
    "data.head(3)"
   ]
  },
  {
   "cell_type": "code",
   "execution_count": 3,
   "metadata": {},
   "outputs": [
    {
     "data": {
      "text/plain": [
       "537577"
      ]
     },
     "execution_count": 3,
     "metadata": {},
     "output_type": "execute_result"
    }
   ],
   "source": [
    "len(data)"
   ]
  },
  {
   "cell_type": "code",
   "execution_count": 4,
   "metadata": {},
   "outputs": [
    {
     "data": {
      "text/html": [
       "<div>\n",
       "<style scoped>\n",
       "    .dataframe tbody tr th:only-of-type {\n",
       "        vertical-align: middle;\n",
       "    }\n",
       "\n",
       "    .dataframe tbody tr th {\n",
       "        vertical-align: top;\n",
       "    }\n",
       "\n",
       "    .dataframe thead th {\n",
       "        text-align: right;\n",
       "    }\n",
       "</style>\n",
       "<table border=\"1\" class=\"dataframe\">\n",
       "  <thead>\n",
       "    <tr style=\"text-align: right;\">\n",
       "      <th></th>\n",
       "      <th>user_id</th>\n",
       "      <th>gender</th>\n",
       "      <th>age</th>\n",
       "      <th>occupation</th>\n",
       "      <th>city</th>\n",
       "      <th>years_in_city</th>\n",
       "      <th>marital_status</th>\n",
       "      <th>product_category</th>\n",
       "      <th>amount</th>\n",
       "    </tr>\n",
       "  </thead>\n",
       "  <tbody>\n",
       "    <tr>\n",
       "      <th>0</th>\n",
       "      <td>1000001</td>\n",
       "      <td>F</td>\n",
       "      <td>0-17</td>\n",
       "      <td>10</td>\n",
       "      <td>A</td>\n",
       "      <td>2</td>\n",
       "      <td>0</td>\n",
       "      <td>3</td>\n",
       "      <td>0.558000</td>\n",
       "    </tr>\n",
       "    <tr>\n",
       "      <th>1</th>\n",
       "      <td>1000001</td>\n",
       "      <td>F</td>\n",
       "      <td>0-17</td>\n",
       "      <td>10</td>\n",
       "      <td>A</td>\n",
       "      <td>2</td>\n",
       "      <td>0</td>\n",
       "      <td>1</td>\n",
       "      <td>1.013333</td>\n",
       "    </tr>\n",
       "    <tr>\n",
       "      <th>2</th>\n",
       "      <td>1000001</td>\n",
       "      <td>F</td>\n",
       "      <td>0-17</td>\n",
       "      <td>10</td>\n",
       "      <td>A</td>\n",
       "      <td>2</td>\n",
       "      <td>0</td>\n",
       "      <td>12</td>\n",
       "      <td>0.094800</td>\n",
       "    </tr>\n",
       "  </tbody>\n",
       "</table>\n",
       "</div>"
      ],
      "text/plain": [
       "   user_id gender   age  occupation city years_in_city  marital_status  \\\n",
       "0  1000001      F  0-17          10    A             2               0   \n",
       "1  1000001      F  0-17          10    A             2               0   \n",
       "2  1000001      F  0-17          10    A             2               0   \n",
       "\n",
       "   product_category    amount  \n",
       "0                 3  0.558000  \n",
       "1                 1  1.013333  \n",
       "2                12  0.094800  "
      ]
     },
     "execution_count": 4,
     "metadata": {},
     "output_type": "execute_result"
    }
   ],
   "source": [
    "data.drop(['Product_ID', 'Product_Category_2', 'Product_Category_3'], axis = 1, inplace = True)\n",
    "data.rename({'User_ID':'user_id',\n",
    "             'Gender':'gender',\n",
    "             'Age':'age',\n",
    "             'Occupation':'occupation',\n",
    "             'City_Category':'city',\n",
    "             'Stay_In_Current_City_Years':'years_in_city',\n",
    "             'Marital_Status':'marital_status',\n",
    "             'Product_Category_1':'product_category',\n",
    "             'Purchase':'amount'}, axis='columns', inplace = True)\n",
    "data['amount'] /= 15000\n",
    "data.head(3)"
   ]
  },
  {
   "cell_type": "code",
   "execution_count": 5,
   "metadata": {},
   "outputs": [],
   "source": [
    "import matplotlib.pyplot as plt"
   ]
  },
  {
   "cell_type": "code",
   "execution_count": 6,
   "metadata": {},
   "outputs": [
    {
     "data": {
      "text/plain": [
       "Text(0.5,1,'Product Category')"
      ]
     },
     "execution_count": 6,
     "metadata": {},
     "output_type": "execute_result"
    },
    {
     "data": {
      "image/png": "[encoded data removed]",
      "text/plain": [
       "<Figure size 432x288 with 1 Axes>"
      ]
     },
     "metadata": {},
     "output_type": "display_data"
    }
   ],
   "source": [
    "unique_cat = len(data.product_category.value_counts())\n",
    "\n",
    "plt.hist(data.product_category, bins=unique_cat)\n",
    "plt.ylabel('Frequency')\n",
    "plt.xticks(range(1, unique_cat+1))\n",
    "plt.title('Product Category')"
   ]
  },
  {
   "cell_type": "code",
   "execution_count": 7,
   "metadata": {},
   "outputs": [],
   "source": [
    "import seaborn as sns"
   ]
  },
  {
   "cell_type": "code",
   "execution_count": 8,
   "metadata": {},
   "outputs": [
    {
     "data": {
      "text/plain": [
       "<matplotlib.axes._subplots.AxesSubplot at 0x21f93341ac8>"
      ]
     },
     "execution_count": 8,
     "metadata": {},
     "output_type": "execute_result"
    },
    {
     "data": {
      "image/png": "[encoded data removed]",
      "text/plain": [
       "<Figure size 432x288 with 1 Axes>"
      ]
     },
     "metadata": {},
     "output_type": "display_data"
    }
   ],
   "source": [
    "sns.countplot(x='gender', hue='age', data=data)"
   ]
  },
  {
   "cell_type": "code",
   "execution_count": 9,
   "metadata": {},
   "outputs": [
    {
     "data": {
      "text/html": [
       "<div>\n",
       "<style scoped>\n",
       "    .dataframe tbody tr th:only-of-type {\n",
       "        vertical-align: middle;\n",
       "    }\n",
       "\n",
       "    .dataframe tbody tr th {\n",
       "        vertical-align: top;\n",
       "    }\n",
       "\n",
       "    .dataframe thead th {\n",
       "        text-align: right;\n",
       "    }\n",
       "</style>\n",
       "<table border=\"1\" class=\"dataframe\">\n",
       "  <thead>\n",
       "    <tr style=\"text-align: right;\">\n",
       "      <th></th>\n",
       "      <th>user_id</th>\n",
       "      <th>gender</th>\n",
       "      <th>age</th>\n",
       "      <th>occupation</th>\n",
       "      <th>city</th>\n",
       "      <th>years_in_city</th>\n",
       "      <th>marital_status</th>\n",
       "      <th>amount</th>\n",
       "      <th>product_category_1</th>\n",
       "      <th>product_category_2</th>\n",
       "      <th>...</th>\n",
       "      <th>product_category_9</th>\n",
       "      <th>product_category_10</th>\n",
       "      <th>product_category_11</th>\n",
       "      <th>product_category_12</th>\n",
       "      <th>product_category_13</th>\n",
       "      <th>product_category_14</th>\n",
       "      <th>product_category_15</th>\n",
       "      <th>product_category_16</th>\n",
       "      <th>product_category_17</th>\n",
       "      <th>product_category_18</th>\n",
       "    </tr>\n",
       "  </thead>\n",
       "  <tbody>\n",
       "    <tr>\n",
       "      <th>0</th>\n",
       "      <td>1000001</td>\n",
       "      <td>F</td>\n",
       "      <td>0-17</td>\n",
       "      <td>10</td>\n",
       "      <td>A</td>\n",
       "      <td>2</td>\n",
       "      <td>0</td>\n",
       "      <td>0.558000</td>\n",
       "      <td>0</td>\n",
       "      <td>0</td>\n",
       "      <td>...</td>\n",
       "      <td>0</td>\n",
       "      <td>0</td>\n",
       "      <td>0</td>\n",
       "      <td>0</td>\n",
       "      <td>0</td>\n",
       "      <td>0</td>\n",
       "      <td>0</td>\n",
       "      <td>0</td>\n",
       "      <td>0</td>\n",
       "      <td>0</td>\n",
       "    </tr>\n",
       "    <tr>\n",
       "      <th>1</th>\n",
       "      <td>1000001</td>\n",
       "      <td>F</td>\n",
       "      <td>0-17</td>\n",
       "      <td>10</td>\n",
       "      <td>A</td>\n",
       "      <td>2</td>\n",
       "      <td>0</td>\n",
       "      <td>1.013333</td>\n",
       "      <td>1</td>\n",
       "      <td>0</td>\n",
       "      <td>...</td>\n",
       "      <td>0</td>\n",
       "      <td>0</td>\n",
       "      <td>0</td>\n",
       "      <td>0</td>\n",
       "      <td>0</td>\n",
       "      <td>0</td>\n",
       "      <td>0</td>\n",
       "      <td>0</td>\n",
       "      <td>0</td>\n",
       "      <td>0</td>\n",
       "    </tr>\n",
       "    <tr>\n",
       "      <th>2</th>\n",
       "      <td>1000001</td>\n",
       "      <td>F</td>\n",
       "      <td>0-17</td>\n",
       "      <td>10</td>\n",
       "      <td>A</td>\n",
       "      <td>2</td>\n",
       "      <td>0</td>\n",
       "      <td>0.094800</td>\n",
       "      <td>0</td>\n",
       "      <td>0</td>\n",
       "      <td>...</td>\n",
       "      <td>0</td>\n",
       "      <td>0</td>\n",
       "      <td>0</td>\n",
       "      <td>1</td>\n",
       "      <td>0</td>\n",
       "      <td>0</td>\n",
       "      <td>0</td>\n",
       "      <td>0</td>\n",
       "      <td>0</td>\n",
       "      <td>0</td>\n",
       "    </tr>\n",
       "  </tbody>\n",
       "</table>\n",
       "<p>3 rows × 26 columns</p>\n",
       "</div>"
      ],
      "text/plain": [
       "   user_id gender   age  occupation city years_in_city  marital_status  \\\n",
       "0  1000001      F  0-17          10    A             2               0   \n",
       "1  1000001      F  0-17          10    A             2               0   \n",
       "2  1000001      F  0-17          10    A             2               0   \n",
       "\n",
       "     amount  product_category_1  product_category_2         ...           \\\n",
       "0  0.558000                   0                   0         ...            \n",
       "1  1.013333                   1                   0         ...            \n",
       "2  0.094800                   0                   0         ...            \n",
       "\n",
       "   product_category_9  product_category_10  product_category_11  \\\n",
       "0                   0                    0                    0   \n",
       "1                   0                    0                    0   \n",
       "2                   0                    0                    0   \n",
       "\n",
       "   product_category_12  product_category_13  product_category_14  \\\n",
       "0                    0                    0                    0   \n",
       "1                    0                    0                    0   \n",
       "2                    1                    0                    0   \n",
       "\n",
       "   product_category_15  product_category_16  product_category_17  \\\n",
       "0                    0                    0                    0   \n",
       "1                    0                    0                    0   \n",
       "2                    0                    0                    0   \n",
       "\n",
       "   product_category_18  \n",
       "0                    0  \n",
       "1                    0  \n",
       "2                    0  \n",
       "\n",
       "[3 rows x 26 columns]"
      ]
     },
     "execution_count": 9,
     "metadata": {},
     "output_type": "execute_result"
    }
   ],
   "source": [
    "data = pd.get_dummies(data, columns=['product_category'], prefix = ['product_category'])\n",
    "data.head(3)"
   ]
  },
  {
   "cell_type": "code",
   "execution_count": 10,
   "metadata": {},
   "outputs": [
    {
     "data": {
      "text/html": [
       "<div>\n",
       "<style scoped>\n",
       "    .dataframe tbody tr th:only-of-type {\n",
       "        vertical-align: middle;\n",
       "    }\n",
       "\n",
       "    .dataframe tbody tr th {\n",
       "        vertical-align: top;\n",
       "    }\n",
       "\n",
       "    .dataframe thead th {\n",
       "        text-align: right;\n",
       "    }\n",
       "</style>\n",
       "<table border=\"1\" class=\"dataframe\">\n",
       "  <thead>\n",
       "    <tr style=\"text-align: right;\">\n",
       "      <th></th>\n",
       "      <th>gender</th>\n",
       "      <th>age</th>\n",
       "      <th>occupation</th>\n",
       "      <th>city</th>\n",
       "      <th>years_in_city</th>\n",
       "      <th>marital_status</th>\n",
       "      <th>amount</th>\n",
       "      <th>product_category_1</th>\n",
       "      <th>product_category_2</th>\n",
       "      <th>product_category_3</th>\n",
       "      <th>...</th>\n",
       "      <th>product_category_9</th>\n",
       "      <th>product_category_10</th>\n",
       "      <th>product_category_11</th>\n",
       "      <th>product_category_12</th>\n",
       "      <th>product_category_13</th>\n",
       "      <th>product_category_14</th>\n",
       "      <th>product_category_15</th>\n",
       "      <th>product_category_16</th>\n",
       "      <th>product_category_17</th>\n",
       "      <th>product_category_18</th>\n",
       "    </tr>\n",
       "    <tr>\n",
       "      <th>user_id</th>\n",
       "      <th></th>\n",
       "      <th></th>\n",
       "      <th></th>\n",
       "      <th></th>\n",
       "      <th></th>\n",
       "      <th></th>\n",
       "      <th></th>\n",
       "      <th></th>\n",
       "      <th></th>\n",
       "      <th></th>\n",
       "      <th></th>\n",
       "      <th></th>\n",
       "      <th></th>\n",
       "      <th></th>\n",
       "      <th></th>\n",
       "      <th></th>\n",
       "      <th></th>\n",
       "      <th></th>\n",
       "      <th></th>\n",
       "      <th></th>\n",
       "      <th></th>\n",
       "    </tr>\n",
       "  </thead>\n",
       "  <tbody>\n",
       "    <tr>\n",
       "      <th>1000001</th>\n",
       "      <td>F</td>\n",
       "      <td>0-17</td>\n",
       "      <td>10</td>\n",
       "      <td>A</td>\n",
       "      <td>2</td>\n",
       "      <td>0</td>\n",
       "      <td>22.232067</td>\n",
       "      <td>0.117647</td>\n",
       "      <td>0.029412</td>\n",
       "      <td>0.323529</td>\n",
       "      <td>...</td>\n",
       "      <td>0.0</td>\n",
       "      <td>0.0</td>\n",
       "      <td>0.0</td>\n",
       "      <td>0.088235</td>\n",
       "      <td>0.0</td>\n",
       "      <td>0.029412</td>\n",
       "      <td>0.0</td>\n",
       "      <td>0.029412</td>\n",
       "      <td>0.0</td>\n",
       "      <td>0.000000</td>\n",
       "    </tr>\n",
       "    <tr>\n",
       "      <th>1000002</th>\n",
       "      <td>M</td>\n",
       "      <td>55+</td>\n",
       "      <td>16</td>\n",
       "      <td>C</td>\n",
       "      <td>4+</td>\n",
       "      <td>0</td>\n",
       "      <td>54.023533</td>\n",
       "      <td>0.407895</td>\n",
       "      <td>0.013158</td>\n",
       "      <td>0.000000</td>\n",
       "      <td>...</td>\n",
       "      <td>0.0</td>\n",
       "      <td>0.0</td>\n",
       "      <td>0.0</td>\n",
       "      <td>0.000000</td>\n",
       "      <td>0.0</td>\n",
       "      <td>0.000000</td>\n",
       "      <td>0.0</td>\n",
       "      <td>0.000000</td>\n",
       "      <td>0.0</td>\n",
       "      <td>0.000000</td>\n",
       "    </tr>\n",
       "    <tr>\n",
       "      <th>1000003</th>\n",
       "      <td>M</td>\n",
       "      <td>26-35</td>\n",
       "      <td>15</td>\n",
       "      <td>A</td>\n",
       "      <td>3</td>\n",
       "      <td>0</td>\n",
       "      <td>22.775667</td>\n",
       "      <td>0.517241</td>\n",
       "      <td>0.068966</td>\n",
       "      <td>0.034483</td>\n",
       "      <td>...</td>\n",
       "      <td>0.0</td>\n",
       "      <td>0.0</td>\n",
       "      <td>0.0</td>\n",
       "      <td>0.000000</td>\n",
       "      <td>0.0</td>\n",
       "      <td>0.000000</td>\n",
       "      <td>0.0</td>\n",
       "      <td>0.000000</td>\n",
       "      <td>0.0</td>\n",
       "      <td>0.034483</td>\n",
       "    </tr>\n",
       "  </tbody>\n",
       "</table>\n",
       "<p>3 rows × 25 columns</p>\n",
       "</div>"
      ],
      "text/plain": [
       "        gender    age  occupation city years_in_city  marital_status  \\\n",
       "user_id                                                                \n",
       "1000001      F   0-17          10    A             2               0   \n",
       "1000002      M    55+          16    C            4+               0   \n",
       "1000003      M  26-35          15    A             3               0   \n",
       "\n",
       "            amount  product_category_1  product_category_2  \\\n",
       "user_id                                                      \n",
       "1000001  22.232067            0.117647            0.029412   \n",
       "1000002  54.023533            0.407895            0.013158   \n",
       "1000003  22.775667            0.517241            0.068966   \n",
       "\n",
       "         product_category_3         ...           product_category_9  \\\n",
       "user_id                             ...                                \n",
       "1000001            0.323529         ...                          0.0   \n",
       "1000002            0.000000         ...                          0.0   \n",
       "1000003            0.034483         ...                          0.0   \n",
       "\n",
       "         product_category_10  product_category_11  product_category_12  \\\n",
       "user_id                                                                  \n",
       "1000001                  0.0                  0.0             0.088235   \n",
       "1000002                  0.0                  0.0             0.000000   \n",
       "1000003                  0.0                  0.0             0.000000   \n",
       "\n",
       "         product_category_13  product_category_14  product_category_15  \\\n",
       "user_id                                                                  \n",
       "1000001                  0.0             0.029412                  0.0   \n",
       "1000002                  0.0             0.000000                  0.0   \n",
       "1000003                  0.0             0.000000                  0.0   \n",
       "\n",
       "         product_category_16  product_category_17  product_category_18  \n",
       "user_id                                                                 \n",
       "1000001             0.029412                  0.0             0.000000  \n",
       "1000002             0.000000                  0.0             0.000000  \n",
       "1000003             0.000000                  0.0             0.034483  \n",
       "\n",
       "[3 rows x 25 columns]"
      ]
     },
     "execution_count": 10,
     "metadata": {},
     "output_type": "execute_result"
    }
   ],
   "source": [
    "data = data.groupby('user_id').agg({'gender':lambda x:x.value_counts().index[0],\n",
    "                             'age':lambda x:x.value_counts().index[0],\n",
    "                             'occupation':lambda x:x.value_counts().index[0],\n",
    "                             'city':lambda x:x.value_counts().index[0],\n",
    "                             'years_in_city':lambda x:x.value_counts().index[0],\n",
    "                             'marital_status':lambda x:x.value_counts().index[0],\n",
    "                             'amount':'sum',\n",
    "                             'product_category_1':'mean',\n",
    "                             'product_category_2':'mean',\n",
    "                             'product_category_3':'mean',\n",
    "                             'product_category_4':'mean',\n",
    "                             'product_category_5':'mean',\n",
    "                             'product_category_6':'mean',\n",
    "                             'product_category_7':'mean',\n",
    "                             'product_category_8':'mean',\n",
    "                             'product_category_9':'mean',\n",
    "                             'product_category_10':'mean',\n",
    "                             'product_category_11':'mean',\n",
    "                             'product_category_12':'mean',\n",
    "                             'product_category_13':'mean',\n",
    "                             'product_category_14':'mean',\n",
    "                             'product_category_15':'mean',\n",
    "                             'product_category_16':'mean',\n",
    "                             'product_category_17':'mean',\n",
    "                             'product_category_18':'mean'})\n",
    "data.head(3)"
   ]
  },
  {
   "cell_type": "code",
   "execution_count": 11,
   "metadata": {},
   "outputs": [
    {
     "data": {
      "text/plain": [
       "Text(0.5,1,'Gender Frequency')"
      ]
     },
     "execution_count": 11,
     "metadata": {},
     "output_type": "execute_result"
    },
    {
     "data": {
      "image/png": "[encoded data removed]",
      "text/plain": [
       "<Figure size 432x288 with 1 Axes>"
      ]
     },
     "metadata": {},
     "output_type": "display_data"
    }
   ],
   "source": [
    "sns.countplot(x='gender', data=data).set_title('Gender Frequency')"
   ]
  },
  {
   "cell_type": "code",
   "execution_count": 12,
   "metadata": {},
   "outputs": [
    {
     "data": {
      "text/plain": [
       "M    4225\n",
       "F    1666\n",
       "Name: gender, dtype: int64"
      ]
     },
     "execution_count": 12,
     "metadata": {},
     "output_type": "execute_result"
    }
   ],
   "source": [
    "data.gender.value_counts()"
   ]
  },
  {
   "cell_type": "code",
   "execution_count": 13,
   "metadata": {
    "scrolled": true
   },
   "outputs": [
    {
     "data": {
      "text/plain": [
       "Text(0.5,1,'Age Profile')"
      ]
     },
     "execution_count": 13,
     "metadata": {},
     "output_type": "execute_result"
    },
    {
     "data": {
      "image/png": "[encoded data removed]",
      "text/plain": [
       "<Figure size 432x288 with 1 Axes>"
      ]
     },
     "metadata": {},
     "output_type": "display_data"
    }
   ],
   "source": [
    "sns.countplot(x='age', data=data).set_title('Age Profile')"
   ]
  },
  {
   "cell_type": "code",
   "execution_count": 14,
   "metadata": {},
   "outputs": [
    {
     "data": {
      "text/plain": [
       "Text(0.5,1,'Spendings')"
      ]
     },
     "execution_count": 14,
     "metadata": {},
     "output_type": "execute_result"
    },
    {
     "data": {
      "image/png": "[encoded data removed]",
      "text/plain": [
       "<Figure size 432x288 with 1 Axes>"
      ]
     },
     "metadata": {},
     "output_type": "display_data"
    }
   ],
   "source": [
    "plt.figure()\n",
    "plt.hist(data['amount'], bins = 200)\n",
    "plt.xlabel('Amount')\n",
    "plt.ylabel('Frequency')\n",
    "plt.xlim([0,200])\n",
    "plt.xticks(rotation=60)\n",
    "plt.title('Spendings')"
   ]
  },
  {
   "cell_type": "code",
   "execution_count": 15,
   "metadata": {},
   "outputs": [
    {
     "name": "stdout",
     "output_type": "stream",
     "text": [
      "Count 5891\n",
      "Mean 57\n",
      "Std 62\n",
      "10% percentile 10\n",
      "90% percentile 135\n",
      "Min 3\n",
      "Max 702\n"
     ]
    }
   ],
   "source": [
    "print('Count',int(round(data.amount.count(),0)))\n",
    "print('Mean',int(round(data.amount.mean(),0)))\n",
    "print('Std',int(round(data.amount.std(),0)))\n",
    "print('10% percentile',int(round(data.amount.quantile(0.1),0)))\n",
    "print('90% percentile',int(round(data.amount.quantile(0.9),0)))\n",
    "print('Min',int(round(data.amount.min())))\n",
    "print('Max',int(round(data.amount.max())))"
   ]
  },
  {
   "cell_type": "code",
   "execution_count": 16,
   "metadata": {},
   "outputs": [
    {
     "data": {
      "text/plain": [
       "Text(0.5,1,'Cities')"
      ]
     },
     "execution_count": 16,
     "metadata": {},
     "output_type": "execute_result"
    },
    {
     "data": {
      "image/png": "[encoded data removed]",
      "text/plain": [
       "<Figure size 432x288 with 1 Axes>"
      ]
     },
     "metadata": {},
     "output_type": "display_data"
    }
   ],
   "source": [
    "sns.countplot(x='city', data=data).set_title('Cities')"
   ]
  },
  {
   "cell_type": "code",
   "execution_count": 17,
   "metadata": {},
   "outputs": [
    {
     "data": {
      "text/plain": [
       "Text(0.5,1,'Gender Profile by City')"
      ]
     },
     "execution_count": 17,
     "metadata": {},
     "output_type": "execute_result"
    },
    {
     "data": {
      "image/png": "[encoded data removed]",
      "text/plain": [
       "<Figure size 432x288 with 1 Axes>"
      ]
     },
     "metadata": {},
     "output_type": "display_data"
    }
   ],
   "source": [
    "sns.countplot(x='city', hue='gender', data=data).set_title('Gender Profile by City')"
   ]
  },
  {
   "cell_type": "code",
   "execution_count": 18,
   "metadata": {},
   "outputs": [
    {
     "data": {
      "text/plain": [
       "Text(0.5,1,'Spendings in C')"
      ]
     },
     "execution_count": 18,
     "metadata": {},
     "output_type": "execute_result"
    },
    {
     "data": {
      "image/png": "[encoded data removed]",
      "text/plain": [
       "<Figure size 1382.4x345.6 with 3 Axes>"
      ]
     },
     "metadata": {},
     "output_type": "display_data"
    }
   ],
   "source": [
    "plt.figure(figsize=(19.2,4.8))\n",
    "\n",
    "plt.subplot(1, 3, 1)\n",
    "plt.hist(data['amount'].loc[data['city']=='A'], density=True, bins = 50)\n",
    "plt.xlabel('Amount')\n",
    "plt.ylabel('Frequency')\n",
    "plt.xlim([0,200])\n",
    "plt.xticks(rotation=60)\n",
    "plt.title('Spendings in A')\n",
    "\n",
    "plt.subplot(1, 3, 2)\n",
    "plt.hist(data['amount'].loc[data['city']=='B'], density=True, bins = 50)\n",
    "plt.xlabel('Amount')\n",
    "plt.ylabel('Frequency')\n",
    "plt.xlim([0,200])\n",
    "plt.xticks(rotation=60)\n",
    "plt.title('Spendings in B')\n",
    "\n",
    "plt.subplot(1, 3, 3)\n",
    "plt.hist(data['amount'].loc[data['city']=='C'], density=True, bins = 50)\n",
    "plt.xlabel('Amount')\n",
    "plt.ylabel('Frequency')\n",
    "plt.xlim([0,200])\n",
    "plt.xticks(rotation=60)\n",
    "plt.title('Spendings in C')"
   ]
  },
  {
   "cell_type": "code",
   "execution_count": 19,
   "metadata": {},
   "outputs": [
    {
     "name": "stdout",
     "output_type": "stream",
     "text": [
      "Mean spendings\n"
     ]
    },
    {
     "data": {
      "text/plain": [
       "city\n",
       "A    82.658296\n",
       "B    81.368155\n",
       "C    34.800212\n",
       "Name: amount, dtype: float64"
      ]
     },
     "execution_count": 19,
     "metadata": {},
     "output_type": "execute_result"
    }
   ],
   "source": [
    "print('Mean spendings')\n",
    "data.groupby('city')['amount'].agg('mean')"
   ]
  },
  {
   "cell_type": "code",
   "execution_count": 20,
   "metadata": {},
   "outputs": [
    {
     "name": "stdout",
     "output_type": "stream",
     "text": [
      "Total spendings\n"
     ]
    },
    {
     "data": {
      "text/plain": [
       "city\n",
       "A     86377.9198\n",
       "B    138895.4408\n",
       "C    109237.8646\n",
       "Name: amount, dtype: float64"
      ]
     },
     "execution_count": 20,
     "metadata": {},
     "output_type": "execute_result"
    }
   ],
   "source": [
    "print('Total spendings')\n",
    "data.groupby('city')['amount'].agg('sum')"
   ]
  },
  {
   "cell_type": "code",
   "execution_count": 21,
   "metadata": {},
   "outputs": [
    {
     "data": {
      "text/plain": [
       "4     740\n",
       "0     688\n",
       "7     669\n",
       "1     517\n",
       "17    491\n",
       "12    376\n",
       "14    294\n",
       "20    273\n",
       "2     256\n",
       "16    235\n",
       "6     228\n",
       "10    192\n",
       "3     170\n",
       "15    140\n",
       "13    140\n",
       "11    128\n",
       "5     111\n",
       "9      88\n",
       "19     71\n",
       "18     67\n",
       "8      17\n",
       "Name: occupation, dtype: int64"
      ]
     },
     "execution_count": 21,
     "metadata": {},
     "output_type": "execute_result"
    }
   ],
   "source": [
    "data.occupation.value_counts()"
   ]
  },
  {
   "cell_type": "code",
   "execution_count": 22,
   "metadata": {},
   "outputs": [
    {
     "data": {
      "text/plain": [
       "Text(0.5,1,'Spending by Occupation')"
      ]
     },
     "execution_count": 22,
     "metadata": {},
     "output_type": "execute_result"
    },
    {
     "data": {
      "image/png": "[encoded data removed]",
      "text/plain": [
       "<Figure size 432x288 with 1 Axes>"
      ]
     },
     "metadata": {},
     "output_type": "display_data"
    }
   ],
   "source": [
    "plt.figure()\n",
    "means_by_occupation = []\n",
    "for i in range(len(data.occupation.value_counts())):\n",
    "    means_by_occupation.append(data.amount.loc[data.occupation == i].mean())\n",
    "plt.bar(list(range(len(data.occupation.value_counts()))), means_by_occupation)\n",
    "plt.xticks(list(range(len(data.occupation.value_counts()))))\n",
    "plt.xlabel('Occupation')\n",
    "plt.ylabel('Mean spending')\n",
    "plt.title('Spending by Occupation')"
   ]
  },
  {
   "cell_type": "code",
   "execution_count": 23,
   "metadata": {},
   "outputs": [
    {
     "data": {
      "text/plain": [
       "0    3417\n",
       "1    2474\n",
       "Name: marital_status, dtype: int64"
      ]
     },
     "execution_count": 23,
     "metadata": {},
     "output_type": "execute_result"
    }
   ],
   "source": [
    "data.marital_status.value_counts()"
   ]
  },
  {
   "cell_type": "code",
   "execution_count": 24,
   "metadata": {},
   "outputs": [
    {
     "data": {
      "text/plain": [
       "Text(0.5,1,'Spending by Marital Spending')"
      ]
     },
     "execution_count": 24,
     "metadata": {},
     "output_type": "execute_result"
    },
    {
     "data": {
      "image/png": "[encoded data removed]",
      "text/plain": [
       "<Figure size 432x288 with 1 Axes>"
      ]
     },
     "metadata": {},
     "output_type": "display_data"
    }
   ],
   "source": [
    "plt.figure()\n",
    "means_by_marital_status = []\n",
    "for i in range(len(data.marital_status.value_counts())):\n",
    "    means_by_marital_status.append(data.amount.loc[data.marital_status == i].mean())\n",
    "plt.bar(list(range(len(data.marital_status.value_counts()))), means_by_marital_status)\n",
    "plt.xticks(list(range(len(data.marital_status.value_counts()))))\n",
    "plt.xlabel('Marital status')\n",
    "plt.ylabel('Mean spending')\n",
    "plt.title('Spending by Marital Spending')"
   ]
  },
  {
   "cell_type": "code",
   "execution_count": 25,
   "metadata": {},
   "outputs": [
    {
     "data": {
      "text/html": [
       "<div>\n",
       "<style scoped>\n",
       "    .dataframe tbody tr th:only-of-type {\n",
       "        vertical-align: middle;\n",
       "    }\n",
       "\n",
       "    .dataframe tbody tr th {\n",
       "        vertical-align: top;\n",
       "    }\n",
       "\n",
       "    .dataframe thead th {\n",
       "        text-align: right;\n",
       "    }\n",
       "</style>\n",
       "<table border=\"1\" class=\"dataframe\">\n",
       "  <thead>\n",
       "    <tr style=\"text-align: right;\">\n",
       "      <th></th>\n",
       "      <th>gender</th>\n",
       "      <th>years_in_city</th>\n",
       "      <th>marital_status</th>\n",
       "      <th>amount</th>\n",
       "      <th>product_category_1</th>\n",
       "      <th>product_category_2</th>\n",
       "      <th>product_category_3</th>\n",
       "      <th>product_category_4</th>\n",
       "      <th>product_category_5</th>\n",
       "      <th>product_category_6</th>\n",
       "      <th>...</th>\n",
       "      <th>occupation_14</th>\n",
       "      <th>occupation_15</th>\n",
       "      <th>occupation_16</th>\n",
       "      <th>occupation_17</th>\n",
       "      <th>occupation_18</th>\n",
       "      <th>occupation_19</th>\n",
       "      <th>occupation_20</th>\n",
       "      <th>city_A</th>\n",
       "      <th>city_B</th>\n",
       "      <th>city_C</th>\n",
       "    </tr>\n",
       "    <tr>\n",
       "      <th>user_id</th>\n",
       "      <th></th>\n",
       "      <th></th>\n",
       "      <th></th>\n",
       "      <th></th>\n",
       "      <th></th>\n",
       "      <th></th>\n",
       "      <th></th>\n",
       "      <th></th>\n",
       "      <th></th>\n",
       "      <th></th>\n",
       "      <th></th>\n",
       "      <th></th>\n",
       "      <th></th>\n",
       "      <th></th>\n",
       "      <th></th>\n",
       "      <th></th>\n",
       "      <th></th>\n",
       "      <th></th>\n",
       "      <th></th>\n",
       "      <th></th>\n",
       "      <th></th>\n",
       "    </tr>\n",
       "  </thead>\n",
       "  <tbody>\n",
       "    <tr>\n",
       "      <th>1000001</th>\n",
       "      <td>F</td>\n",
       "      <td>2</td>\n",
       "      <td>0</td>\n",
       "      <td>22.232067</td>\n",
       "      <td>0.117647</td>\n",
       "      <td>0.029412</td>\n",
       "      <td>0.323529</td>\n",
       "      <td>0.058824</td>\n",
       "      <td>0.058824</td>\n",
       "      <td>0.029412</td>\n",
       "      <td>...</td>\n",
       "      <td>0</td>\n",
       "      <td>0</td>\n",
       "      <td>0</td>\n",
       "      <td>0</td>\n",
       "      <td>0</td>\n",
       "      <td>0</td>\n",
       "      <td>0</td>\n",
       "      <td>1</td>\n",
       "      <td>0</td>\n",
       "      <td>0</td>\n",
       "    </tr>\n",
       "    <tr>\n",
       "      <th>1000002</th>\n",
       "      <td>M</td>\n",
       "      <td>4+</td>\n",
       "      <td>0</td>\n",
       "      <td>54.023533</td>\n",
       "      <td>0.407895</td>\n",
       "      <td>0.013158</td>\n",
       "      <td>0.000000</td>\n",
       "      <td>0.000000</td>\n",
       "      <td>0.171053</td>\n",
       "      <td>0.078947</td>\n",
       "      <td>...</td>\n",
       "      <td>0</td>\n",
       "      <td>0</td>\n",
       "      <td>1</td>\n",
       "      <td>0</td>\n",
       "      <td>0</td>\n",
       "      <td>0</td>\n",
       "      <td>0</td>\n",
       "      <td>0</td>\n",
       "      <td>0</td>\n",
       "      <td>1</td>\n",
       "    </tr>\n",
       "    <tr>\n",
       "      <th>1000003</th>\n",
       "      <td>M</td>\n",
       "      <td>3</td>\n",
       "      <td>0</td>\n",
       "      <td>22.775667</td>\n",
       "      <td>0.517241</td>\n",
       "      <td>0.068966</td>\n",
       "      <td>0.034483</td>\n",
       "      <td>0.000000</td>\n",
       "      <td>0.310345</td>\n",
       "      <td>0.000000</td>\n",
       "      <td>...</td>\n",
       "      <td>0</td>\n",
       "      <td>1</td>\n",
       "      <td>0</td>\n",
       "      <td>0</td>\n",
       "      <td>0</td>\n",
       "      <td>0</td>\n",
       "      <td>0</td>\n",
       "      <td>1</td>\n",
       "      <td>0</td>\n",
       "      <td>0</td>\n",
       "    </tr>\n",
       "  </tbody>\n",
       "</table>\n",
       "<p>3 rows × 53 columns</p>\n",
       "</div>"
      ],
      "text/plain": [
       "        gender years_in_city  marital_status     amount  product_category_1  \\\n",
       "user_id                                                                       \n",
       "1000001      F             2               0  22.232067            0.117647   \n",
       "1000002      M            4+               0  54.023533            0.407895   \n",
       "1000003      M             3               0  22.775667            0.517241   \n",
       "\n",
       "         product_category_2  product_category_3  product_category_4  \\\n",
       "user_id                                                               \n",
       "1000001            0.029412            0.323529            0.058824   \n",
       "1000002            0.013158            0.000000            0.000000   \n",
       "1000003            0.068966            0.034483            0.000000   \n",
       "\n",
       "         product_category_5  product_category_6   ...    occupation_14  \\\n",
       "user_id                                           ...                    \n",
       "1000001            0.058824            0.029412   ...                0   \n",
       "1000002            0.171053            0.078947   ...                0   \n",
       "1000003            0.310345            0.000000   ...                0   \n",
       "\n",
       "         occupation_15  occupation_16  occupation_17  occupation_18  \\\n",
       "user_id                                                               \n",
       "1000001              0              0              0              0   \n",
       "1000002              0              1              0              0   \n",
       "1000003              1              0              0              0   \n",
       "\n",
       "         occupation_19  occupation_20  city_A  city_B  city_C  \n",
       "user_id                                                        \n",
       "1000001              0              0       1       0       0  \n",
       "1000002              0              0       0       0       1  \n",
       "1000003              0              0       1       0       0  \n",
       "\n",
       "[3 rows x 53 columns]"
      ]
     },
     "execution_count": 25,
     "metadata": {},
     "output_type": "execute_result"
    }
   ],
   "source": [
    "data = pd.get_dummies(data, columns=['age'], prefix = ['age'])\n",
    "data = pd.get_dummies(data, columns=['occupation'], prefix = ['occupation'])\n",
    "data = pd.get_dummies(data, columns=['city'], prefix = ['city'])\n",
    "data.head(3)"
   ]
  },
  {
   "cell_type": "code",
   "execution_count": 26,
   "metadata": {},
   "outputs": [
    {
     "data": {
      "text/html": [
       "<div>\n",
       "<style scoped>\n",
       "    .dataframe tbody tr th:only-of-type {\n",
       "        vertical-align: middle;\n",
       "    }\n",
       "\n",
       "    .dataframe tbody tr th {\n",
       "        vertical-align: top;\n",
       "    }\n",
       "\n",
       "    .dataframe thead th {\n",
       "        text-align: right;\n",
       "    }\n",
       "</style>\n",
       "<table border=\"1\" class=\"dataframe\">\n",
       "  <thead>\n",
       "    <tr style=\"text-align: right;\">\n",
       "      <th></th>\n",
       "      <th>gender</th>\n",
       "      <th>marital_status</th>\n",
       "      <th>amount</th>\n",
       "      <th>product_category_1</th>\n",
       "      <th>product_category_2</th>\n",
       "      <th>product_category_3</th>\n",
       "      <th>product_category_4</th>\n",
       "      <th>product_category_5</th>\n",
       "      <th>product_category_6</th>\n",
       "      <th>product_category_7</th>\n",
       "      <th>...</th>\n",
       "      <th>occupation_14</th>\n",
       "      <th>occupation_15</th>\n",
       "      <th>occupation_16</th>\n",
       "      <th>occupation_17</th>\n",
       "      <th>occupation_18</th>\n",
       "      <th>occupation_19</th>\n",
       "      <th>occupation_20</th>\n",
       "      <th>city_A</th>\n",
       "      <th>city_B</th>\n",
       "      <th>city_C</th>\n",
       "    </tr>\n",
       "    <tr>\n",
       "      <th>user_id</th>\n",
       "      <th></th>\n",
       "      <th></th>\n",
       "      <th></th>\n",
       "      <th></th>\n",
       "      <th></th>\n",
       "      <th></th>\n",
       "      <th></th>\n",
       "      <th></th>\n",
       "      <th></th>\n",
       "      <th></th>\n",
       "      <th></th>\n",
       "      <th></th>\n",
       "      <th></th>\n",
       "      <th></th>\n",
       "      <th></th>\n",
       "      <th></th>\n",
       "      <th></th>\n",
       "      <th></th>\n",
       "      <th></th>\n",
       "      <th></th>\n",
       "      <th></th>\n",
       "    </tr>\n",
       "  </thead>\n",
       "  <tbody>\n",
       "    <tr>\n",
       "      <th>1000001</th>\n",
       "      <td>0</td>\n",
       "      <td>0</td>\n",
       "      <td>22.232067</td>\n",
       "      <td>0.117647</td>\n",
       "      <td>0.029412</td>\n",
       "      <td>0.323529</td>\n",
       "      <td>0.058824</td>\n",
       "      <td>0.058824</td>\n",
       "      <td>0.029412</td>\n",
       "      <td>0.0</td>\n",
       "      <td>...</td>\n",
       "      <td>0</td>\n",
       "      <td>0</td>\n",
       "      <td>0</td>\n",
       "      <td>0</td>\n",
       "      <td>0</td>\n",
       "      <td>0</td>\n",
       "      <td>0</td>\n",
       "      <td>1</td>\n",
       "      <td>0</td>\n",
       "      <td>0</td>\n",
       "    </tr>\n",
       "    <tr>\n",
       "      <th>1000002</th>\n",
       "      <td>1</td>\n",
       "      <td>0</td>\n",
       "      <td>54.023533</td>\n",
       "      <td>0.407895</td>\n",
       "      <td>0.013158</td>\n",
       "      <td>0.000000</td>\n",
       "      <td>0.000000</td>\n",
       "      <td>0.171053</td>\n",
       "      <td>0.078947</td>\n",
       "      <td>0.0</td>\n",
       "      <td>...</td>\n",
       "      <td>0</td>\n",
       "      <td>0</td>\n",
       "      <td>1</td>\n",
       "      <td>0</td>\n",
       "      <td>0</td>\n",
       "      <td>0</td>\n",
       "      <td>0</td>\n",
       "      <td>0</td>\n",
       "      <td>0</td>\n",
       "      <td>1</td>\n",
       "    </tr>\n",
       "    <tr>\n",
       "      <th>1000003</th>\n",
       "      <td>1</td>\n",
       "      <td>0</td>\n",
       "      <td>22.775667</td>\n",
       "      <td>0.517241</td>\n",
       "      <td>0.068966</td>\n",
       "      <td>0.034483</td>\n",
       "      <td>0.000000</td>\n",
       "      <td>0.310345</td>\n",
       "      <td>0.000000</td>\n",
       "      <td>0.0</td>\n",
       "      <td>...</td>\n",
       "      <td>0</td>\n",
       "      <td>1</td>\n",
       "      <td>0</td>\n",
       "      <td>0</td>\n",
       "      <td>0</td>\n",
       "      <td>0</td>\n",
       "      <td>0</td>\n",
       "      <td>1</td>\n",
       "      <td>0</td>\n",
       "      <td>0</td>\n",
       "    </tr>\n",
       "  </tbody>\n",
       "</table>\n",
       "<p>3 rows × 52 columns</p>\n",
       "</div>"
      ],
      "text/plain": [
       "         gender  marital_status     amount  product_category_1  \\\n",
       "user_id                                                          \n",
       "1000001       0               0  22.232067            0.117647   \n",
       "1000002       1               0  54.023533            0.407895   \n",
       "1000003       1               0  22.775667            0.517241   \n",
       "\n",
       "         product_category_2  product_category_3  product_category_4  \\\n",
       "user_id                                                               \n",
       "1000001            0.029412            0.323529            0.058824   \n",
       "1000002            0.013158            0.000000            0.000000   \n",
       "1000003            0.068966            0.034483            0.000000   \n",
       "\n",
       "         product_category_5  product_category_6  product_category_7   ...    \\\n",
       "user_id                                                               ...     \n",
       "1000001            0.058824            0.029412                 0.0   ...     \n",
       "1000002            0.171053            0.078947                 0.0   ...     \n",
       "1000003            0.310345            0.000000                 0.0   ...     \n",
       "\n",
       "         occupation_14  occupation_15  occupation_16  occupation_17  \\\n",
       "user_id                                                               \n",
       "1000001              0              0              0              0   \n",
       "1000002              0              0              1              0   \n",
       "1000003              0              1              0              0   \n",
       "\n",
       "         occupation_18  occupation_19  occupation_20  city_A  city_B  city_C  \n",
       "user_id                                                                       \n",
       "1000001              0              0              0       1       0       0  \n",
       "1000002              0              0              0       0       0       1  \n",
       "1000003              0              0              0       1       0       0  \n",
       "\n",
       "[3 rows x 52 columns]"
      ]
     },
     "execution_count": 26,
     "metadata": {},
     "output_type": "execute_result"
    }
   ],
   "source": [
    "data.gender = data.gender.map({'F':0, 'M':1})\n",
    "data.drop('years_in_city', axis = 1, inplace =  True)\n",
    "data.head(3)"
   ]
  },
  {
   "cell_type": "code",
   "execution_count": 27,
   "metadata": {},
   "outputs": [
    {
     "data": {
      "text/plain": [
       "Text(0.5,1,'Category Popularity in City C')"
      ]
     },
     "execution_count": 27,
     "metadata": {},
     "output_type": "execute_result"
    },
    {
     "data": {
      "image/png": "[encoded data removed]",
      "text/plain": [
       "<Figure size 432x288 with 1 Axes>"
      ]
     },
     "metadata": {},
     "output_type": "display_data"
    },
    {
     "data": {
      "image/png": "[encoded data removed]",
      "text/plain": [
       "<Figure size 432x288 with 1 Axes>"
      ]
     },
     "metadata": {},
     "output_type": "display_data"
    },
    {
     "data": {
      "image/png": "[encoded data removed]",
      "text/plain": [
       "<Figure size 432x288 with 1 Axes>"
      ]
     },
     "metadata": {},
     "output_type": "display_data"
    }
   ],
   "source": [
    "plt.figure()\n",
    "plt.bar(range(1, 19), data[data.columns[3:21]].loc[data.city_A == 1].sum())\n",
    "plt.xticks(range(1, 19))\n",
    "plt.title('Category Popularity in City A')\n",
    "\n",
    "plt.figure()\n",
    "plt.bar(range(1, 19), data[data.columns[3:21]].loc[data.city_B == 1].sum())\n",
    "plt.xticks(range(1, 19))\n",
    "plt.title('Category Popularity in City B')\n",
    "\n",
    "plt.figure()\n",
    "plt.bar(range(1, 19), data[data.columns[3:21]].loc[data.city_C == 1].sum())\n",
    "plt.xticks(range(1, 19))\n",
    "plt.title('Category Popularity in City C')"
   ]
  },
  {
   "cell_type": "code",
   "execution_count": 28,
   "metadata": {},
   "outputs": [
    {
     "data": {
      "text/plain": [
       "Text(0.5,1,'Category Popularity, Male')"
      ]
     },
     "execution_count": 28,
     "metadata": {},
     "output_type": "execute_result"
    },
    {
     "data": {
      "image/png": "[encoded data removed]",
      "text/plain": [
       "<Figure size 432x288 with 1 Axes>"
      ]
     },
     "metadata": {},
     "output_type": "display_data"
    },
    {
     "data": {
      "image/png": "[encoded data removed]",
      "text/plain": [
       "<Figure size 432x288 with 1 Axes>"
      ]
     },
     "metadata": {},
     "output_type": "display_data"
    }
   ],
   "source": [
    "plt.figure()\n",
    "plt.bar(range(1, 19), data[data.columns[3:21]].loc[data.gender == 0].sum())\n",
    "plt.xticks(range(1, 19))\n",
    "plt.title('Category Popularity, Female')\n",
    "\n",
    "plt.figure()\n",
    "plt.bar(range(1, 19), data[data.columns[3:21]].loc[data.gender == 1].sum())\n",
    "plt.xticks(range(1, 19))\n",
    "plt.title('Category Popularity, Male')"
   ]
  },
  {
   "cell_type": "code",
   "execution_count": 29,
   "metadata": {},
   "outputs": [
    {
     "data": {
      "text/plain": [
       "Index(['product_category_2', 'product_category_3', 'product_category_4',\n",
       "       'product_category_6', 'product_category_7', 'product_category_9',\n",
       "       'product_category_10', 'product_category_11', 'product_category_12',\n",
       "       'product_category_13', 'product_category_14', 'product_category_15',\n",
       "       'product_category_16', 'product_category_17', 'product_category_18'],\n",
       "      dtype='object')"
      ]
     },
     "execution_count": 29,
     "metadata": {},
     "output_type": "execute_result"
    }
   ],
   "source": [
    "columns_to_merge = [4, 5, 6, 8, 9, 11, 12, 13, 14, 15, 16, 17, 18, 19, 20]\n",
    "data.columns[columns_to_merge]"
   ]
  },
  {
   "cell_type": "code",
   "execution_count": 30,
   "metadata": {},
   "outputs": [
    {
     "data": {
      "text/html": [
       "<div>\n",
       "<style scoped>\n",
       "    .dataframe tbody tr th:only-of-type {\n",
       "        vertical-align: middle;\n",
       "    }\n",
       "\n",
       "    .dataframe tbody tr th {\n",
       "        vertical-align: top;\n",
       "    }\n",
       "\n",
       "    .dataframe thead th {\n",
       "        text-align: right;\n",
       "    }\n",
       "</style>\n",
       "<table border=\"1\" class=\"dataframe\">\n",
       "  <thead>\n",
       "    <tr style=\"text-align: right;\">\n",
       "      <th></th>\n",
       "      <th>gender</th>\n",
       "      <th>marital_status</th>\n",
       "      <th>amount</th>\n",
       "      <th>product_category_1</th>\n",
       "      <th>product_category_5</th>\n",
       "      <th>product_category_8</th>\n",
       "      <th>age_0-17</th>\n",
       "      <th>age_18-25</th>\n",
       "      <th>age_26-35</th>\n",
       "      <th>age_36-45</th>\n",
       "      <th>...</th>\n",
       "      <th>occupation_15</th>\n",
       "      <th>occupation_16</th>\n",
       "      <th>occupation_17</th>\n",
       "      <th>occupation_18</th>\n",
       "      <th>occupation_19</th>\n",
       "      <th>occupation_20</th>\n",
       "      <th>city_A</th>\n",
       "      <th>city_B</th>\n",
       "      <th>city_C</th>\n",
       "      <th>product_category_other</th>\n",
       "    </tr>\n",
       "    <tr>\n",
       "      <th>user_id</th>\n",
       "      <th></th>\n",
       "      <th></th>\n",
       "      <th></th>\n",
       "      <th></th>\n",
       "      <th></th>\n",
       "      <th></th>\n",
       "      <th></th>\n",
       "      <th></th>\n",
       "      <th></th>\n",
       "      <th></th>\n",
       "      <th></th>\n",
       "      <th></th>\n",
       "      <th></th>\n",
       "      <th></th>\n",
       "      <th></th>\n",
       "      <th></th>\n",
       "      <th></th>\n",
       "      <th></th>\n",
       "      <th></th>\n",
       "      <th></th>\n",
       "      <th></th>\n",
       "    </tr>\n",
       "  </thead>\n",
       "  <tbody>\n",
       "    <tr>\n",
       "      <th>1000001</th>\n",
       "      <td>0</td>\n",
       "      <td>0</td>\n",
       "      <td>22.232067</td>\n",
       "      <td>0.117647</td>\n",
       "      <td>0.058824</td>\n",
       "      <td>0.235294</td>\n",
       "      <td>1</td>\n",
       "      <td>0</td>\n",
       "      <td>0</td>\n",
       "      <td>0</td>\n",
       "      <td>...</td>\n",
       "      <td>0</td>\n",
       "      <td>0</td>\n",
       "      <td>0</td>\n",
       "      <td>0</td>\n",
       "      <td>0</td>\n",
       "      <td>0</td>\n",
       "      <td>1</td>\n",
       "      <td>0</td>\n",
       "      <td>0</td>\n",
       "      <td>0.588235</td>\n",
       "    </tr>\n",
       "    <tr>\n",
       "      <th>1000002</th>\n",
       "      <td>1</td>\n",
       "      <td>0</td>\n",
       "      <td>54.023533</td>\n",
       "      <td>0.407895</td>\n",
       "      <td>0.171053</td>\n",
       "      <td>0.328947</td>\n",
       "      <td>0</td>\n",
       "      <td>0</td>\n",
       "      <td>0</td>\n",
       "      <td>0</td>\n",
       "      <td>...</td>\n",
       "      <td>0</td>\n",
       "      <td>1</td>\n",
       "      <td>0</td>\n",
       "      <td>0</td>\n",
       "      <td>0</td>\n",
       "      <td>0</td>\n",
       "      <td>0</td>\n",
       "      <td>0</td>\n",
       "      <td>1</td>\n",
       "      <td>0.092105</td>\n",
       "    </tr>\n",
       "    <tr>\n",
       "      <th>1000003</th>\n",
       "      <td>1</td>\n",
       "      <td>0</td>\n",
       "      <td>22.775667</td>\n",
       "      <td>0.517241</td>\n",
       "      <td>0.310345</td>\n",
       "      <td>0.034483</td>\n",
       "      <td>0</td>\n",
       "      <td>0</td>\n",
       "      <td>1</td>\n",
       "      <td>0</td>\n",
       "      <td>...</td>\n",
       "      <td>1</td>\n",
       "      <td>0</td>\n",
       "      <td>0</td>\n",
       "      <td>0</td>\n",
       "      <td>0</td>\n",
       "      <td>0</td>\n",
       "      <td>1</td>\n",
       "      <td>0</td>\n",
       "      <td>0</td>\n",
       "      <td>0.137931</td>\n",
       "    </tr>\n",
       "  </tbody>\n",
       "</table>\n",
       "<p>3 rows × 38 columns</p>\n",
       "</div>"
      ],
      "text/plain": [
       "         gender  marital_status     amount  product_category_1  \\\n",
       "user_id                                                          \n",
       "1000001       0               0  22.232067            0.117647   \n",
       "1000002       1               0  54.023533            0.407895   \n",
       "1000003       1               0  22.775667            0.517241   \n",
       "\n",
       "         product_category_5  product_category_8  age_0-17  age_18-25  \\\n",
       "user_id                                                                \n",
       "1000001            0.058824            0.235294         1          0   \n",
       "1000002            0.171053            0.328947         0          0   \n",
       "1000003            0.310345            0.034483         0          0   \n",
       "\n",
       "         age_26-35  age_36-45           ...            occupation_15  \\\n",
       "user_id                                 ...                            \n",
       "1000001          0          0           ...                        0   \n",
       "1000002          0          0           ...                        0   \n",
       "1000003          1          0           ...                        1   \n",
       "\n",
       "         occupation_16  occupation_17  occupation_18  occupation_19  \\\n",
       "user_id                                                               \n",
       "1000001              0              0              0              0   \n",
       "1000002              1              0              0              0   \n",
       "1000003              0              0              0              0   \n",
       "\n",
       "         occupation_20  city_A  city_B  city_C  product_category_other  \n",
       "user_id                                                                 \n",
       "1000001              0       1       0       0                0.588235  \n",
       "1000002              0       0       0       1                0.092105  \n",
       "1000003              0       1       0       0                0.137931  \n",
       "\n",
       "[3 rows x 38 columns]"
      ]
     },
     "execution_count": 30,
     "metadata": {},
     "output_type": "execute_result"
    }
   ],
   "source": [
    "data['product_category_other'] = data[data.columns[columns_to_merge]].sum(axis=1)\n",
    "data.drop(data.columns[columns_to_merge], axis=1, inplace = True)\n",
    "data.head(3)"
   ]
  },
  {
   "cell_type": "code",
   "execution_count": 31,
   "metadata": {},
   "outputs": [
    {
     "data": {
      "text/html": [
       "<div>\n",
       "<style scoped>\n",
       "    .dataframe tbody tr th:only-of-type {\n",
       "        vertical-align: middle;\n",
       "    }\n",
       "\n",
       "    .dataframe tbody tr th {\n",
       "        vertical-align: top;\n",
       "    }\n",
       "\n",
       "    .dataframe thead th {\n",
       "        text-align: right;\n",
       "    }\n",
       "</style>\n",
       "<table border=\"1\" class=\"dataframe\">\n",
       "  <thead>\n",
       "    <tr style=\"text-align: right;\">\n",
       "      <th></th>\n",
       "      <th>gender</th>\n",
       "      <th>marital_status</th>\n",
       "      <th>amount</th>\n",
       "      <th>age_0-17</th>\n",
       "      <th>age_18-25</th>\n",
       "      <th>age_26-35</th>\n",
       "      <th>age_36-45</th>\n",
       "      <th>age_46-50</th>\n",
       "      <th>age_51-55</th>\n",
       "      <th>age_55+</th>\n",
       "      <th>...</th>\n",
       "      <th>occupation_18</th>\n",
       "      <th>occupation_19</th>\n",
       "      <th>occupation_20</th>\n",
       "      <th>city_A</th>\n",
       "      <th>city_B</th>\n",
       "      <th>city_C</th>\n",
       "      <th>product_category_1</th>\n",
       "      <th>product_category_5</th>\n",
       "      <th>product_category_8</th>\n",
       "      <th>product_category_other</th>\n",
       "    </tr>\n",
       "    <tr>\n",
       "      <th>user_id</th>\n",
       "      <th></th>\n",
       "      <th></th>\n",
       "      <th></th>\n",
       "      <th></th>\n",
       "      <th></th>\n",
       "      <th></th>\n",
       "      <th></th>\n",
       "      <th></th>\n",
       "      <th></th>\n",
       "      <th></th>\n",
       "      <th></th>\n",
       "      <th></th>\n",
       "      <th></th>\n",
       "      <th></th>\n",
       "      <th></th>\n",
       "      <th></th>\n",
       "      <th></th>\n",
       "      <th></th>\n",
       "      <th></th>\n",
       "      <th></th>\n",
       "      <th></th>\n",
       "    </tr>\n",
       "  </thead>\n",
       "  <tbody>\n",
       "    <tr>\n",
       "      <th>1000001</th>\n",
       "      <td>0</td>\n",
       "      <td>0</td>\n",
       "      <td>22.232067</td>\n",
       "      <td>1</td>\n",
       "      <td>0</td>\n",
       "      <td>0</td>\n",
       "      <td>0</td>\n",
       "      <td>0</td>\n",
       "      <td>0</td>\n",
       "      <td>0</td>\n",
       "      <td>...</td>\n",
       "      <td>0</td>\n",
       "      <td>0</td>\n",
       "      <td>0</td>\n",
       "      <td>1</td>\n",
       "      <td>0</td>\n",
       "      <td>0</td>\n",
       "      <td>0.117647</td>\n",
       "      <td>0.058824</td>\n",
       "      <td>0.235294</td>\n",
       "      <td>0.588235</td>\n",
       "    </tr>\n",
       "  </tbody>\n",
       "</table>\n",
       "<p>1 rows × 38 columns</p>\n",
       "</div>"
      ],
      "text/plain": [
       "         gender  marital_status     amount  age_0-17  age_18-25  age_26-35  \\\n",
       "user_id                                                                      \n",
       "1000001       0               0  22.232067         1          0          0   \n",
       "\n",
       "         age_36-45  age_46-50  age_51-55  age_55+           ...            \\\n",
       "user_id                                                     ...             \n",
       "1000001          0          0          0        0           ...             \n",
       "\n",
       "         occupation_18  occupation_19  occupation_20  city_A  city_B  city_C  \\\n",
       "user_id                                                                        \n",
       "1000001              0              0              0       1       0       0   \n",
       "\n",
       "         product_category_1  product_category_5  product_category_8  \\\n",
       "user_id                                                               \n",
       "1000001            0.117647            0.058824            0.235294   \n",
       "\n",
       "         product_category_other  \n",
       "user_id                          \n",
       "1000001                0.588235  \n",
       "\n",
       "[1 rows x 38 columns]"
      ]
     },
     "execution_count": 31,
     "metadata": {},
     "output_type": "execute_result"
    }
   ],
   "source": [
    "data = data[data.columns[list(range(3))+list(range(6, 37))+list(range(3,6))+[37]]]\n",
    "data.head(1)"
   ]
  },
  {
   "cell_type": "code",
   "execution_count": 32,
   "metadata": {},
   "outputs": [
    {
     "name": "stdout",
     "output_type": "stream",
     "text": [
      "0 gender\n",
      "1 marital_status\n",
      "2 amount\n",
      "3 age_0-17\n",
      "4 age_18-25\n",
      "5 age_26-35\n",
      "6 age_36-45\n",
      "7 age_46-50\n",
      "8 age_51-55\n",
      "9 age_55+\n",
      "10 occupation_0\n",
      "11 occupation_1\n",
      "12 occupation_2\n",
      "13 occupation_3\n",
      "14 occupation_4\n",
      "15 occupation_5\n",
      "16 occupation_6\n",
      "17 occupation_7\n",
      "18 occupation_8\n",
      "19 occupation_9\n",
      "20 occupation_10\n",
      "21 occupation_11\n",
      "22 occupation_12\n",
      "23 occupation_13\n",
      "24 occupation_14\n",
      "25 occupation_15\n",
      "26 occupation_16\n",
      "27 occupation_17\n",
      "28 occupation_18\n",
      "29 occupation_19\n",
      "30 occupation_20\n",
      "31 city_A\n",
      "32 city_B\n",
      "33 city_C\n",
      "34 product_category_1\n",
      "35 product_category_5\n",
      "36 product_category_8\n",
      "37 product_category_other\n"
     ]
    }
   ],
   "source": [
    "for i in range(len(data.columns)):\n",
    "    print(i, data.columns[i])"
   ]
  },
  {
   "cell_type": "code",
   "execution_count": 33,
   "metadata": {},
   "outputs": [
    {
     "data": {
      "text/plain": [
       "Index(['amount', 'city_A', 'city_B', 'city_C'], dtype='object')"
      ]
     },
     "execution_count": 33,
     "metadata": {},
     "output_type": "execute_result"
    }
   ],
   "source": [
    "#to_drop = data.columns[list(range(13, 34))]\n",
    "#df = data.drop(to_drop, axis=1)\n",
    "\n",
    "to_keep = data.columns[[2]+list(range(31,34))]\n",
    "df = data[to_keep]\n",
    "df.columns"
   ]
  },
  {
   "cell_type": "code",
   "execution_count": 34,
   "metadata": {},
   "outputs": [],
   "source": [
    "import numpy as np\n",
    "\n",
    "from sklearn.cluster import KMeans\n",
    "from sklearn.metrics import silhouette_samples, silhouette_score\n",
    "from sklearn.preprocessing import normalize, MinMaxScaler\n",
    "\n",
    "import matplotlib.pyplot as plt\n",
    "import matplotlib.cm as cm"
   ]
  },
  {
   "cell_type": "code",
   "execution_count": 35,
   "metadata": {},
   "outputs": [
    {
     "name": "stdout",
     "output_type": "stream",
     "text": [
      "[[0.02757857 1.         0.         0.        ]\n",
      " [0.07302666 0.         0.         1.        ]\n",
      " [0.02835569 1.         0.         0.        ]\n",
      " [0.01542781 0.         1.         0.        ]\n",
      " [0.07404146 1.         0.         0.        ]\n",
      " [0.03195963 1.         0.         0.        ]\n",
      " [0.01813827 0.         1.         0.        ]\n",
      " [0.07171069 0.         0.         1.        ]\n",
      " [0.05240341 0.         0.         1.        ]\n",
      " [0.20255826 0.         1.         0.        ]]\n",
      "For n_clusters = 2 The average silhouette_score is: 0.7440266961654828\n",
      "For n_clusters = 3 The average silhouette_score is: 0.9464193940149874\n",
      "For n_clusters = 4 The average silhouette_score is: 0.8710040576222282\n",
      "For n_clusters = 5 The average silhouette_score is: 0.8348995509793884\n",
      "For n_clusters = 6 The average silhouette_score is: 0.6759359980011473\n",
      "For n_clusters = 7 The average silhouette_score is: 0.6696789377598534\n",
      "For n_clusters = 8 The average silhouette_score is: 0.6614289277864668\n",
      "For n_clusters = 9 The average silhouette_score is: 0.6524254506082158\n",
      "For n_clusters = 10 The average silhouette_score is: 0.6425289255525969\n"
     ]
    }
   ],
   "source": [
    "scaler = MinMaxScaler(feature_range=(0,1))\n",
    "scaler.fit(df)\n",
    "data_norm = scaler.transform(df)\n",
    "print(data_norm[:10])\n",
    "\n",
    "range_n_clusters = list(range(2, 11))\n",
    "for n_clusters in range_n_clusters:\n",
    "\n",
    "    # Initialize the clusterer with n_clusters value and a random generator\n",
    "    # seed of 10 for reproducibility.\n",
    "    clusterer = KMeans(n_clusters=n_clusters, random_state=10)\n",
    "    cluster_labels = clusterer.fit_predict(data_norm)\n",
    "\n",
    "    # The silhouette_score gives the average value for all the samples.\n",
    "    # This gives a perspective into the density and separation of the formed\n",
    "    # clusters\n",
    "    silhouette_avg = silhouette_score(data_norm, cluster_labels)\n",
    "    print(\"For n_clusters =\", n_clusters,\n",
    "          \"The average silhouette_score is:\", silhouette_avg)"
   ]
  },
  {
   "cell_type": "code",
   "execution_count": 36,
   "metadata": {},
   "outputs": [],
   "source": [
    "model = KMeans(n_clusters=3, random_state=10)\n",
    "cluster_labels = model.fit_predict(df)\n",
    "centers = model.cluster_centers_"
   ]
  },
  {
   "cell_type": "code",
   "execution_count": 37,
   "metadata": {},
   "outputs": [
    {
     "data": {
      "text/html": [
       "<div>\n",
       "<style scoped>\n",
       "    .dataframe tbody tr th:only-of-type {\n",
       "        vertical-align: middle;\n",
       "    }\n",
       "\n",
       "    .dataframe tbody tr th {\n",
       "        vertical-align: top;\n",
       "    }\n",
       "\n",
       "    .dataframe thead th {\n",
       "        text-align: right;\n",
       "    }\n",
       "</style>\n",
       "<table border=\"1\" class=\"dataframe\">\n",
       "  <thead>\n",
       "    <tr style=\"text-align: right;\">\n",
       "      <th></th>\n",
       "      <th>0</th>\n",
       "      <th>1</th>\n",
       "      <th>2</th>\n",
       "    </tr>\n",
       "  </thead>\n",
       "  <tbody>\n",
       "    <tr>\n",
       "      <th>amount</th>\n",
       "      <td>107.98</td>\n",
       "      <td>247.38</td>\n",
       "      <td>27.13</td>\n",
       "    </tr>\n",
       "    <tr>\n",
       "      <th>city_A</th>\n",
       "      <td>0.21</td>\n",
       "      <td>0.41</td>\n",
       "      <td>0.15</td>\n",
       "    </tr>\n",
       "    <tr>\n",
       "      <th>city_B</th>\n",
       "      <td>0.45</td>\n",
       "      <td>0.59</td>\n",
       "      <td>0.22</td>\n",
       "    </tr>\n",
       "    <tr>\n",
       "      <th>city_C</th>\n",
       "      <td>0.33</td>\n",
       "      <td>0.00</td>\n",
       "      <td>0.63</td>\n",
       "    </tr>\n",
       "  </tbody>\n",
       "</table>\n",
       "</div>"
      ],
      "text/plain": [
       "            0      1     2\n",
       "amount 107.98 247.38 27.13\n",
       "city_A   0.21   0.41  0.15\n",
       "city_B   0.45   0.59  0.22\n",
       "city_C   0.33   0.00  0.63"
      ]
     },
     "execution_count": 37,
     "metadata": {},
     "output_type": "execute_result"
    }
   ],
   "source": [
    "pd.options.display.float_format = '{:,.2f}'.format\n",
    "\n",
    "clustering_results = pd.DataFrame(centers, columns = df.columns)\n",
    "clustering_results = clustering_results.T\n",
    "clustering_results"
   ]
  },
  {
   "cell_type": "code",
   "execution_count": 38,
   "metadata": {},
   "outputs": [
    {
     "data": {
      "text/html": [
       "<div>\n",
       "<style scoped>\n",
       "    .dataframe tbody tr th:only-of-type {\n",
       "        vertical-align: middle;\n",
       "    }\n",
       "\n",
       "    .dataframe tbody tr th {\n",
       "        vertical-align: top;\n",
       "    }\n",
       "\n",
       "    .dataframe thead th {\n",
       "        text-align: right;\n",
       "    }\n",
       "</style>\n",
       "<table border=\"1\" class=\"dataframe\">\n",
       "  <thead>\n",
       "    <tr style=\"text-align: right;\">\n",
       "      <th></th>\n",
       "      <th>product_category_1</th>\n",
       "      <th>product_category_5</th>\n",
       "      <th>product_category_8</th>\n",
       "      <th>product_category_other</th>\n",
       "    </tr>\n",
       "    <tr>\n",
       "      <th>user_id</th>\n",
       "      <th></th>\n",
       "      <th></th>\n",
       "      <th></th>\n",
       "      <th></th>\n",
       "    </tr>\n",
       "  </thead>\n",
       "  <tbody>\n",
       "    <tr>\n",
       "      <th>1000001</th>\n",
       "      <td>0.12</td>\n",
       "      <td>0.06</td>\n",
       "      <td>0.24</td>\n",
       "      <td>0.59</td>\n",
       "    </tr>\n",
       "    <tr>\n",
       "      <th>1000002</th>\n",
       "      <td>0.41</td>\n",
       "      <td>0.17</td>\n",
       "      <td>0.33</td>\n",
       "      <td>0.09</td>\n",
       "    </tr>\n",
       "    <tr>\n",
       "      <th>1000003</th>\n",
       "      <td>0.52</td>\n",
       "      <td>0.31</td>\n",
       "      <td>0.03</td>\n",
       "      <td>0.14</td>\n",
       "    </tr>\n",
       "  </tbody>\n",
       "</table>\n",
       "</div>"
      ],
      "text/plain": [
       "         product_category_1  product_category_5  product_category_8  \\\n",
       "user_id                                                               \n",
       "1000001                0.12                0.06                0.24   \n",
       "1000002                0.41                0.17                0.33   \n",
       "1000003                0.52                0.31                0.03   \n",
       "\n",
       "         product_category_other  \n",
       "user_id                          \n",
       "1000001                    0.59  \n",
       "1000002                    0.09  \n",
       "1000003                    0.14  "
      ]
     },
     "execution_count": 38,
     "metadata": {},
     "output_type": "execute_result"
    }
   ],
   "source": [
    "prod_cat_part = data[data.columns[list(range(34,38))]]\n",
    "prod_cat_part.head(3)"
   ]
  },
  {
   "cell_type": "code",
   "execution_count": 39,
   "metadata": {
    "scrolled": false
   },
   "outputs": [
    {
     "name": "stdout",
     "output_type": "stream",
     "text": [
      "[3, 0, 0, 0, 2, 3, 0, 2, 2, 1]\n",
      "[0. 0. 0. 1.]\n"
     ]
    }
   ],
   "source": [
    "labels = []\n",
    "output_for_nn = []\n",
    "for i in range(len(prod_cat_part)):\n",
    "    col_to_pick = np.where(prod_cat_part.iloc[i] == prod_cat_part.iloc[i].max(axis=0))[0][0]\n",
    "    labels.append(col_to_pick)\n",
    "    \n",
    "    out = np.zeros(4)\n",
    "    out[col_to_pick] = 1\n",
    "    output_for_nn.append(out)\n",
    "\n",
    "print(labels[:10])\n",
    "output_for_nn = np.array(output_for_nn)\n",
    "print(output_for_nn[0])"
   ]
  },
  {
   "cell_type": "code",
   "execution_count": 40,
   "metadata": {},
   "outputs": [
    {
     "data": {
      "text/html": [
       "<div>\n",
       "<style scoped>\n",
       "    .dataframe tbody tr th:only-of-type {\n",
       "        vertical-align: middle;\n",
       "    }\n",
       "\n",
       "    .dataframe tbody tr th {\n",
       "        vertical-align: top;\n",
       "    }\n",
       "\n",
       "    .dataframe thead th {\n",
       "        text-align: right;\n",
       "    }\n",
       "</style>\n",
       "<table border=\"1\" class=\"dataframe\">\n",
       "  <thead>\n",
       "    <tr style=\"text-align: right;\">\n",
       "      <th></th>\n",
       "      <th>gender</th>\n",
       "      <th>marital_status</th>\n",
       "      <th>amount</th>\n",
       "      <th>age_0-17</th>\n",
       "      <th>age_18-25</th>\n",
       "      <th>age_26-35</th>\n",
       "      <th>age_36-45</th>\n",
       "      <th>age_46-50</th>\n",
       "      <th>age_51-55</th>\n",
       "      <th>age_55+</th>\n",
       "      <th>...</th>\n",
       "      <th>occupation_14</th>\n",
       "      <th>occupation_15</th>\n",
       "      <th>occupation_16</th>\n",
       "      <th>occupation_17</th>\n",
       "      <th>occupation_18</th>\n",
       "      <th>occupation_19</th>\n",
       "      <th>occupation_20</th>\n",
       "      <th>city_A</th>\n",
       "      <th>city_B</th>\n",
       "      <th>city_C</th>\n",
       "    </tr>\n",
       "    <tr>\n",
       "      <th>user_id</th>\n",
       "      <th></th>\n",
       "      <th></th>\n",
       "      <th></th>\n",
       "      <th></th>\n",
       "      <th></th>\n",
       "      <th></th>\n",
       "      <th></th>\n",
       "      <th></th>\n",
       "      <th></th>\n",
       "      <th></th>\n",
       "      <th></th>\n",
       "      <th></th>\n",
       "      <th></th>\n",
       "      <th></th>\n",
       "      <th></th>\n",
       "      <th></th>\n",
       "      <th></th>\n",
       "      <th></th>\n",
       "      <th></th>\n",
       "      <th></th>\n",
       "      <th></th>\n",
       "    </tr>\n",
       "  </thead>\n",
       "  <tbody>\n",
       "    <tr>\n",
       "      <th>1000001</th>\n",
       "      <td>0</td>\n",
       "      <td>0</td>\n",
       "      <td>22.23</td>\n",
       "      <td>1</td>\n",
       "      <td>0</td>\n",
       "      <td>0</td>\n",
       "      <td>0</td>\n",
       "      <td>0</td>\n",
       "      <td>0</td>\n",
       "      <td>0</td>\n",
       "      <td>...</td>\n",
       "      <td>0</td>\n",
       "      <td>0</td>\n",
       "      <td>0</td>\n",
       "      <td>0</td>\n",
       "      <td>0</td>\n",
       "      <td>0</td>\n",
       "      <td>0</td>\n",
       "      <td>1</td>\n",
       "      <td>0</td>\n",
       "      <td>0</td>\n",
       "    </tr>\n",
       "    <tr>\n",
       "      <th>1000002</th>\n",
       "      <td>1</td>\n",
       "      <td>0</td>\n",
       "      <td>54.02</td>\n",
       "      <td>0</td>\n",
       "      <td>0</td>\n",
       "      <td>0</td>\n",
       "      <td>0</td>\n",
       "      <td>0</td>\n",
       "      <td>0</td>\n",
       "      <td>1</td>\n",
       "      <td>...</td>\n",
       "      <td>0</td>\n",
       "      <td>0</td>\n",
       "      <td>1</td>\n",
       "      <td>0</td>\n",
       "      <td>0</td>\n",
       "      <td>0</td>\n",
       "      <td>0</td>\n",
       "      <td>0</td>\n",
       "      <td>0</td>\n",
       "      <td>1</td>\n",
       "    </tr>\n",
       "    <tr>\n",
       "      <th>1000003</th>\n",
       "      <td>1</td>\n",
       "      <td>0</td>\n",
       "      <td>22.78</td>\n",
       "      <td>0</td>\n",
       "      <td>0</td>\n",
       "      <td>1</td>\n",
       "      <td>0</td>\n",
       "      <td>0</td>\n",
       "      <td>0</td>\n",
       "      <td>0</td>\n",
       "      <td>...</td>\n",
       "      <td>0</td>\n",
       "      <td>1</td>\n",
       "      <td>0</td>\n",
       "      <td>0</td>\n",
       "      <td>0</td>\n",
       "      <td>0</td>\n",
       "      <td>0</td>\n",
       "      <td>1</td>\n",
       "      <td>0</td>\n",
       "      <td>0</td>\n",
       "    </tr>\n",
       "  </tbody>\n",
       "</table>\n",
       "<p>3 rows × 34 columns</p>\n",
       "</div>"
      ],
      "text/plain": [
       "         gender  marital_status  amount  age_0-17  age_18-25  age_26-35  \\\n",
       "user_id                                                                   \n",
       "1000001       0               0   22.23         1          0          0   \n",
       "1000002       1               0   54.02         0          0          0   \n",
       "1000003       1               0   22.78         0          0          1   \n",
       "\n",
       "         age_36-45  age_46-50  age_51-55  age_55+   ...    occupation_14  \\\n",
       "user_id                                             ...                    \n",
       "1000001          0          0          0        0   ...                0   \n",
       "1000002          0          0          0        1   ...                0   \n",
       "1000003          0          0          0        0   ...                0   \n",
       "\n",
       "         occupation_15  occupation_16  occupation_17  occupation_18  \\\n",
       "user_id                                                               \n",
       "1000001              0              0              0              0   \n",
       "1000002              0              1              0              0   \n",
       "1000003              1              0              0              0   \n",
       "\n",
       "         occupation_19  occupation_20  city_A  city_B  city_C  \n",
       "user_id                                                        \n",
       "1000001              0              0       1       0       0  \n",
       "1000002              0              0       0       0       1  \n",
       "1000003              0              0       1       0       0  \n",
       "\n",
       "[3 rows x 34 columns]"
      ]
     },
     "execution_count": 40,
     "metadata": {},
     "output_type": "execute_result"
    }
   ],
   "source": [
    "X = data.drop(data.columns[list(range(34,38))], axis=1)\n",
    "X.head(3)"
   ]
  },
  {
   "cell_type": "code",
   "execution_count": 41,
   "metadata": {},
   "outputs": [],
   "source": [
    "y = labels"
   ]
  },
  {
   "cell_type": "code",
   "execution_count": 42,
   "metadata": {},
   "outputs": [],
   "source": [
    "from sklearn.model_selection import train_test_split\n",
    "from sklearn import tree"
   ]
  },
  {
   "cell_type": "code",
   "execution_count": 43,
   "metadata": {},
   "outputs": [
    {
     "name": "stdout",
     "output_type": "stream",
     "text": [
      "[[0.         0.         0.02757857 1.         0.         0.\n",
      "  0.         0.         0.         0.         0.         0.\n",
      "  0.         0.         0.         0.         0.         0.\n",
      "  0.         0.         1.         0.         0.         0.\n",
      "  0.         0.         0.         0.         0.         0.\n",
      "  0.         1.         0.         0.        ]\n",
      " [1.         0.         0.07302666 0.         0.         0.\n",
      "  0.         0.         0.         1.         0.         0.\n",
      "  0.         0.         0.         0.         0.         0.\n",
      "  0.         0.         0.         0.         0.         0.\n",
      "  0.         0.         1.         0.         0.         0.\n",
      "  0.         0.         0.         1.        ]\n",
      " [1.         0.         0.02835569 0.         0.         1.\n",
      "  0.         0.         0.         0.         0.         0.\n",
      "  0.         0.         0.         0.         0.         0.\n",
      "  0.         0.         0.         0.         0.         0.\n",
      "  0.         1.         0.         0.         0.         0.\n",
      "  0.         1.         0.         0.        ]\n",
      " [1.         1.         0.01542781 0.         0.         0.\n",
      "  0.         1.         0.         0.         0.         0.\n",
      "  0.         0.         0.         0.         0.         1.\n",
      "  0.         0.         0.         0.         0.         0.\n",
      "  0.         0.         0.         0.         0.         0.\n",
      "  0.         0.         1.         0.        ]\n",
      " [1.         1.         0.07404146 0.         0.         1.\n",
      "  0.         0.         0.         0.         0.         0.\n",
      "  0.         0.         0.         0.         0.         0.\n",
      "  0.         0.         0.         0.         0.         0.\n",
      "  0.         0.         0.         0.         0.         0.\n",
      "  1.         1.         0.         0.        ]\n",
      " [0.         0.         0.03195963 0.         0.         0.\n",
      "  0.         0.         1.         0.         0.         0.\n",
      "  0.         0.         0.         0.         0.         0.\n",
      "  0.         1.         0.         0.         0.         0.\n",
      "  0.         0.         0.         0.         0.         0.\n",
      "  0.         1.         0.         0.        ]\n",
      " [1.         1.         0.01813827 0.         0.         0.\n",
      "  1.         0.         0.         0.         0.         1.\n",
      "  0.         0.         0.         0.         0.         0.\n",
      "  0.         0.         0.         0.         0.         0.\n",
      "  0.         0.         0.         0.         0.         0.\n",
      "  0.         0.         1.         0.        ]\n",
      " [1.         1.         0.07171069 0.         0.         1.\n",
      "  0.         0.         0.         0.         0.         0.\n",
      "  0.         0.         0.         0.         0.         0.\n",
      "  0.         0.         0.         0.         1.         0.\n",
      "  0.         0.         0.         0.         0.         0.\n",
      "  0.         0.         0.         1.        ]\n",
      " [1.         0.         0.05240341 0.         0.         1.\n",
      "  0.         0.         0.         0.         0.         0.\n",
      "  0.         0.         0.         0.         0.         0.\n",
      "  0.         0.         0.         0.         0.         0.\n",
      "  0.         0.         0.         1.         0.         0.\n",
      "  0.         0.         0.         1.        ]\n",
      " [0.         1.         0.20255826 0.         0.         0.\n",
      "  1.         0.         0.         0.         0.         1.\n",
      "  0.         0.         0.         0.         0.         0.\n",
      "  0.         0.         0.         0.         0.         0.\n",
      "  0.         0.         0.         0.         0.         0.\n",
      "  0.         0.         1.         0.        ]]\n",
      "3946\n",
      "1945\n"
     ]
    }
   ],
   "source": [
    "scaler = MinMaxScaler(feature_range=(0,1))\n",
    "scaler.fit(X)\n",
    "X_norm = scaler.transform(X)\n",
    "print(X_norm[:10])\n",
    "\n",
    "X_train, X_test, y_train, y_test = train_test_split(X_norm, y, test_size=0.33, random_state=42)\n",
    "print(len(X_train))\n",
    "print(len(X_test))"
   ]
  },
  {
   "cell_type": "code",
   "execution_count": 44,
   "metadata": {},
   "outputs": [],
   "source": [
    "clf = tree.DecisionTreeClassifier()\n",
    "clf = clf.fit(X_train, y_train)"
   ]
  },
  {
   "cell_type": "code",
   "execution_count": 45,
   "metadata": {},
   "outputs": [],
   "source": [
    "y_predict = clf.predict(X_test)"
   ]
  },
  {
   "cell_type": "code",
   "execution_count": 46,
   "metadata": {},
   "outputs": [],
   "source": [
    "from sklearn.metrics import accuracy_score"
   ]
  },
  {
   "cell_type": "code",
   "execution_count": 47,
   "metadata": {},
   "outputs": [
    {
     "data": {
      "text/plain": [
       "0.2997429305912596"
      ]
     },
     "execution_count": 47,
     "metadata": {},
     "output_type": "execute_result"
    }
   ],
   "source": [
    "accuracy_score(y_test, y_predict)"
   ]
  },
  {
   "cell_type": "code",
   "execution_count": 59,
   "metadata": {},
   "outputs": [
    {
     "name": "stdout",
     "output_type": "stream",
     "text": [
      "3946\n",
      "1945\n"
     ]
    }
   ],
   "source": [
    "y = output_for_nn\n",
    "X_train, X_test, y_train, y_test = train_test_split(X_norm, y, test_size=0.33, random_state=42)\n",
    "print(len(X_train))\n",
    "print(len(X_test))"
   ]
  },
  {
   "cell_type": "code",
   "execution_count": 48,
   "metadata": {},
   "outputs": [
    {
     "name": "stderr",
     "output_type": "stream",
     "text": [
      "C:\\Work\\Anaconda\\lib\\site-packages\\h5py\\__init__.py:36: FutureWarning: Conversion of the second argument of issubdtype from `float` to `np.floating` is deprecated. In future, it will be treated as `np.float64 == np.dtype(float).type`.\n",
      "  from ._conv import register_converters as _register_converters\n"
     ]
    }
   ],
   "source": [
    "import tensorflow as tf\n",
    "from tensorflow.keras import layers"
   ]
  },
  {
   "cell_type": "code",
   "execution_count": 87,
   "metadata": {},
   "outputs": [],
   "source": [
    "model = tf.keras.models.Sequential()\n",
    "#adding an input layer and the first hidden layer\n",
    "model.add(layers.Dense(units=34, activation = 'relu'))\n",
    "model.add(layers.Dense(16, activation = 'relu'))\n",
    "#Adding the output layer\n",
    "#if you dependent variable is more than 1 categorie use softmax as the activation function, the ouput dim will also be your number of features\n",
    "model.add(layers.Dense(4, activation = 'softmax'))"
   ]
  },
  {
   "cell_type": "code",
   "execution_count": 88,
   "metadata": {},
   "outputs": [],
   "source": [
    "#Compiling the ANN\n",
    "#categorical_crossentropy\n",
    "model.compile(optimizer = tf.train.GradientDescentOptimizer(0.1), loss = 'categorical_crossentropy', metrics = ['accuracy'])"
   ]
  },
  {
   "cell_type": "code",
   "execution_count": 90,
   "metadata": {},
   "outputs": [
    {
     "name": "stdout",
     "output_type": "stream",
     "text": [
      "WARNING:tensorflow:The `nb_epoch` argument in `fit` has been renamed `epochs`.\n",
      "Epoch 1/200\n",
      "3946/3946 [==============================] - 0s 57us/step - loss: 1.3267 - acc: 0.3639\n",
      "Epoch 2/200\n",
      "3946/3946 [==============================] - 0s 73us/step - loss: 1.3176 - acc: 0.3728\n",
      "Epoch 3/200\n",
      "3946/3946 [==============================] - 0s 72us/step - loss: 1.3127 - acc: 0.3756\n",
      "Epoch 4/200\n",
      "3946/3946 [==============================] - 0s 78us/step - loss: 1.3094 - acc: 0.3705\n",
      "Epoch 5/200\n",
      "3946/3946 [==============================] - 0s 74us/step - loss: 1.3050 - acc: 0.3789\n",
      "Epoch 6/200\n",
      "3946/3946 [==============================] - 0s 67us/step - loss: 1.3030 - acc: 0.3796\n",
      "Epoch 7/200\n",
      "3946/3946 [==============================] - 0s 73us/step - loss: 1.2992 - acc: 0.3880\n",
      "Epoch 8/200\n",
      "3946/3946 [==============================] - 0s 74us/step - loss: 1.2988 - acc: 0.3844\n",
      "Epoch 9/200\n",
      "3946/3946 [==============================] - 0s 73us/step - loss: 1.2952 - acc: 0.3923\n",
      "Epoch 10/200\n",
      "3946/3946 [==============================] - 0s 72us/step - loss: 1.2937 - acc: 0.3885\n",
      "Epoch 11/200\n",
      "3946/3946 [==============================] - 0s 73us/step - loss: 1.2892 - acc: 0.3958\n",
      "Epoch 12/200\n",
      "3946/3946 [==============================] - 0s 74us/step - loss: 1.2891 - acc: 0.3979\n",
      "Epoch 13/200\n",
      "3946/3946 [==============================] - 0s 71us/step - loss: 1.2861 - acc: 0.3989\n",
      "Epoch 14/200\n",
      "3946/3946 [==============================] - 0s 73us/step - loss: 1.2846 - acc: 0.3928\n",
      "Epoch 15/200\n",
      "3946/3946 [==============================] - 0s 74us/step - loss: 1.2824 - acc: 0.3999\n",
      "Epoch 16/200\n",
      "3946/3946 [==============================] - 0s 72us/step - loss: 1.2809 - acc: 0.4029\n",
      "Epoch 17/200\n",
      "3946/3946 [==============================] - 0s 71us/step - loss: 1.2788 - acc: 0.4037\n",
      "Epoch 18/200\n",
      "3946/3946 [==============================] - 0s 74us/step - loss: 1.2790 - acc: 0.3931\n",
      "Epoch 19/200\n",
      "3946/3946 [==============================] - 0s 65us/step - loss: 1.2762 - acc: 0.4042\n",
      "Epoch 20/200\n",
      "3946/3946 [==============================] - 0s 60us/step - loss: 1.2734 - acc: 0.4050\n",
      "Epoch 21/200\n",
      "3946/3946 [==============================] - 0s 57us/step - loss: 1.2729 - acc: 0.4067\n",
      "Epoch 22/200\n",
      "3946/3946 [==============================] - 0s 72us/step - loss: 1.2697 - acc: 0.4067\n",
      "Epoch 23/200\n",
      "3946/3946 [==============================] - 0s 65us/step - loss: 1.2675 - acc: 0.4088\n",
      "Epoch 24/200\n",
      "3946/3946 [==============================] - 0s 72us/step - loss: 1.2667 - acc: 0.4098\n",
      "Epoch 25/200\n",
      "3946/3946 [==============================] - 0s 68us/step - loss: 1.2641 - acc: 0.4110\n",
      "Epoch 26/200\n",
      "3946/3946 [==============================] - 0s 69us/step - loss: 1.2625 - acc: 0.4123\n",
      "Epoch 27/200\n",
      "3946/3946 [==============================] - 0s 73us/step - loss: 1.2627 - acc: 0.4156\n",
      "Epoch 28/200\n",
      "3946/3946 [==============================] - 0s 69us/step - loss: 1.2587 - acc: 0.4110\n",
      "Epoch 29/200\n",
      "3946/3946 [==============================] - 0s 75us/step - loss: 1.2594 - acc: 0.4184\n",
      "Epoch 30/200\n",
      "3946/3946 [==============================] - 0s 55us/step - loss: 1.2580 - acc: 0.4171\n",
      "Epoch 31/200\n",
      "3946/3946 [==============================] - 0s 60us/step - loss: 1.2540 - acc: 0.4149\n",
      "Epoch 32/200\n",
      "3946/3946 [==============================] - 0s 74us/step - loss: 1.2532 - acc: 0.4204\n",
      "Epoch 33/200\n",
      "3946/3946 [==============================] - 0s 72us/step - loss: 1.2500 - acc: 0.4171\n",
      "Epoch 34/200\n",
      "3946/3946 [==============================] - 0s 74us/step - loss: 1.2511 - acc: 0.4303\n",
      "Epoch 35/200\n",
      "3946/3946 [==============================] - 0s 71us/step - loss: 1.2496 - acc: 0.4199\n",
      "Epoch 36/200\n",
      "3946/3946 [==============================] - 0s 68us/step - loss: 1.2466 - acc: 0.4202\n",
      "Epoch 37/200\n",
      "3946/3946 [==============================] - 0s 73us/step - loss: 1.2481 - acc: 0.4217\n",
      "Epoch 38/200\n",
      "3946/3946 [==============================] - 0s 76us/step - loss: 1.2439 - acc: 0.4242\n",
      "Epoch 39/200\n",
      "3946/3946 [==============================] - 0s 65us/step - loss: 1.2415 - acc: 0.4270\n",
      "Epoch 40/200\n",
      "3946/3946 [==============================] - 0s 71us/step - loss: 1.2411 - acc: 0.4245\n",
      "Epoch 41/200\n",
      "3946/3946 [==============================] - 0s 67us/step - loss: 1.2386 - acc: 0.4283\n",
      "Epoch 42/200\n",
      "3946/3946 [==============================] - 0s 72us/step - loss: 1.2385 - acc: 0.4293\n",
      "Epoch 43/200\n",
      "3946/3946 [==============================] - 0s 70us/step - loss: 1.2352 - acc: 0.4311\n",
      "Epoch 44/200\n",
      "3946/3946 [==============================] - 0s 74us/step - loss: 1.2354 - acc: 0.4336\n",
      "Epoch 45/200\n",
      "3946/3946 [==============================] - 0s 75us/step - loss: 1.2347 - acc: 0.4326\n",
      "Epoch 46/200\n",
      "3946/3946 [==============================] - 0s 60us/step - loss: 1.2328 - acc: 0.4311\n",
      "Epoch 47/200\n",
      "3946/3946 [==============================] - 0s 74us/step - loss: 1.2351 - acc: 0.4293\n",
      "Epoch 48/200\n",
      "3946/3946 [==============================] - 0s 75us/step - loss: 1.2339 - acc: 0.4339\n",
      "Epoch 49/200\n",
      "3946/3946 [==============================] - 0s 61us/step - loss: 1.2300 - acc: 0.4354\n",
      "Epoch 50/200\n",
      "3946/3946 [==============================] - 0s 73us/step - loss: 1.2288 - acc: 0.4372\n",
      "Epoch 51/200\n",
      "3946/3946 [==============================] - 0s 74us/step - loss: 1.2265 - acc: 0.4288\n",
      "Epoch 52/200\n",
      "3946/3946 [==============================] - 0s 72us/step - loss: 1.2249 - acc: 0.4498\n",
      "Epoch 53/200\n",
      "3946/3946 [==============================] - 0s 65us/step - loss: 1.2227 - acc: 0.4397\n",
      "Epoch 54/200\n",
      "3946/3946 [==============================] - 0s 79us/step - loss: 1.2224 - acc: 0.4412\n",
      "Epoch 55/200\n",
      "3946/3946 [==============================] - 0s 71us/step - loss: 1.2224 - acc: 0.4417\n",
      "Epoch 56/200\n",
      "3946/3946 [==============================] - 0s 65us/step - loss: 1.2208 - acc: 0.4437\n",
      "Epoch 57/200\n",
      "3946/3946 [==============================] - 0s 70us/step - loss: 1.2180 - acc: 0.4389\n",
      "Epoch 58/200\n",
      "3946/3946 [==============================] - 0s 69us/step - loss: 1.2190 - acc: 0.4430\n",
      "Epoch 59/200\n",
      "3946/3946 [==============================] - 0s 61us/step - loss: 1.2170 - acc: 0.4458\n",
      "Epoch 60/200\n",
      "3946/3946 [==============================] - 0s 66us/step - loss: 1.2146 - acc: 0.4404\n",
      "Epoch 61/200\n",
      "3946/3946 [==============================] - 0s 72us/step - loss: 1.2128 - acc: 0.4369\n",
      "Epoch 62/200\n",
      "3946/3946 [==============================] - 0s 56us/step - loss: 1.2134 - acc: 0.4404\n",
      "Epoch 63/200\n",
      "3946/3946 [==============================] - 0s 76us/step - loss: 1.2119 - acc: 0.4450\n",
      "Epoch 64/200\n",
      "3946/3946 [==============================] - 0s 61us/step - loss: 1.2094 - acc: 0.4455\n",
      "Epoch 65/200\n",
      "3946/3946 [==============================] - 0s 57us/step - loss: 1.2102 - acc: 0.4432\n",
      "Epoch 66/200\n",
      "3946/3946 [==============================] - 0s 56us/step - loss: 1.2095 - acc: 0.4404\n",
      "Epoch 67/200\n",
      "3946/3946 [==============================] - 0s 65us/step - loss: 1.2082 - acc: 0.4412\n",
      "Epoch 68/200\n",
      "3946/3946 [==============================] - 0s 69us/step - loss: 1.2076 - acc: 0.4402\n",
      "Epoch 69/200\n",
      "3946/3946 [==============================] - 0s 68us/step - loss: 1.2057 - acc: 0.4475\n",
      "Epoch 70/200\n",
      "3946/3946 [==============================] - 0s 64us/step - loss: 1.2026 - acc: 0.4501\n",
      "Epoch 71/200\n",
      "3946/3946 [==============================] - 0s 74us/step - loss: 1.2052 - acc: 0.4460\n",
      "Epoch 72/200\n",
      "3946/3946 [==============================] - 0s 56us/step - loss: 1.2031 - acc: 0.4536\n",
      "Epoch 73/200\n",
      "3946/3946 [==============================] - 0s 69us/step - loss: 1.2018 - acc: 0.4610\n",
      "Epoch 74/200\n",
      "3946/3946 [==============================] - 0s 74us/step - loss: 1.1979 - acc: 0.4493\n",
      "Epoch 75/200\n",
      "3946/3946 [==============================] - 0s 80us/step - loss: 1.1967 - acc: 0.4526\n",
      "Epoch 76/200\n",
      "3946/3946 [==============================] - 0s 69us/step - loss: 1.1988 - acc: 0.4465\n",
      "Epoch 77/200\n",
      "3946/3946 [==============================] - 0s 70us/step - loss: 1.1982 - acc: 0.4488\n",
      "Epoch 78/200\n",
      "3946/3946 [==============================] - 0s 57us/step - loss: 1.1962 - acc: 0.4592\n",
      "Epoch 79/200\n",
      "3946/3946 [==============================] - 0s 62us/step - loss: 1.1943 - acc: 0.4508\n",
      "Epoch 80/200\n",
      "3946/3946 [==============================] - 0s 55us/step - loss: 1.1942 - acc: 0.4655\n",
      "Epoch 81/200\n",
      "3946/3946 [==============================] - 0s 62us/step - loss: 1.1944 - acc: 0.4511\n",
      "Epoch 82/200\n",
      "3946/3946 [==============================] - 0s 70us/step - loss: 1.1913 - acc: 0.4554\n",
      "Epoch 83/200\n",
      "3946/3946 [==============================] - 0s 80us/step - loss: 1.1887 - acc: 0.4610\n",
      "Epoch 84/200\n",
      "3946/3946 [==============================] - 0s 73us/step - loss: 1.1901 - acc: 0.4600\n",
      "Epoch 85/200\n",
      "3946/3946 [==============================] - 0s 77us/step - loss: 1.1917 - acc: 0.4541\n",
      "Epoch 86/200\n",
      "3946/3946 [==============================] - 0s 69us/step - loss: 1.1879 - acc: 0.4627\n",
      "Epoch 87/200\n",
      "3946/3946 [==============================] - 0s 76us/step - loss: 1.1886 - acc: 0.4653\n",
      "Epoch 88/200\n",
      "3946/3946 [==============================] - 0s 73us/step - loss: 1.1867 - acc: 0.4539\n",
      "Epoch 89/200\n",
      "3946/3946 [==============================] - 0s 75us/step - loss: 1.1869 - acc: 0.4584\n",
      "Epoch 90/200\n",
      "3946/3946 [==============================] - 0s 74us/step - loss: 1.1849 - acc: 0.4597\n",
      "Epoch 91/200\n",
      "3946/3946 [==============================] - 0s 74us/step - loss: 1.1818 - acc: 0.4658\n",
      "Epoch 92/200\n",
      "3946/3946 [==============================] - 0s 76us/step - loss: 1.1821 - acc: 0.4627\n",
      "Epoch 93/200\n",
      "3946/3946 [==============================] - 0s 72us/step - loss: 1.1816 - acc: 0.4589\n",
      "Epoch 94/200\n",
      "3946/3946 [==============================] - 0s 76us/step - loss: 1.1803 - acc: 0.4597\n",
      "Epoch 95/200\n",
      "3946/3946 [==============================] - 0s 72us/step - loss: 1.1771 - acc: 0.4671\n",
      "Epoch 96/200\n",
      "3946/3946 [==============================] - 0s 73us/step - loss: 1.1794 - acc: 0.4650\n",
      "Epoch 97/200\n",
      "3946/3946 [==============================] - 0s 76us/step - loss: 1.1782 - acc: 0.4648\n",
      "Epoch 98/200\n",
      "3946/3946 [==============================] - 0s 74us/step - loss: 1.1778 - acc: 0.4698\n",
      "Epoch 99/200\n",
      "3946/3946 [==============================] - 0s 73us/step - loss: 1.1765 - acc: 0.4551\n",
      "Epoch 100/200\n",
      "3946/3946 [==============================] - 0s 64us/step - loss: 1.1708 - acc: 0.4724\n",
      "Epoch 101/200\n",
      "3946/3946 [==============================] - 0s 71us/step - loss: 1.1686 - acc: 0.4688\n",
      "Epoch 102/200\n",
      "3946/3946 [==============================] - 0s 70us/step - loss: 1.1740 - acc: 0.4648\n",
      "Epoch 103/200\n",
      "3946/3946 [==============================] - 0s 72us/step - loss: 1.1751 - acc: 0.4620\n",
      "Epoch 104/200\n",
      "3946/3946 [==============================] - 0s 72us/step - loss: 1.1725 - acc: 0.4648\n",
      "Epoch 105/200\n",
      "3946/3946 [==============================] - 0s 74us/step - loss: 1.1710 - acc: 0.4653\n",
      "Epoch 106/200\n",
      "3946/3946 [==============================] - 0s 72us/step - loss: 1.1721 - acc: 0.4714\n",
      "Epoch 107/200\n",
      "3946/3946 [==============================] - 0s 76us/step - loss: 1.1686 - acc: 0.4617\n",
      "Epoch 108/200\n",
      "3946/3946 [==============================] - 0s 73us/step - loss: 1.1704 - acc: 0.4711\n",
      "Epoch 109/200\n",
      "3946/3946 [==============================] - 0s 75us/step - loss: 1.1677 - acc: 0.4678\n",
      "Epoch 110/200\n",
      "3946/3946 [==============================] - 0s 72us/step - loss: 1.1670 - acc: 0.4691\n",
      "Epoch 111/200\n",
      "3946/3946 [==============================] - 0s 72us/step - loss: 1.1654 - acc: 0.4805\n",
      "Epoch 112/200\n",
      "3946/3946 [==============================] - 0s 72us/step - loss: 1.1673 - acc: 0.4736\n",
      "Epoch 113/200\n",
      "3946/3946 [==============================] - 0s 74us/step - loss: 1.1667 - acc: 0.4627\n",
      "Epoch 114/200\n",
      "3946/3946 [==============================] - 0s 66us/step - loss: 1.1678 - acc: 0.4663\n",
      "Epoch 115/200\n",
      "3946/3946 [==============================] - 0s 71us/step - loss: 1.1650 - acc: 0.4736\n",
      "Epoch 116/200\n",
      "3946/3946 [==============================] - 0s 70us/step - loss: 1.1584 - acc: 0.4800\n",
      "Epoch 117/200\n",
      "3946/3946 [==============================] - 0s 69us/step - loss: 1.1634 - acc: 0.4607\n",
      "Epoch 118/200\n",
      "3946/3946 [==============================] - 0s 72us/step - loss: 1.1617 - acc: 0.4736\n",
      "Epoch 119/200\n",
      "3946/3946 [==============================] - 0s 72us/step - loss: 1.1590 - acc: 0.4749\n",
      "Epoch 120/200\n",
      "3946/3946 [==============================] - 0s 72us/step - loss: 1.1598 - acc: 0.4693\n",
      "Epoch 121/200\n",
      "3946/3946 [==============================] - 0s 69us/step - loss: 1.1633 - acc: 0.4660\n",
      "Epoch 122/200\n",
      "3946/3946 [==============================] - 0s 73us/step - loss: 1.1640 - acc: 0.4726\n",
      "Epoch 123/200\n",
      "3946/3946 [==============================] - 0s 73us/step - loss: 1.1556 - acc: 0.4754\n",
      "Epoch 124/200\n",
      "3946/3946 [==============================] - 0s 72us/step - loss: 1.1590 - acc: 0.4744\n",
      "Epoch 125/200\n",
      "3946/3946 [==============================] - 0s 69us/step - loss: 1.1521 - acc: 0.4767\n",
      "Epoch 126/200\n",
      "3946/3946 [==============================] - 0s 71us/step - loss: 1.1574 - acc: 0.4742\n",
      "Epoch 127/200\n",
      "3946/3946 [==============================] - 0s 71us/step - loss: 1.1563 - acc: 0.4698\n",
      "Epoch 128/200\n",
      "3946/3946 [==============================] - 0s 72us/step - loss: 1.1556 - acc: 0.4714\n",
      "Epoch 129/200\n",
      "3946/3946 [==============================] - 0s 67us/step - loss: 1.1511 - acc: 0.4764\n",
      "Epoch 130/200\n",
      "3946/3946 [==============================] - 0s 69us/step - loss: 1.1520 - acc: 0.4747\n",
      "Epoch 131/200\n",
      "3946/3946 [==============================] - 0s 72us/step - loss: 1.1528 - acc: 0.4762\n",
      "Epoch 132/200\n",
      "3946/3946 [==============================] - 0s 71us/step - loss: 1.1496 - acc: 0.4759\n",
      "Epoch 133/200\n",
      "3946/3946 [==============================] - 0s 72us/step - loss: 1.1509 - acc: 0.4655\n",
      "Epoch 134/200\n",
      "3946/3946 [==============================] - 0s 73us/step - loss: 1.1527 - acc: 0.4729\n",
      "Epoch 135/200\n",
      "3946/3946 [==============================] - 0s 63us/step - loss: 1.1487 - acc: 0.4769\n",
      "Epoch 136/200\n",
      "3946/3946 [==============================] - 0s 71us/step - loss: 1.1484 - acc: 0.4780\n",
      "Epoch 137/200\n",
      "3946/3946 [==============================] - 0s 67us/step - loss: 1.1455 - acc: 0.4780\n",
      "Epoch 138/200\n",
      "3946/3946 [==============================] - 0s 68us/step - loss: 1.1526 - acc: 0.4815\n",
      "Epoch 139/200\n",
      "3946/3946 [==============================] - 0s 71us/step - loss: 1.1473 - acc: 0.4792\n",
      "Epoch 140/200\n",
      "3946/3946 [==============================] - 0s 72us/step - loss: 1.1450 - acc: 0.4739\n",
      "Epoch 141/200\n",
      "3946/3946 [==============================] - 0s 74us/step - loss: 1.1442 - acc: 0.4764\n",
      "Epoch 142/200\n",
      "3946/3946 [==============================] - 0s 73us/step - loss: 1.1434 - acc: 0.4782\n",
      "Epoch 143/200\n",
      "3946/3946 [==============================] - 0s 65us/step - loss: 1.1444 - acc: 0.4780\n",
      "Epoch 144/200\n",
      "3946/3946 [==============================] - 0s 59us/step - loss: 1.1434 - acc: 0.4767\n",
      "Epoch 145/200\n",
      "3946/3946 [==============================] - 0s 68us/step - loss: 1.1426 - acc: 0.4772\n",
      "Epoch 146/200\n",
      "3946/3946 [==============================] - 0s 74us/step - loss: 1.1408 - acc: 0.4785\n",
      "Epoch 147/200\n",
      "3946/3946 [==============================] - 0s 67us/step - loss: 1.1414 - acc: 0.4790\n",
      "Epoch 148/200\n",
      "3946/3946 [==============================] - 0s 73us/step - loss: 1.1397 - acc: 0.4866\n",
      "Epoch 149/200\n",
      "3946/3946 [==============================] - 0s 68us/step - loss: 1.1407 - acc: 0.4774\n",
      "Epoch 150/200\n",
      "3946/3946 [==============================] - 0s 73us/step - loss: 1.1397 - acc: 0.4774\n",
      "Epoch 151/200\n",
      "3946/3946 [==============================] - 0s 65us/step - loss: 1.1377 - acc: 0.4830\n",
      "Epoch 152/200\n",
      "3946/3946 [==============================] - 0s 57us/step - loss: 1.1376 - acc: 0.4792\n",
      "Epoch 153/200\n",
      "3946/3946 [==============================] - 0s 73us/step - loss: 1.1397 - acc: 0.4830\n",
      "Epoch 154/200\n",
      "3946/3946 [==============================] - 0s 72us/step - loss: 1.1354 - acc: 0.4785\n",
      "Epoch 155/200\n",
      "3946/3946 [==============================] - 0s 77us/step - loss: 1.1373 - acc: 0.4812\n",
      "Epoch 156/200\n",
      "3946/3946 [==============================] - 0s 57us/step - loss: 1.1374 - acc: 0.4747\n",
      "Epoch 157/200\n",
      "3946/3946 [==============================] - 0s 66us/step - loss: 1.1329 - acc: 0.4845\n",
      "Epoch 158/200\n",
      "3946/3946 [==============================] - 0s 61us/step - loss: 1.1331 - acc: 0.4840\n",
      "Epoch 159/200\n",
      "3946/3946 [==============================] - 0s 75us/step - loss: 1.1380 - acc: 0.4838\n",
      "Epoch 160/200\n",
      "3946/3946 [==============================] - 0s 62us/step - loss: 1.1315 - acc: 0.4802\n",
      "Epoch 161/200\n",
      "3946/3946 [==============================] - 0s 73us/step - loss: 1.1339 - acc: 0.4785\n",
      "Epoch 162/200\n",
      "3946/3946 [==============================] - 0s 61us/step - loss: 1.1322 - acc: 0.4845\n",
      "Epoch 163/200\n"
     ]
    },
    {
     "name": "stdout",
     "output_type": "stream",
     "text": [
      "3946/3946 [==============================] - 0s 67us/step - loss: 1.1368 - acc: 0.4807\n",
      "Epoch 164/200\n",
      "3946/3946 [==============================] - 0s 72us/step - loss: 1.1306 - acc: 0.4883\n",
      "Epoch 165/200\n",
      "3946/3946 [==============================] - 0s 71us/step - loss: 1.1301 - acc: 0.4787\n",
      "Epoch 166/200\n",
      "3946/3946 [==============================] - 0s 70us/step - loss: 1.1299 - acc: 0.4894\n",
      "Epoch 167/200\n",
      "3946/3946 [==============================] - 0s 71us/step - loss: 1.1308 - acc: 0.4856\n",
      "Epoch 168/200\n",
      "3946/3946 [==============================] - 0s 72us/step - loss: 1.1298 - acc: 0.4838\n",
      "Epoch 169/200\n",
      "3946/3946 [==============================] - 0s 73us/step - loss: 1.1287 - acc: 0.4904\n",
      "Epoch 170/200\n",
      "3946/3946 [==============================] - 0s 72us/step - loss: 1.1273 - acc: 0.4881\n",
      "Epoch 171/200\n",
      "3946/3946 [==============================] - 0s 71us/step - loss: 1.1251 - acc: 0.4823\n",
      "Epoch 172/200\n",
      "3946/3946 [==============================] - 0s 72us/step - loss: 1.1306 - acc: 0.4790\n",
      "Epoch 173/200\n",
      "3946/3946 [==============================] - 0s 73us/step - loss: 1.1235 - acc: 0.4927\n",
      "Epoch 174/200\n",
      "3946/3946 [==============================] - 0s 73us/step - loss: 1.1266 - acc: 0.4823\n",
      "Epoch 175/200\n",
      "3946/3946 [==============================] - 0s 77us/step - loss: 1.1265 - acc: 0.4886\n",
      "Epoch 176/200\n",
      "3946/3946 [==============================] - 0s 72us/step - loss: 1.1270 - acc: 0.4929\n",
      "Epoch 177/200\n",
      "3946/3946 [==============================] - 0s 72us/step - loss: 1.1265 - acc: 0.4871\n",
      "Epoch 178/200\n",
      "3946/3946 [==============================] - 0s 71us/step - loss: 1.1250 - acc: 0.4888\n",
      "Epoch 179/200\n",
      "3946/3946 [==============================] - 0s 72us/step - loss: 1.1248 - acc: 0.4850\n",
      "Epoch 180/200\n",
      "3946/3946 [==============================] - 0s 72us/step - loss: 1.1261 - acc: 0.4812\n",
      "Epoch 181/200\n",
      "3946/3946 [==============================] - 0s 73us/step - loss: 1.1206 - acc: 0.4924\n",
      "Epoch 182/200\n",
      "3946/3946 [==============================] - 0s 72us/step - loss: 1.1216 - acc: 0.4873\n",
      "Epoch 183/200\n",
      "3946/3946 [==============================] - 0s 73us/step - loss: 1.1186 - acc: 0.4861\n",
      "Epoch 184/200\n",
      "3946/3946 [==============================] - 0s 72us/step - loss: 1.1176 - acc: 0.4987\n",
      "Epoch 185/200\n",
      "3946/3946 [==============================] - 0s 71us/step - loss: 1.1210 - acc: 0.4871\n",
      "Epoch 186/200\n",
      "3946/3946 [==============================] - 0s 70us/step - loss: 1.1198 - acc: 0.4866\n",
      "Epoch 187/200\n",
      "3946/3946 [==============================] - 0s 73us/step - loss: 1.1191 - acc: 0.4876\n",
      "Epoch 188/200\n",
      "3946/3946 [==============================] - 0s 71us/step - loss: 1.1171 - acc: 0.4843\n",
      "Epoch 189/200\n",
      "3946/3946 [==============================] - 0s 73us/step - loss: 1.1168 - acc: 0.4881\n",
      "Epoch 190/200\n",
      "3946/3946 [==============================] - 0s 73us/step - loss: 1.1146 - acc: 0.4901\n",
      "Epoch 191/200\n",
      "3946/3946 [==============================] - 0s 71us/step - loss: 1.1173 - acc: 0.4899\n",
      "Epoch 192/200\n",
      "3946/3946 [==============================] - 0s 71us/step - loss: 1.1136 - acc: 0.4972\n",
      "Epoch 193/200\n",
      "3946/3946 [==============================] - 0s 74us/step - loss: 1.1158 - acc: 0.4962\n",
      "Epoch 194/200\n",
      "3946/3946 [==============================] - 0s 76us/step - loss: 1.1186 - acc: 0.4833\n",
      "Epoch 195/200\n",
      "3946/3946 [==============================] - 0s 72us/step - loss: 1.1135 - acc: 0.4876\n",
      "Epoch 196/200\n",
      "3946/3946 [==============================] - 0s 72us/step - loss: 1.1106 - acc: 0.4878\n",
      "Epoch 197/200\n",
      "3946/3946 [==============================] - 0s 71us/step - loss: 1.1148 - acc: 0.4921\n",
      "Epoch 198/200\n",
      "3946/3946 [==============================] - 0s 72us/step - loss: 1.1152 - acc: 0.4899\n",
      "Epoch 199/200\n",
      "3946/3946 [==============================] - 0s 71us/step - loss: 1.1170 - acc: 0.4825\n",
      "Epoch 200/200\n",
      "3946/3946 [==============================] - 0s 72us/step - loss: 1.1096 - acc: 0.4990\n"
     ]
    },
    {
     "data": {
      "text/plain": [
       "<tensorflow.python.keras.callbacks.History at 0x21f981235c0>"
      ]
     },
     "execution_count": 90,
     "metadata": {},
     "output_type": "execute_result"
    }
   ],
   "source": [
    "#Fitting the ANN to the traning set\n",
    "model.fit(X_train,y_train,batch_size=20 ,nb_epoch=200)"
   ]
  },
  {
   "cell_type": "code",
   "execution_count": 91,
   "metadata": {},
   "outputs": [],
   "source": [
    "y_pred = model.predict(X_test)"
   ]
  },
  {
   "cell_type": "code",
   "execution_count": 92,
   "metadata": {},
   "outputs": [
    {
     "name": "stdout",
     "output_type": "stream",
     "text": [
      "3\n"
     ]
    }
   ],
   "source": [
    "labels_pred = []\n",
    "for item in y_pred:\n",
    "    labels_pred.append(np.argmax(item))\n",
    "labels_pred = np.array(labels_pred)\n",
    "print(labels_pred[0])"
   ]
  },
  {
   "cell_type": "code",
   "execution_count": 93,
   "metadata": {},
   "outputs": [
    {
     "name": "stdout",
     "output_type": "stream",
     "text": [
      "1\n"
     ]
    }
   ],
   "source": [
    "labels_test = []\n",
    "for item in y_test:\n",
    "    labels_test.append(np.argmax(item))\n",
    "labels_test = np.array(labels_test)\n",
    "print(labels_test[0])"
   ]
  },
  {
   "cell_type": "code",
   "execution_count": 94,
   "metadata": {},
   "outputs": [
    {
     "data": {
      "text/plain": [
       "0.29048843187660667"
      ]
     },
     "execution_count": 94,
     "metadata": {},
     "output_type": "execute_result"
    }
   ],
   "source": [
    "accuracy_score(labels_test, labels_pred)"
   ]
  },
  {
   "cell_type": "code",
   "execution_count": 108,
   "metadata": {},
   "outputs": [
    {
     "name": "stdout",
     "output_type": "stream",
     "text": [
      "3946\n",
      "1945\n"
     ]
    }
   ],
   "source": [
    "y = labels\n",
    "X_train, X_test, y_train, y_test = train_test_split(X_norm, y, test_size=0.33, random_state=42)\n",
    "print(len(X_train))\n",
    "print(len(X_test))"
   ]
  },
  {
   "cell_type": "code",
   "execution_count": 109,
   "metadata": {},
   "outputs": [],
   "source": [
    "from sklearn.neighbors import KNeighborsClassifier"
   ]
  },
  {
   "cell_type": "code",
   "execution_count": 110,
   "metadata": {},
   "outputs": [],
   "source": [
    "knn = KNeighborsClassifier(n_neighbors=3)"
   ]
  },
  {
   "cell_type": "code",
   "execution_count": 111,
   "metadata": {},
   "outputs": [
    {
     "data": {
      "text/plain": [
       "KNeighborsClassifier(algorithm='auto', leaf_size=30, metric='minkowski',\n",
       "           metric_params=None, n_jobs=1, n_neighbors=3, p=2,\n",
       "           weights='uniform')"
      ]
     },
     "execution_count": 111,
     "metadata": {},
     "output_type": "execute_result"
    }
   ],
   "source": [
    "knn.fit(X_train, y_train)"
   ]
  },
  {
   "cell_type": "code",
   "execution_count": 112,
   "metadata": {},
   "outputs": [],
   "source": [
    "y_pred = knn.predict(X_test)"
   ]
  },
  {
   "cell_type": "code",
   "execution_count": 113,
   "metadata": {},
   "outputs": [
    {
     "data": {
      "text/plain": [
       "0.30231362467866324"
      ]
     },
     "execution_count": 113,
     "metadata": {},
     "output_type": "execute_result"
    }
   ],
   "source": [
    "accuracy_score(y_pred, y_test)"
   ]
  },
  {
   "cell_type": "code",
   "execution_count": null,
   "metadata": {},
   "outputs": [],
   "source": []
  }
 ],
 "metadata": {
  "kernelspec": {
   "display_name": "Python 3",
   "language": "python",
   "name": "python3"
  },
  "language_info": {
   "codemirror_mode": {
    "name": "ipython",
    "version": 3
   },
   "file_extension": ".py",
   "mimetype": "text/x-python",
   "name": "python",
   "nbconvert_exporter": "python",
   "pygments_lexer": "ipython3",
   "version": "3.6.5"
  }
 },
 "nbformat": 4,
 "nbformat_minor": 2
}
